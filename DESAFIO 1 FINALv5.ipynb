{
 "cells": [
  {
   "cell_type": "markdown",
   "id": "comparable-stage",
   "metadata": {},
   "source": [
    "# Importamos librerías y cargamos la base de datos para comenzar a analizar"
   ]
  },
  {
   "cell_type": "code",
   "execution_count": 1,
   "id": "casual-designer",
   "metadata": {},
   "outputs": [],
   "source": [
    "import pandas as pd\n",
    "import numpy as np\n",
    "import re\n",
    "from matplotlib import pyplot as plt\n",
    "import seaborn as sns"
   ]
  },
  {
   "cell_type": "code",
   "execution_count": 2,
   "id": "expensive-grave",
   "metadata": {},
   "outputs": [],
   "source": [
    "data = pd.read_csv('properatti.csv', index_col='Unnamed: 0')"
   ]
  },
  {
   "cell_type": "code",
   "execution_count": 3,
   "id": "committed-departure",
   "metadata": {},
   "outputs": [
    {
     "data": {
      "text/html": [
       "<div>\n",
       "<style scoped>\n",
       "    .dataframe tbody tr th:only-of-type {\n",
       "        vertical-align: middle;\n",
       "    }\n",
       "\n",
       "    .dataframe tbody tr th {\n",
       "        vertical-align: top;\n",
       "    }\n",
       "\n",
       "    .dataframe thead th {\n",
       "        text-align: right;\n",
       "    }\n",
       "</style>\n",
       "<table border=\"1\" class=\"dataframe\">\n",
       "  <thead>\n",
       "    <tr style=\"text-align: right;\">\n",
       "      <th></th>\n",
       "      <th>operation</th>\n",
       "      <th>property_type</th>\n",
       "      <th>place_name</th>\n",
       "      <th>place_with_parent_names</th>\n",
       "      <th>country_name</th>\n",
       "      <th>state_name</th>\n",
       "      <th>geonames_id</th>\n",
       "      <th>lat-lon</th>\n",
       "      <th>lat</th>\n",
       "      <th>lon</th>\n",
       "      <th>...</th>\n",
       "      <th>surface_covered_in_m2</th>\n",
       "      <th>price_usd_per_m2</th>\n",
       "      <th>price_per_m2</th>\n",
       "      <th>floor</th>\n",
       "      <th>rooms</th>\n",
       "      <th>expenses</th>\n",
       "      <th>properati_url</th>\n",
       "      <th>description</th>\n",
       "      <th>title</th>\n",
       "      <th>image_thumbnail</th>\n",
       "    </tr>\n",
       "  </thead>\n",
       "  <tbody>\n",
       "    <tr>\n",
       "      <th>0</th>\n",
       "      <td>sell</td>\n",
       "      <td>PH</td>\n",
       "      <td>Mataderos</td>\n",
       "      <td>|Argentina|Capital Federal|Mataderos|</td>\n",
       "      <td>Argentina</td>\n",
       "      <td>Capital Federal</td>\n",
       "      <td>3430787.0</td>\n",
       "      <td>-34.6618237,-58.5088387</td>\n",
       "      <td>-34.661824</td>\n",
       "      <td>-58.508839</td>\n",
       "      <td>...</td>\n",
       "      <td>40.0</td>\n",
       "      <td>1127.272727</td>\n",
       "      <td>1550.000000</td>\n",
       "      <td>NaN</td>\n",
       "      <td>NaN</td>\n",
       "      <td>NaN</td>\n",
       "      <td>http://www.properati.com.ar/15bo8_venta_ph_mat...</td>\n",
       "      <td>2 AMBIENTES TIPO CASA PLANTA BAJA POR PASILLO,...</td>\n",
       "      <td>2 AMB TIPO CASA SIN EXPENSAS EN PB</td>\n",
       "      <td>https://thumbs4.properati.com/8/BluUYiHJLhgIIK...</td>\n",
       "    </tr>\n",
       "    <tr>\n",
       "      <th>1</th>\n",
       "      <td>sell</td>\n",
       "      <td>apartment</td>\n",
       "      <td>La Plata</td>\n",
       "      <td>|Argentina|Bs.As. G.B.A. Zona Sur|La Plata|</td>\n",
       "      <td>Argentina</td>\n",
       "      <td>Bs.As. G.B.A. Zona Sur</td>\n",
       "      <td>3432039.0</td>\n",
       "      <td>-34.9038831,-57.9643295</td>\n",
       "      <td>-34.903883</td>\n",
       "      <td>-57.964330</td>\n",
       "      <td>...</td>\n",
       "      <td>NaN</td>\n",
       "      <td>NaN</td>\n",
       "      <td>NaN</td>\n",
       "      <td>NaN</td>\n",
       "      <td>NaN</td>\n",
       "      <td>NaN</td>\n",
       "      <td>http://www.properati.com.ar/15bob_venta_depart...</td>\n",
       "      <td>Venta de departamento en décimo piso al frente...</td>\n",
       "      <td>VENTA Depto 2 dorm. a estrenar 7 e/ 36 y 37   ...</td>\n",
       "      <td>https://thumbs4.properati.com/7/ikpVBu2ztHA7jv...</td>\n",
       "    </tr>\n",
       "    <tr>\n",
       "      <th>2</th>\n",
       "      <td>sell</td>\n",
       "      <td>apartment</td>\n",
       "      <td>Mataderos</td>\n",
       "      <td>|Argentina|Capital Federal|Mataderos|</td>\n",
       "      <td>Argentina</td>\n",
       "      <td>Capital Federal</td>\n",
       "      <td>3430787.0</td>\n",
       "      <td>-34.6522615,-58.5229825</td>\n",
       "      <td>-34.652262</td>\n",
       "      <td>-58.522982</td>\n",
       "      <td>...</td>\n",
       "      <td>55.0</td>\n",
       "      <td>1309.090909</td>\n",
       "      <td>1309.090909</td>\n",
       "      <td>NaN</td>\n",
       "      <td>NaN</td>\n",
       "      <td>NaN</td>\n",
       "      <td>http://www.properati.com.ar/15bod_venta_depart...</td>\n",
       "      <td>2 AMBIENTES 3ER PISO LATERAL LIVING COMEDOR AM...</td>\n",
       "      <td>2 AMB 3ER PISO CON ASCENSOR APTO CREDITO</td>\n",
       "      <td>https://thumbs4.properati.com/5/SXKr34F_IwG3W_...</td>\n",
       "    </tr>\n",
       "  </tbody>\n",
       "</table>\n",
       "<p>3 rows × 25 columns</p>\n",
       "</div>"
      ],
      "text/plain": [
       "  operation property_type place_name  \\\n",
       "0      sell            PH  Mataderos   \n",
       "1      sell     apartment   La Plata   \n",
       "2      sell     apartment  Mataderos   \n",
       "\n",
       "                       place_with_parent_names country_name  \\\n",
       "0        |Argentina|Capital Federal|Mataderos|    Argentina   \n",
       "1  |Argentina|Bs.As. G.B.A. Zona Sur|La Plata|    Argentina   \n",
       "2        |Argentina|Capital Federal|Mataderos|    Argentina   \n",
       "\n",
       "               state_name  geonames_id                  lat-lon        lat  \\\n",
       "0         Capital Federal    3430787.0  -34.6618237,-58.5088387 -34.661824   \n",
       "1  Bs.As. G.B.A. Zona Sur    3432039.0  -34.9038831,-57.9643295 -34.903883   \n",
       "2         Capital Federal    3430787.0  -34.6522615,-58.5229825 -34.652262   \n",
       "\n",
       "         lon  ...  surface_covered_in_m2 price_usd_per_m2  price_per_m2  \\\n",
       "0 -58.508839  ...                   40.0      1127.272727   1550.000000   \n",
       "1 -57.964330  ...                    NaN              NaN           NaN   \n",
       "2 -58.522982  ...                   55.0      1309.090909   1309.090909   \n",
       "\n",
       "   floor  rooms  expenses                                      properati_url  \\\n",
       "0    NaN    NaN       NaN  http://www.properati.com.ar/15bo8_venta_ph_mat...   \n",
       "1    NaN    NaN       NaN  http://www.properati.com.ar/15bob_venta_depart...   \n",
       "2    NaN    NaN       NaN  http://www.properati.com.ar/15bod_venta_depart...   \n",
       "\n",
       "                                         description  \\\n",
       "0  2 AMBIENTES TIPO CASA PLANTA BAJA POR PASILLO,...   \n",
       "1  Venta de departamento en décimo piso al frente...   \n",
       "2  2 AMBIENTES 3ER PISO LATERAL LIVING COMEDOR AM...   \n",
       "\n",
       "                                               title  \\\n",
       "0                 2 AMB TIPO CASA SIN EXPENSAS EN PB   \n",
       "1  VENTA Depto 2 dorm. a estrenar 7 e/ 36 y 37   ...   \n",
       "2           2 AMB 3ER PISO CON ASCENSOR APTO CREDITO   \n",
       "\n",
       "                                     image_thumbnail  \n",
       "0  https://thumbs4.properati.com/8/BluUYiHJLhgIIK...  \n",
       "1  https://thumbs4.properati.com/7/ikpVBu2ztHA7jv...  \n",
       "2  https://thumbs4.properati.com/5/SXKr34F_IwG3W_...  \n",
       "\n",
       "[3 rows x 25 columns]"
      ]
     },
     "execution_count": 3,
     "metadata": {},
     "output_type": "execute_result"
    }
   ],
   "source": [
    "data.head(3)"
   ]
  },
  {
   "cell_type": "markdown",
   "id": "hispanic-pendant",
   "metadata": {},
   "source": [
    " Vemos cuantas Filas y Columnas tiene"
   ]
  },
  {
   "cell_type": "code",
   "execution_count": 4,
   "id": "israeli-norman",
   "metadata": {},
   "outputs": [
    {
     "name": "stdout",
     "output_type": "stream",
     "text": [
      "cantidad de filas: 121220\n",
      "cantidad de columnas: 25\n"
     ]
    }
   ],
   "source": [
    "print(\"cantidad de filas: \" + str(data.shape[0]))\n",
    "print(\"cantidad de columnas: \" + str(data.shape[1]))"
   ]
  },
  {
   "cell_type": "code",
   "execution_count": 5,
   "id": "inside-adrian",
   "metadata": {},
   "outputs": [
    {
     "name": "stdout",
     "output_type": "stream",
     "text": [
      "<class 'pandas.core.frame.DataFrame'>\n",
      "Int64Index: 121220 entries, 0 to 121219\n",
      "Data columns (total 25 columns):\n",
      " #   Column                      Non-Null Count   Dtype  \n",
      "---  ------                      --------------   -----  \n",
      " 0   operation                   121220 non-null  object \n",
      " 1   property_type               121220 non-null  object \n",
      " 2   place_name                  121197 non-null  object \n",
      " 3   place_with_parent_names     121220 non-null  object \n",
      " 4   country_name                121220 non-null  object \n",
      " 5   state_name                  121220 non-null  object \n",
      " 6   geonames_id                 102503 non-null  float64\n",
      " 7   lat-lon                     69670 non-null   object \n",
      " 8   lat                         69670 non-null   float64\n",
      " 9   lon                         69670 non-null   float64\n",
      " 10  price                       100810 non-null  float64\n",
      " 11  currency                    100809 non-null  object \n",
      " 12  price_aprox_local_currency  100810 non-null  float64\n",
      " 13  price_aprox_usd             100810 non-null  float64\n",
      " 14  surface_total_in_m2         81892 non-null   float64\n",
      " 15  surface_covered_in_m2       101313 non-null  float64\n",
      " 16  price_usd_per_m2            68617 non-null   float64\n",
      " 17  price_per_m2                87658 non-null   float64\n",
      " 18  floor                       7899 non-null    float64\n",
      " 19  rooms                       47390 non-null   float64\n",
      " 20  expenses                    14262 non-null   float64\n",
      " 21  properati_url               121220 non-null  object \n",
      " 22  description                 121218 non-null  object \n",
      " 23  title                       121220 non-null  object \n",
      " 24  image_thumbnail             118108 non-null  object \n",
      "dtypes: float64(13), object(12)\n",
      "memory usage: 24.0+ MB\n"
     ]
    }
   ],
   "source": [
    "data.info()"
   ]
  },
  {
   "cell_type": "code",
   "execution_count": 6,
   "id": "wooden-column",
   "metadata": {},
   "outputs": [
    {
     "data": {
      "text/html": [
       "<div>\n",
       "<style scoped>\n",
       "    .dataframe tbody tr th:only-of-type {\n",
       "        vertical-align: middle;\n",
       "    }\n",
       "\n",
       "    .dataframe tbody tr th {\n",
       "        vertical-align: top;\n",
       "    }\n",
       "\n",
       "    .dataframe thead th {\n",
       "        text-align: right;\n",
       "    }\n",
       "</style>\n",
       "<table border=\"1\" class=\"dataframe\">\n",
       "  <thead>\n",
       "    <tr style=\"text-align: right;\">\n",
       "      <th></th>\n",
       "      <th>geonames_id</th>\n",
       "      <th>lat</th>\n",
       "      <th>lon</th>\n",
       "      <th>price</th>\n",
       "      <th>price_aprox_local_currency</th>\n",
       "      <th>price_aprox_usd</th>\n",
       "      <th>surface_total_in_m2</th>\n",
       "      <th>surface_covered_in_m2</th>\n",
       "      <th>price_usd_per_m2</th>\n",
       "      <th>price_per_m2</th>\n",
       "      <th>floor</th>\n",
       "      <th>rooms</th>\n",
       "      <th>expenses</th>\n",
       "    </tr>\n",
       "  </thead>\n",
       "  <tbody>\n",
       "    <tr>\n",
       "      <th>count</th>\n",
       "      <td>1.025030e+05</td>\n",
       "      <td>69670.000000</td>\n",
       "      <td>69670.000000</td>\n",
       "      <td>1.008100e+05</td>\n",
       "      <td>1.008100e+05</td>\n",
       "      <td>1.008100e+05</td>\n",
       "      <td>81892.000000</td>\n",
       "      <td>101313.000000</td>\n",
       "      <td>68617.000000</td>\n",
       "      <td>8.765800e+04</td>\n",
       "      <td>7899.000000</td>\n",
       "      <td>47390.000000</td>\n",
       "      <td>1.426200e+04</td>\n",
       "    </tr>\n",
       "    <tr>\n",
       "      <th>mean</th>\n",
       "      <td>3.574442e+06</td>\n",
       "      <td>-34.626210</td>\n",
       "      <td>-59.266290</td>\n",
       "      <td>4.685259e+05</td>\n",
       "      <td>4.229397e+06</td>\n",
       "      <td>2.397006e+05</td>\n",
       "      <td>233.795328</td>\n",
       "      <td>133.050181</td>\n",
       "      <td>2160.086916</td>\n",
       "      <td>6.912216e+03</td>\n",
       "      <td>17.452336</td>\n",
       "      <td>3.080840</td>\n",
       "      <td>5.009234e+03</td>\n",
       "    </tr>\n",
       "    <tr>\n",
       "      <th>std</th>\n",
       "      <td>3.541306e+05</td>\n",
       "      <td>1.980936</td>\n",
       "      <td>2.299922</td>\n",
       "      <td>2.260101e+06</td>\n",
       "      <td>6.904714e+06</td>\n",
       "      <td>3.913239e+05</td>\n",
       "      <td>1782.222147</td>\n",
       "      <td>724.351479</td>\n",
       "      <td>2759.288621</td>\n",
       "      <td>2.837864e+04</td>\n",
       "      <td>120.243621</td>\n",
       "      <td>1.860773</td>\n",
       "      <td>1.204403e+05</td>\n",
       "    </tr>\n",
       "    <tr>\n",
       "      <th>min</th>\n",
       "      <td>3.427208e+06</td>\n",
       "      <td>-54.823985</td>\n",
       "      <td>-75.678931</td>\n",
       "      <td>0.000000e+00</td>\n",
       "      <td>0.000000e+00</td>\n",
       "      <td>0.000000e+00</td>\n",
       "      <td>0.000000</td>\n",
       "      <td>0.000000</td>\n",
       "      <td>0.600000</td>\n",
       "      <td>1.510204e+00</td>\n",
       "      <td>1.000000</td>\n",
       "      <td>1.000000</td>\n",
       "      <td>1.000000e+00</td>\n",
       "    </tr>\n",
       "    <tr>\n",
       "      <th>25%</th>\n",
       "      <td>3.430234e+06</td>\n",
       "      <td>-34.669065</td>\n",
       "      <td>-58.727040</td>\n",
       "      <td>1.100000e+05</td>\n",
       "      <td>1.583309e+06</td>\n",
       "      <td>8.973388e+04</td>\n",
       "      <td>50.000000</td>\n",
       "      <td>45.000000</td>\n",
       "      <td>1218.181818</td>\n",
       "      <td>1.550000e+03</td>\n",
       "      <td>1.000000</td>\n",
       "      <td>2.000000</td>\n",
       "      <td>1.000000e+03</td>\n",
       "    </tr>\n",
       "    <tr>\n",
       "      <th>50%</th>\n",
       "      <td>3.433910e+06</td>\n",
       "      <td>-34.597985</td>\n",
       "      <td>-58.480128</td>\n",
       "      <td>1.850000e+05</td>\n",
       "      <td>2.558452e+06</td>\n",
       "      <td>1.450000e+05</td>\n",
       "      <td>84.000000</td>\n",
       "      <td>75.000000</td>\n",
       "      <td>1800.000000</td>\n",
       "      <td>2.213115e+03</td>\n",
       "      <td>3.000000</td>\n",
       "      <td>3.000000</td>\n",
       "      <td>2.000000e+03</td>\n",
       "    </tr>\n",
       "    <tr>\n",
       "      <th>75%</th>\n",
       "      <td>3.836668e+06</td>\n",
       "      <td>-34.441299</td>\n",
       "      <td>-58.395908</td>\n",
       "      <td>4.200000e+05</td>\n",
       "      <td>4.675792e+06</td>\n",
       "      <td>2.650000e+05</td>\n",
       "      <td>200.000000</td>\n",
       "      <td>150.000000</td>\n",
       "      <td>2486.411765</td>\n",
       "      <td>3.355549e+03</td>\n",
       "      <td>6.000000</td>\n",
       "      <td>4.000000</td>\n",
       "      <td>4.000000e+03</td>\n",
       "    </tr>\n",
       "    <tr>\n",
       "      <th>max</th>\n",
       "      <td>6.948895e+06</td>\n",
       "      <td>4.545843</td>\n",
       "      <td>-53.733330</td>\n",
       "      <td>6.500000e+08</td>\n",
       "      <td>8.212711e+08</td>\n",
       "      <td>4.654544e+07</td>\n",
       "      <td>200000.000000</td>\n",
       "      <td>187000.000000</td>\n",
       "      <td>206333.333333</td>\n",
       "      <td>4.000000e+06</td>\n",
       "      <td>3150.000000</td>\n",
       "      <td>32.000000</td>\n",
       "      <td>1.000150e+07</td>\n",
       "    </tr>\n",
       "  </tbody>\n",
       "</table>\n",
       "</div>"
      ],
      "text/plain": [
       "        geonames_id           lat           lon         price  \\\n",
       "count  1.025030e+05  69670.000000  69670.000000  1.008100e+05   \n",
       "mean   3.574442e+06    -34.626210    -59.266290  4.685259e+05   \n",
       "std    3.541306e+05      1.980936      2.299922  2.260101e+06   \n",
       "min    3.427208e+06    -54.823985    -75.678931  0.000000e+00   \n",
       "25%    3.430234e+06    -34.669065    -58.727040  1.100000e+05   \n",
       "50%    3.433910e+06    -34.597985    -58.480128  1.850000e+05   \n",
       "75%    3.836668e+06    -34.441299    -58.395908  4.200000e+05   \n",
       "max    6.948895e+06      4.545843    -53.733330  6.500000e+08   \n",
       "\n",
       "       price_aprox_local_currency  price_aprox_usd  surface_total_in_m2  \\\n",
       "count                1.008100e+05     1.008100e+05         81892.000000   \n",
       "mean                 4.229397e+06     2.397006e+05           233.795328   \n",
       "std                  6.904714e+06     3.913239e+05          1782.222147   \n",
       "min                  0.000000e+00     0.000000e+00             0.000000   \n",
       "25%                  1.583309e+06     8.973388e+04            50.000000   \n",
       "50%                  2.558452e+06     1.450000e+05            84.000000   \n",
       "75%                  4.675792e+06     2.650000e+05           200.000000   \n",
       "max                  8.212711e+08     4.654544e+07        200000.000000   \n",
       "\n",
       "       surface_covered_in_m2  price_usd_per_m2  price_per_m2        floor  \\\n",
       "count          101313.000000      68617.000000  8.765800e+04  7899.000000   \n",
       "mean              133.050181       2160.086916  6.912216e+03    17.452336   \n",
       "std               724.351479       2759.288621  2.837864e+04   120.243621   \n",
       "min                 0.000000          0.600000  1.510204e+00     1.000000   \n",
       "25%                45.000000       1218.181818  1.550000e+03     1.000000   \n",
       "50%                75.000000       1800.000000  2.213115e+03     3.000000   \n",
       "75%               150.000000       2486.411765  3.355549e+03     6.000000   \n",
       "max            187000.000000     206333.333333  4.000000e+06  3150.000000   \n",
       "\n",
       "              rooms      expenses  \n",
       "count  47390.000000  1.426200e+04  \n",
       "mean       3.080840  5.009234e+03  \n",
       "std        1.860773  1.204403e+05  \n",
       "min        1.000000  1.000000e+00  \n",
       "25%        2.000000  1.000000e+03  \n",
       "50%        3.000000  2.000000e+03  \n",
       "75%        4.000000  4.000000e+03  \n",
       "max       32.000000  1.000150e+07  "
      ]
     },
     "execution_count": 6,
     "metadata": {},
     "output_type": "execute_result"
    }
   ],
   "source": [
    "data.describe()"
   ]
  },
  {
   "cell_type": "markdown",
   "id": "suburban-china",
   "metadata": {},
   "source": [
    "Eliminamos columnas que sabemos que no vamos a utilizar."
   ]
  },
  {
   "cell_type": "code",
   "execution_count": 7,
   "id": "czech-tower",
   "metadata": {},
   "outputs": [],
   "source": [
    "data.drop([\"image_thumbnail\", \"properati_url\", \"expenses\", \"floor\"], axis=1, inplace = True)"
   ]
  },
  {
   "cell_type": "markdown",
   "id": "lined-equality",
   "metadata": {},
   "source": [
    "### Obtenemos los porcentajes de datos faltantes de cada columna"
   ]
  },
  {
   "cell_type": "code",
   "execution_count": 8,
   "id": "structured-african",
   "metadata": {},
   "outputs": [
    {
     "data": {
      "text/html": [
       "<div>\n",
       "<style scoped>\n",
       "    .dataframe tbody tr th:only-of-type {\n",
       "        vertical-align: middle;\n",
       "    }\n",
       "\n",
       "    .dataframe tbody tr th {\n",
       "        vertical-align: top;\n",
       "    }\n",
       "\n",
       "    .dataframe thead th {\n",
       "        text-align: right;\n",
       "    }\n",
       "</style>\n",
       "<table border=\"1\" class=\"dataframe\">\n",
       "  <thead>\n",
       "    <tr style=\"text-align: right;\">\n",
       "      <th></th>\n",
       "      <th>total</th>\n",
       "      <th>proporcion</th>\n",
       "    </tr>\n",
       "  </thead>\n",
       "  <tbody>\n",
       "    <tr>\n",
       "      <th>rooms</th>\n",
       "      <td>73830</td>\n",
       "      <td>0.609058</td>\n",
       "    </tr>\n",
       "    <tr>\n",
       "      <th>price_usd_per_m2</th>\n",
       "      <td>52603</td>\n",
       "      <td>0.433947</td>\n",
       "    </tr>\n",
       "    <tr>\n",
       "      <th>lat-lon</th>\n",
       "      <td>51550</td>\n",
       "      <td>0.425260</td>\n",
       "    </tr>\n",
       "    <tr>\n",
       "      <th>lat</th>\n",
       "      <td>51550</td>\n",
       "      <td>0.425260</td>\n",
       "    </tr>\n",
       "    <tr>\n",
       "      <th>lon</th>\n",
       "      <td>51550</td>\n",
       "      <td>0.425260</td>\n",
       "    </tr>\n",
       "    <tr>\n",
       "      <th>surface_total_in_m2</th>\n",
       "      <td>39328</td>\n",
       "      <td>0.324435</td>\n",
       "    </tr>\n",
       "    <tr>\n",
       "      <th>price_per_m2</th>\n",
       "      <td>33562</td>\n",
       "      <td>0.276869</td>\n",
       "    </tr>\n",
       "    <tr>\n",
       "      <th>currency</th>\n",
       "      <td>20411</td>\n",
       "      <td>0.168380</td>\n",
       "    </tr>\n",
       "    <tr>\n",
       "      <th>price</th>\n",
       "      <td>20410</td>\n",
       "      <td>0.168372</td>\n",
       "    </tr>\n",
       "    <tr>\n",
       "      <th>price_aprox_local_currency</th>\n",
       "      <td>20410</td>\n",
       "      <td>0.168372</td>\n",
       "    </tr>\n",
       "    <tr>\n",
       "      <th>price_aprox_usd</th>\n",
       "      <td>20410</td>\n",
       "      <td>0.168372</td>\n",
       "    </tr>\n",
       "    <tr>\n",
       "      <th>surface_covered_in_m2</th>\n",
       "      <td>19907</td>\n",
       "      <td>0.164222</td>\n",
       "    </tr>\n",
       "    <tr>\n",
       "      <th>geonames_id</th>\n",
       "      <td>18717</td>\n",
       "      <td>0.154405</td>\n",
       "    </tr>\n",
       "    <tr>\n",
       "      <th>place_name</th>\n",
       "      <td>23</td>\n",
       "      <td>0.000190</td>\n",
       "    </tr>\n",
       "    <tr>\n",
       "      <th>description</th>\n",
       "      <td>2</td>\n",
       "      <td>0.000016</td>\n",
       "    </tr>\n",
       "  </tbody>\n",
       "</table>\n",
       "</div>"
      ],
      "text/plain": [
       "                            total  proporcion\n",
       "rooms                       73830    0.609058\n",
       "price_usd_per_m2            52603    0.433947\n",
       "lat-lon                     51550    0.425260\n",
       "lat                         51550    0.425260\n",
       "lon                         51550    0.425260\n",
       "surface_total_in_m2         39328    0.324435\n",
       "price_per_m2                33562    0.276869\n",
       "currency                    20411    0.168380\n",
       "price                       20410    0.168372\n",
       "price_aprox_local_currency  20410    0.168372\n",
       "price_aprox_usd             20410    0.168372\n",
       "surface_covered_in_m2       19907    0.164222\n",
       "geonames_id                 18717    0.154405\n",
       "place_name                     23    0.000190\n",
       "description                     2    0.000016"
      ]
     },
     "execution_count": 8,
     "metadata": {},
     "output_type": "execute_result"
    }
   ],
   "source": [
    "def freq_na(df, zeros=False):\n",
    "    miss      = df.isnull().sum(axis=0)\n",
    "    miss_prop = miss / len(df)\n",
    "    freq = pd.concat([miss, miss_prop], axis=1)\n",
    "    freq.columns = ['total', 'proporcion']\n",
    "    return freq if zeros else freq[freq['total'] > 0].sort_values(by='proporcion',ascending=False)\n",
    "\n",
    "freq_na(data)"
   ]
  },
  {
   "cell_type": "code",
   "execution_count": 9,
   "id": "funded-blade",
   "metadata": {},
   "outputs": [
    {
     "data": {
      "image/png": "[encoded data removed]",
      "text/plain": [
       "<Figure size 432x288 with 1 Axes>"
      ]
     },
     "metadata": {},
     "output_type": "display_data"
    }
   ],
   "source": [
    "def mostrar_nulos(df):\n",
    "    \n",
    "    nulos = df.isnull().sum() / len(df)\n",
    "    nulos = nulos[nulos > 0]\n",
    "    nulos.sort_values(inplace=True)\n",
    "    \n",
    "    nulos = nulos.to_frame()\n",
    "    nulos.columns = ['total']\n",
    "    nulos.index.names = ['variable']\n",
    "    nulos['variable'] = nulos.index\n",
    "    # ploteo\n",
    "    sns.set(style=\"whitegrid\", color_codes=True)\n",
    "    sns.barplot(x='variable', y='total', data=nulos)\n",
    "    plt.xticks(rotation = 90)\n",
    "    plt.show()\n",
    "mostrar_nulos(data)"
   ]
  },
  {
   "cell_type": "markdown",
   "id": "grateful-strike",
   "metadata": {},
   "source": [
    "CONCLUSIÓN DE LA OBSERVACIÓN INICIAL:"
   ]
  },
  {
   "cell_type": "markdown",
   "id": "handed-comment",
   "metadata": {},
   "source": [
    "El DataSet posee algunas columnas con muchos valores faltantes, posibles duplicados o posibles datos no confiables.\n",
    "\n",
    "Las columnas o datos centrales del análisis que realizaremos son aquellos que nos indiquen:\n",
    "\n",
    "a) ubicación de las observaciones\n",
    "\n",
    "b) precio x M2\n",
    "\n",
    "c) las variables de las cuales dependan las mismas (como ser tipo de propiedad, amenities, garage).\n",
    "\n",
    "Por lo antes dicho, en este momento sólo nos limitaremos a realizar un drop de las observaciones duplicadas que puedan existir."
   ]
  },
  {
   "cell_type": "markdown",
   "id": "imported-tradition",
   "metadata": {},
   "source": [
    "##### Evaluando data para ver si hay datos duplicados incluyendo la mayor cantidad de columnas que logicamente deban coincidir."
   ]
  },
  {
   "cell_type": "code",
   "execution_count": 10,
   "id": "tutorial-fundamentals",
   "metadata": {},
   "outputs": [
    {
     "name": "stdout",
     "output_type": "stream",
     "text": [
      "registros duplicados en data:  True\n",
      "cantidad de registros duplicados en data:  6496\n"
     ]
    }
   ],
   "source": [
    "data_duplicates_mask = data.duplicated(subset=[\"place_name\", \"country_name\", \"description\", \"title\", \"lat-lon\", \"state_name\", \"price_aprox_usd\"], keep=\"first\")\n",
    "print(\"registros duplicados en data: \", any(data_duplicates_mask))\n",
    "print(\"cantidad de registros duplicados en data: \", data_duplicates_mask.sum())"
   ]
  },
  {
   "cell_type": "code",
   "execution_count": 11,
   "id": "fifty-floating",
   "metadata": {},
   "outputs": [
    {
     "data": {
      "text/plain": [
       "(114724, 21)"
      ]
     },
     "execution_count": 11,
     "metadata": {},
     "output_type": "execute_result"
    }
   ],
   "source": [
    "data= data.drop_duplicates(subset=[\"place_name\", \"country_name\", \"description\", \"title\", \"lat-lon\", \"state_name\", \"price_aprox_usd\"], keep=\"first\")\n",
    "data.shape"
   ]
  },
  {
   "cell_type": "markdown",
   "id": "higher-visit",
   "metadata": {},
   "source": [
    "### ANÁLISIS DE COLUMNAS DE 0 A 9 - UBICACION DE LAS OBSERVACIONES"
   ]
  },
  {
   "cell_type": "markdown",
   "id": "realistic-boost",
   "metadata": {},
   "source": [
    "##### Columna operation"
   ]
  },
  {
   "cell_type": "code",
   "execution_count": 12,
   "id": "streaming-turtle",
   "metadata": {},
   "outputs": [
    {
     "data": {
      "text/plain": [
       "operation\n",
       "sell    114724\n",
       "Name: country_name, dtype: int64"
      ]
     },
     "execution_count": 12,
     "metadata": {},
     "output_type": "execute_result"
    }
   ],
   "source": [
    "# Como vemos posee la totalidad de valores sell y sin vacíos, por lo que no agregaría valor. Atacaremos el Drop de columnas más adelante.\n",
    "operation_group = data.groupby('operation').country_name.count()\n",
    "operation_group"
   ]
  },
  {
   "cell_type": "markdown",
   "id": "imperial-syracuse",
   "metadata": {},
   "source": [
    "##### Columna property type"
   ]
  },
  {
   "cell_type": "code",
   "execution_count": 13,
   "id": "tired-province",
   "metadata": {},
   "outputs": [
    {
     "data": {
      "text/plain": [
       "property_type\n",
       "PH            5532\n",
       "apartment    65439\n",
       "house        39705\n",
       "store         4048\n",
       "Name: property_type, dtype: int64"
      ]
     },
     "execution_count": 13,
     "metadata": {},
     "output_type": "execute_result"
    }
   ],
   "source": [
    "# Como vemos posee la totalidad de valores completos y nos será de mucha importancia para analizar los valores por tipo de propiedad.\n",
    "property_type_group = data.groupby('property_type').property_type.count()\n",
    "property_type_group"
   ]
  },
  {
   "cell_type": "markdown",
   "id": "english-walnut",
   "metadata": {},
   "source": [
    "Todos los valores estan son \"PH\", \"apartment\", \"house\" y \"store\". Sin valores nulos."
   ]
  },
  {
   "cell_type": "code",
   "execution_count": 14,
   "id": "handled-european",
   "metadata": {},
   "outputs": [
    {
     "data": {
      "text/plain": [
       "place_name\n",
       "Córdoba          8544\n",
       "Rosario          7142\n",
       "Mar del Plata    6486\n",
       "Tigre            3182\n",
       "Nordelta         3036\n",
       "Belgrano         2753\n",
       "Palermo          2669\n",
       "La Plata         2419\n",
       "Pilar            2199\n",
       "Caballito        2160\n",
       "Name: place_name, dtype: int64"
      ]
     },
     "execution_count": 14,
     "metadata": {},
     "output_type": "execute_result"
    }
   ],
   "source": [
    "ciudades = data.groupby('place_name').place_name.count()\n",
    "ciudades_ordenadas = ciudades.sort_values(ascending=False)\n",
    "ciudades_ordenadas.head(10)"
   ]
  },
  {
   "cell_type": "markdown",
   "id": "level-desperate",
   "metadata": {},
   "source": [
    "##### Columna place_name"
   ]
  },
  {
   "cell_type": "code",
   "execution_count": 15,
   "id": "friendly-newton",
   "metadata": {},
   "outputs": [
    {
     "data": {
      "text/plain": [
       "23"
      ]
     },
     "execution_count": 15,
     "metadata": {},
     "output_type": "execute_result"
    }
   ],
   "source": [
    "data.place_name.isnull().sum()"
   ]
  },
  {
   "cell_type": "markdown",
   "id": "endless-joshua",
   "metadata": {},
   "source": [
    "Contiene 23 valores nulos."
   ]
  },
  {
   "cell_type": "code",
   "execution_count": 16,
   "id": "heated-alfred",
   "metadata": {},
   "outputs": [
    {
     "data": {
      "text/html": [
       "<div>\n",
       "<style scoped>\n",
       "    .dataframe tbody tr th:only-of-type {\n",
       "        vertical-align: middle;\n",
       "    }\n",
       "\n",
       "    .dataframe tbody tr th {\n",
       "        vertical-align: top;\n",
       "    }\n",
       "\n",
       "    .dataframe thead th {\n",
       "        text-align: right;\n",
       "    }\n",
       "</style>\n",
       "<table border=\"1\" class=\"dataframe\">\n",
       "  <thead>\n",
       "    <tr style=\"text-align: right;\">\n",
       "      <th></th>\n",
       "      <th>operation</th>\n",
       "      <th>property_type</th>\n",
       "      <th>place_name</th>\n",
       "      <th>place_with_parent_names</th>\n",
       "      <th>country_name</th>\n",
       "      <th>state_name</th>\n",
       "      <th>geonames_id</th>\n",
       "      <th>lat-lon</th>\n",
       "      <th>lat</th>\n",
       "      <th>lon</th>\n",
       "      <th>...</th>\n",
       "      <th>currency</th>\n",
       "      <th>price_aprox_local_currency</th>\n",
       "      <th>price_aprox_usd</th>\n",
       "      <th>surface_total_in_m2</th>\n",
       "      <th>surface_covered_in_m2</th>\n",
       "      <th>price_usd_per_m2</th>\n",
       "      <th>price_per_m2</th>\n",
       "      <th>rooms</th>\n",
       "      <th>description</th>\n",
       "      <th>title</th>\n",
       "    </tr>\n",
       "  </thead>\n",
       "  <tbody>\n",
       "    <tr>\n",
       "      <th>6489</th>\n",
       "      <td>sell</td>\n",
       "      <td>house</td>\n",
       "      <td>NaN</td>\n",
       "      <td>|Argentina|Bs.As. G.B.A. Zona Norte|Tigre||</td>\n",
       "      <td>Argentina</td>\n",
       "      <td>Bs.As. G.B.A. Zona Norte</td>\n",
       "      <td>NaN</td>\n",
       "      <td>-34.4008968545,-58.63809847</td>\n",
       "      <td>-34.400897</td>\n",
       "      <td>-58.638098</td>\n",
       "      <td>...</td>\n",
       "      <td>USD</td>\n",
       "      <td>11468925.0</td>\n",
       "      <td>650000.0</td>\n",
       "      <td>240.0</td>\n",
       "      <td>240.0</td>\n",
       "      <td>2708.333333</td>\n",
       "      <td>2708.333333</td>\n",
       "      <td>NaN</td>\n",
       "      <td>Espectacular casa moderna de una planta, con a...</td>\n",
       "      <td>Venta de casa en Santa María de Tigre</td>\n",
       "    </tr>\n",
       "    <tr>\n",
       "      <th>10201</th>\n",
       "      <td>sell</td>\n",
       "      <td>house</td>\n",
       "      <td>NaN</td>\n",
       "      <td>|Argentina|Bs.As. G.B.A. Zona Norte|Tigre||</td>\n",
       "      <td>Argentina</td>\n",
       "      <td>Bs.As. G.B.A. Zona Norte</td>\n",
       "      <td>NaN</td>\n",
       "      <td>-34.400704,-58.638067</td>\n",
       "      <td>-34.400704</td>\n",
       "      <td>-58.638067</td>\n",
       "      <td>...</td>\n",
       "      <td>USD</td>\n",
       "      <td>9439807.5</td>\n",
       "      <td>535000.0</td>\n",
       "      <td>NaN</td>\n",
       "      <td>300.0</td>\n",
       "      <td>NaN</td>\n",
       "      <td>1783.333333</td>\n",
       "      <td>5.0</td>\n",
       "      <td>Corredor Responsable: SABRINA COCCONI - CSI 62...</td>\n",
       "      <td>VENTA CASA SANTA MARÍA DE TIGRE COUNTRY BARRIO...</td>\n",
       "    </tr>\n",
       "    <tr>\n",
       "      <th>11451</th>\n",
       "      <td>sell</td>\n",
       "      <td>house</td>\n",
       "      <td>NaN</td>\n",
       "      <td>|Argentina|Bs.As. G.B.A. Zona Norte|Tigre||</td>\n",
       "      <td>Argentina</td>\n",
       "      <td>Bs.As. G.B.A. Zona Norte</td>\n",
       "      <td>NaN</td>\n",
       "      <td>-34.4026880384,-58.6262613379</td>\n",
       "      <td>-34.402688</td>\n",
       "      <td>-58.626261</td>\n",
       "      <td>...</td>\n",
       "      <td>USD</td>\n",
       "      <td>9704475.0</td>\n",
       "      <td>550000.0</td>\n",
       "      <td>2170.0</td>\n",
       "      <td>270.0</td>\n",
       "      <td>253.456221</td>\n",
       "      <td>2037.037037</td>\n",
       "      <td>NaN</td>\n",
       "      <td>MUY LINDA CASA EN EXCELENTE UBICACION!! Superf...</td>\n",
       "      <td>SANTA MARIA DE TIGRE IMPECABLE</td>\n",
       "    </tr>\n",
       "    <tr>\n",
       "      <th>14839</th>\n",
       "      <td>sell</td>\n",
       "      <td>house</td>\n",
       "      <td>NaN</td>\n",
       "      <td>|Argentina|Bs.As. G.B.A. Zona Norte|Tigre||</td>\n",
       "      <td>Argentina</td>\n",
       "      <td>Bs.As. G.B.A. Zona Norte</td>\n",
       "      <td>NaN</td>\n",
       "      <td>-34.4007994779,-58.6381735719</td>\n",
       "      <td>-34.400799</td>\n",
       "      <td>-58.638174</td>\n",
       "      <td>...</td>\n",
       "      <td>USD</td>\n",
       "      <td>8469360.0</td>\n",
       "      <td>480000.0</td>\n",
       "      <td>240.0</td>\n",
       "      <td>200.0</td>\n",
       "      <td>2000.000000</td>\n",
       "      <td>2400.000000</td>\n",
       "      <td>NaN</td>\n",
       "      <td>Muy linda casa de estilo clásico.-Planta baja;...</td>\n",
       "      <td>Venta de casa en Santa María de Tigre</td>\n",
       "    </tr>\n",
       "    <tr>\n",
       "      <th>18622</th>\n",
       "      <td>sell</td>\n",
       "      <td>house</td>\n",
       "      <td>NaN</td>\n",
       "      <td>|Argentina|Bs.As. G.B.A. Zona Norte|Tigre||</td>\n",
       "      <td>Argentina</td>\n",
       "      <td>Bs.As. G.B.A. Zona Norte</td>\n",
       "      <td>NaN</td>\n",
       "      <td>-34.4032781195,-58.6263503945</td>\n",
       "      <td>-34.403278</td>\n",
       "      <td>-58.626350</td>\n",
       "      <td>...</td>\n",
       "      <td>USD</td>\n",
       "      <td>22884916.5</td>\n",
       "      <td>1297000.0</td>\n",
       "      <td>340.0</td>\n",
       "      <td>340.0</td>\n",
       "      <td>3814.705882</td>\n",
       "      <td>3814.705882</td>\n",
       "      <td>NaN</td>\n",
       "      <td>Casa con increible vista al lago con playa de...</td>\n",
       "      <td>Casa con increible vista al lago con playa y m...</td>\n",
       "    </tr>\n",
       "    <tr>\n",
       "      <th>21922</th>\n",
       "      <td>sell</td>\n",
       "      <td>house</td>\n",
       "      <td>NaN</td>\n",
       "      <td>|Argentina|Bs.As. G.B.A. Zona Norte|Tigre||</td>\n",
       "      <td>Argentina</td>\n",
       "      <td>Bs.As. G.B.A. Zona Norte</td>\n",
       "      <td>NaN</td>\n",
       "      <td>-34.399704,-58.638405</td>\n",
       "      <td>-34.399704</td>\n",
       "      <td>-58.638405</td>\n",
       "      <td>...</td>\n",
       "      <td>USD</td>\n",
       "      <td>7763580.0</td>\n",
       "      <td>440000.0</td>\n",
       "      <td>NaN</td>\n",
       "      <td>220.0</td>\n",
       "      <td>NaN</td>\n",
       "      <td>2000.000000</td>\n",
       "      <td>5.0</td>\n",
       "      <td>Corredor Responsable: Matias Castelli - CUCICB...</td>\n",
       "      <td>Venta Casa - Barrio Santa Maria de Tigre</td>\n",
       "    </tr>\n",
       "    <tr>\n",
       "      <th>23664</th>\n",
       "      <td>sell</td>\n",
       "      <td>house</td>\n",
       "      <td>NaN</td>\n",
       "      <td>|Argentina|Bs.As. G.B.A. Zona Norte|Tigre||</td>\n",
       "      <td>Argentina</td>\n",
       "      <td>Bs.As. G.B.A. Zona Norte</td>\n",
       "      <td>NaN</td>\n",
       "      <td>-34.4005161998,-58.6417999185</td>\n",
       "      <td>-34.400516</td>\n",
       "      <td>-58.641800</td>\n",
       "      <td>...</td>\n",
       "      <td>USD</td>\n",
       "      <td>8469360.0</td>\n",
       "      <td>480000.0</td>\n",
       "      <td>294.0</td>\n",
       "      <td>294.0</td>\n",
       "      <td>1632.653061</td>\n",
       "      <td>1632.653061</td>\n",
       "      <td>NaN</td>\n",
       "      <td>EXCELENTE CASA CLASICA con grandes ventanas y ...</td>\n",
       "      <td>CASA EN VENTA EN SANTA MARIA DE TIGRE CON RENTA</td>\n",
       "    </tr>\n",
       "    <tr>\n",
       "      <th>24722</th>\n",
       "      <td>sell</td>\n",
       "      <td>house</td>\n",
       "      <td>NaN</td>\n",
       "      <td>|Argentina|Bs.As. G.B.A. Zona Norte|Tigre||</td>\n",
       "      <td>Argentina</td>\n",
       "      <td>Bs.As. G.B.A. Zona Norte</td>\n",
       "      <td>NaN</td>\n",
       "      <td>-34.4007292,-58.6377783</td>\n",
       "      <td>-34.400729</td>\n",
       "      <td>-58.637778</td>\n",
       "      <td>...</td>\n",
       "      <td>USD</td>\n",
       "      <td>9351585.0</td>\n",
       "      <td>530000.0</td>\n",
       "      <td>316.0</td>\n",
       "      <td>270.0</td>\n",
       "      <td>1677.215190</td>\n",
       "      <td>1962.962963</td>\n",
       "      <td>NaN</td>\n",
       "      <td>EN EXCLUSIVIDAD!!!!!!Lindísima casa, muy lumin...</td>\n",
       "      <td>Venta de casa en Santa María de Tigre</td>\n",
       "    </tr>\n",
       "    <tr>\n",
       "      <th>38856</th>\n",
       "      <td>sell</td>\n",
       "      <td>house</td>\n",
       "      <td>NaN</td>\n",
       "      <td>|Argentina|Bs.As. G.B.A. Zona Norte|Tigre||</td>\n",
       "      <td>Argentina</td>\n",
       "      <td>Bs.As. G.B.A. Zona Norte</td>\n",
       "      <td>NaN</td>\n",
       "      <td>-34.425087,-58.5796585</td>\n",
       "      <td>-34.425087</td>\n",
       "      <td>-58.579659</td>\n",
       "      <td>...</td>\n",
       "      <td>USD</td>\n",
       "      <td>23820075.0</td>\n",
       "      <td>1350000.0</td>\n",
       "      <td>NaN</td>\n",
       "      <td>550.0</td>\n",
       "      <td>NaN</td>\n",
       "      <td>2454.545455</td>\n",
       "      <td>NaN</td>\n",
       "      <td>SANTA MARIA DE TIGRE- AL RIO - ESPECTACULAR CA...</td>\n",
       "      <td>Casa (barrio cerrado), Venta</td>\n",
       "    </tr>\n",
       "    <tr>\n",
       "      <th>45970</th>\n",
       "      <td>sell</td>\n",
       "      <td>apartment</td>\n",
       "      <td>NaN</td>\n",
       "      <td>|Argentina|Bs.As. G.B.A. Zona Norte|Tigre||</td>\n",
       "      <td>Argentina</td>\n",
       "      <td>Bs.As. G.B.A. Zona Norte</td>\n",
       "      <td>NaN</td>\n",
       "      <td>-34.396074,-58.63738</td>\n",
       "      <td>-34.396074</td>\n",
       "      <td>-58.637380</td>\n",
       "      <td>...</td>\n",
       "      <td>USD</td>\n",
       "      <td>1676227.5</td>\n",
       "      <td>95000.0</td>\n",
       "      <td>55.0</td>\n",
       "      <td>27.0</td>\n",
       "      <td>1727.272727</td>\n",
       "      <td>3518.518519</td>\n",
       "      <td>1.0</td>\n",
       "      <td>EDIFICIO ZERENA – EL PALMAR, NORDELTA. Torre 2...</td>\n",
       "      <td>Excelente monoambiente. Barrio El Palmar.  Con...</td>\n",
       "    </tr>\n",
       "    <tr>\n",
       "      <th>46642</th>\n",
       "      <td>sell</td>\n",
       "      <td>house</td>\n",
       "      <td>NaN</td>\n",
       "      <td>|Argentina|Bs.As. G.B.A. Zona Norte|Tigre||</td>\n",
       "      <td>Argentina</td>\n",
       "      <td>Bs.As. G.B.A. Zona Norte</td>\n",
       "      <td>NaN</td>\n",
       "      <td>-34.400749,-58.638754</td>\n",
       "      <td>-34.400749</td>\n",
       "      <td>-58.638754</td>\n",
       "      <td>...</td>\n",
       "      <td>USD</td>\n",
       "      <td>25937415.0</td>\n",
       "      <td>1470000.0</td>\n",
       "      <td>NaN</td>\n",
       "      <td>20.0</td>\n",
       "      <td>NaN</td>\n",
       "      <td>73500.000000</td>\n",
       "      <td>6.0</td>\n",
       "      <td>Corredor Responsable: Matias Castelli - CUCICB...</td>\n",
       "      <td>Venta de Casa al rio</td>\n",
       "    </tr>\n",
       "    <tr>\n",
       "      <th>53130</th>\n",
       "      <td>sell</td>\n",
       "      <td>house</td>\n",
       "      <td>NaN</td>\n",
       "      <td>|Argentina|Bs.As. G.B.A. Zona Norte|Tigre||</td>\n",
       "      <td>Argentina</td>\n",
       "      <td>Bs.As. G.B.A. Zona Norte</td>\n",
       "      <td>NaN</td>\n",
       "      <td>-34.400978,-58.637809</td>\n",
       "      <td>-34.400978</td>\n",
       "      <td>-58.637809</td>\n",
       "      <td>...</td>\n",
       "      <td>USD</td>\n",
       "      <td>11116035.0</td>\n",
       "      <td>630000.0</td>\n",
       "      <td>1000.0</td>\n",
       "      <td>370.0</td>\n",
       "      <td>630.000000</td>\n",
       "      <td>1702.702703</td>\n",
       "      <td>NaN</td>\n",
       "      <td>Excelente casa en Venta en B° Santa Maria de T...</td>\n",
       "      <td>Casa en Venta</td>\n",
       "    </tr>\n",
       "    <tr>\n",
       "      <th>55306</th>\n",
       "      <td>sell</td>\n",
       "      <td>house</td>\n",
       "      <td>NaN</td>\n",
       "      <td>|Argentina|Bs.As. G.B.A. Zona Norte|Tigre||</td>\n",
       "      <td>Argentina</td>\n",
       "      <td>Bs.As. G.B.A. Zona Norte</td>\n",
       "      <td>NaN</td>\n",
       "      <td>-34.3996311,-58.6433121</td>\n",
       "      <td>-34.399631</td>\n",
       "      <td>-58.643312</td>\n",
       "      <td>...</td>\n",
       "      <td>USD</td>\n",
       "      <td>8292915.0</td>\n",
       "      <td>470000.0</td>\n",
       "      <td>254.0</td>\n",
       "      <td>204.0</td>\n",
       "      <td>1850.393701</td>\n",
       "      <td>2303.921569</td>\n",
       "      <td>NaN</td>\n",
       "      <td>Muy linda casa de dos plantas en lote interno ...</td>\n",
       "      <td>Santa María de Tigre. Casa con amarra.</td>\n",
       "    </tr>\n",
       "    <tr>\n",
       "      <th>57703</th>\n",
       "      <td>sell</td>\n",
       "      <td>house</td>\n",
       "      <td>NaN</td>\n",
       "      <td>|Argentina|Bs.As. G.B.A. Zona Norte|Tigre||</td>\n",
       "      <td>Argentina</td>\n",
       "      <td>Bs.As. G.B.A. Zona Norte</td>\n",
       "      <td>NaN</td>\n",
       "      <td>-34.39033749,-58.63368988</td>\n",
       "      <td>-34.390337</td>\n",
       "      <td>-58.633690</td>\n",
       "      <td>...</td>\n",
       "      <td>USD</td>\n",
       "      <td>11468925.0</td>\n",
       "      <td>650000.0</td>\n",
       "      <td>230.0</td>\n",
       "      <td>230.0</td>\n",
       "      <td>2826.086957</td>\n",
       "      <td>2826.086957</td>\n",
       "      <td>NaN</td>\n",
       "      <td>Espectacular casas moderna con amplio jardín s...</td>\n",
       "      <td>SANTA MARIA DE TIGRE 100</td>\n",
       "    </tr>\n",
       "    <tr>\n",
       "      <th>57759</th>\n",
       "      <td>sell</td>\n",
       "      <td>house</td>\n",
       "      <td>NaN</td>\n",
       "      <td>|Argentina|Bs.As. G.B.A. Zona Norte|Tigre||</td>\n",
       "      <td>Argentina</td>\n",
       "      <td>Bs.As. G.B.A. Zona Norte</td>\n",
       "      <td>NaN</td>\n",
       "      <td>-34.39596815,-58.63077164</td>\n",
       "      <td>-34.395968</td>\n",
       "      <td>-58.630772</td>\n",
       "      <td>...</td>\n",
       "      <td>USD</td>\n",
       "      <td>10233810.0</td>\n",
       "      <td>580000.0</td>\n",
       "      <td>360.0</td>\n",
       "      <td>360.0</td>\n",
       "      <td>1611.111111</td>\n",
       "      <td>1611.111111</td>\n",
       "      <td>NaN</td>\n",
       "      <td>Incluye una amarra de U$S 30.000 con elevador ...</td>\n",
       "      <td>SANTA MARIA DE TIGRE 100</td>\n",
       "    </tr>\n",
       "    <tr>\n",
       "      <th>57764</th>\n",
       "      <td>sell</td>\n",
       "      <td>house</td>\n",
       "      <td>NaN</td>\n",
       "      <td>|Argentina|Bs.As. G.B.A. Zona Norte|Tigre||</td>\n",
       "      <td>Argentina</td>\n",
       "      <td>Bs.As. G.B.A. Zona Norte</td>\n",
       "      <td>NaN</td>\n",
       "      <td>-34.39635767,-58.62613678</td>\n",
       "      <td>-34.396358</td>\n",
       "      <td>-58.626137</td>\n",
       "      <td>...</td>\n",
       "      <td>USD</td>\n",
       "      <td>17115165.0</td>\n",
       "      <td>970000.0</td>\n",
       "      <td>425.0</td>\n",
       "      <td>391.0</td>\n",
       "      <td>2282.352941</td>\n",
       "      <td>2480.818414</td>\n",
       "      <td>NaN</td>\n",
       "      <td>IMPECABLE ! Sobre la laguna con excelente orie...</td>\n",
       "      <td>SANTA MARIA DE TIGRE 100</td>\n",
       "    </tr>\n",
       "    <tr>\n",
       "      <th>57793</th>\n",
       "      <td>sell</td>\n",
       "      <td>house</td>\n",
       "      <td>NaN</td>\n",
       "      <td>|Argentina|Bs.As. G.B.A. Zona Norte|Tigre||</td>\n",
       "      <td>Argentina</td>\n",
       "      <td>Bs.As. G.B.A. Zona Norte</td>\n",
       "      <td>NaN</td>\n",
       "      <td>-34.39628685,-58.62922668</td>\n",
       "      <td>-34.396287</td>\n",
       "      <td>-58.629227</td>\n",
       "      <td>...</td>\n",
       "      <td>USD</td>\n",
       "      <td>13409820.0</td>\n",
       "      <td>760000.0</td>\n",
       "      <td>250.0</td>\n",
       "      <td>250.0</td>\n",
       "      <td>3040.000000</td>\n",
       "      <td>3040.000000</td>\n",
       "      <td>NaN</td>\n",
       "      <td>Súper cálida y agradable. Ubicada en uno de lo...</td>\n",
       "      <td>SANTA MARIA DE TIGRE 100</td>\n",
       "    </tr>\n",
       "    <tr>\n",
       "      <th>58004</th>\n",
       "      <td>sell</td>\n",
       "      <td>house</td>\n",
       "      <td>NaN</td>\n",
       "      <td>|Argentina|Bs.As. G.B.A. Zona Norte|Tigre||</td>\n",
       "      <td>Argentina</td>\n",
       "      <td>Bs.As. G.B.A. Zona Norte</td>\n",
       "      <td>NaN</td>\n",
       "      <td>-34.39104577,-58.63617897</td>\n",
       "      <td>-34.391046</td>\n",
       "      <td>-58.636179</td>\n",
       "      <td>...</td>\n",
       "      <td>USD</td>\n",
       "      <td>9704475.0</td>\n",
       "      <td>550000.0</td>\n",
       "      <td>266.0</td>\n",
       "      <td>230.0</td>\n",
       "      <td>2067.669173</td>\n",
       "      <td>2391.304348</td>\n",
       "      <td>NaN</td>\n",
       "      <td>Casa clásica muy cómoda.PLANTA BAJA: Hall de e...</td>\n",
       "      <td>SANTA MARIA DE TIGRE 100</td>\n",
       "    </tr>\n",
       "    <tr>\n",
       "      <th>58037</th>\n",
       "      <td>sell</td>\n",
       "      <td>house</td>\n",
       "      <td>NaN</td>\n",
       "      <td>|Argentina|Bs.As. G.B.A. Zona Norte|Tigre||</td>\n",
       "      <td>Argentina</td>\n",
       "      <td>Bs.As. G.B.A. Zona Norte</td>\n",
       "      <td>NaN</td>\n",
       "      <td>-34.39315287,-58.63197327</td>\n",
       "      <td>-34.393153</td>\n",
       "      <td>-58.631973</td>\n",
       "      <td>...</td>\n",
       "      <td>USD</td>\n",
       "      <td>10410255.0</td>\n",
       "      <td>590000.0</td>\n",
       "      <td>320.0</td>\n",
       "      <td>320.0</td>\n",
       "      <td>1843.750000</td>\n",
       "      <td>1843.750000</td>\n",
       "      <td>NaN</td>\n",
       "      <td>Excelente casa ubicada en uno de la a pocos ba...</td>\n",
       "      <td>SANTA MARIA DE TIGRE 100</td>\n",
       "    </tr>\n",
       "    <tr>\n",
       "      <th>59069</th>\n",
       "      <td>sell</td>\n",
       "      <td>house</td>\n",
       "      <td>NaN</td>\n",
       "      <td>|Argentina|Bs.As. G.B.A. Zona Norte|Tigre||</td>\n",
       "      <td>Argentina</td>\n",
       "      <td>Bs.As. G.B.A. Zona Norte</td>\n",
       "      <td>NaN</td>\n",
       "      <td>-34.400849,-58.638179</td>\n",
       "      <td>-34.400849</td>\n",
       "      <td>-58.638179</td>\n",
       "      <td>...</td>\n",
       "      <td>USD</td>\n",
       "      <td>11292480.0</td>\n",
       "      <td>640000.0</td>\n",
       "      <td>NaN</td>\n",
       "      <td>248.0</td>\n",
       "      <td>NaN</td>\n",
       "      <td>2580.645161</td>\n",
       "      <td>5.0</td>\n",
       "      <td>Corredor Responsable: Matias Castelli - CUCICB...</td>\n",
       "      <td>CASA EN VENTA AL AGUA EN SANTA MARIA DE TIGRE</td>\n",
       "    </tr>\n",
       "    <tr>\n",
       "      <th>62411</th>\n",
       "      <td>sell</td>\n",
       "      <td>house</td>\n",
       "      <td>NaN</td>\n",
       "      <td>|Argentina|Bs.As. G.B.A. Zona Norte|Tigre||</td>\n",
       "      <td>Argentina</td>\n",
       "      <td>Bs.As. G.B.A. Zona Norte</td>\n",
       "      <td>NaN</td>\n",
       "      <td>-34.396485,-58.635878</td>\n",
       "      <td>-34.396485</td>\n",
       "      <td>-58.635878</td>\n",
       "      <td>...</td>\n",
       "      <td>USD</td>\n",
       "      <td>5999130.0</td>\n",
       "      <td>340000.0</td>\n",
       "      <td>170.0</td>\n",
       "      <td>170.0</td>\n",
       "      <td>2000.000000</td>\n",
       "      <td>2000.000000</td>\n",
       "      <td>4.0</td>\n",
       "      <td>Hermosa casa en lote perimetral, Excelente cal...</td>\n",
       "      <td>VENTA CASA A ESTRENAR EN LAS TIPAS NORDELTA</td>\n",
       "    </tr>\n",
       "    <tr>\n",
       "      <th>62413</th>\n",
       "      <td>sell</td>\n",
       "      <td>house</td>\n",
       "      <td>NaN</td>\n",
       "      <td>|Argentina|Bs.As. G.B.A. Zona Norte|Tigre||</td>\n",
       "      <td>Argentina</td>\n",
       "      <td>Bs.As. G.B.A. Zona Norte</td>\n",
       "      <td>NaN</td>\n",
       "      <td>-34.396485,-58.635878</td>\n",
       "      <td>-34.396485</td>\n",
       "      <td>-58.635878</td>\n",
       "      <td>...</td>\n",
       "      <td>USD</td>\n",
       "      <td>7393045.5</td>\n",
       "      <td>419000.0</td>\n",
       "      <td>250.0</td>\n",
       "      <td>200.0</td>\n",
       "      <td>1676.000000</td>\n",
       "      <td>2095.000000</td>\n",
       "      <td>5.0</td>\n",
       "      <td>Muy linda casa a estrenar sobre lote perimetra...</td>\n",
       "      <td>Muy linda casa a estrenar en Las Tipas</td>\n",
       "    </tr>\n",
       "    <tr>\n",
       "      <th>63849</th>\n",
       "      <td>sell</td>\n",
       "      <td>house</td>\n",
       "      <td>NaN</td>\n",
       "      <td>|Argentina|Bs.As. G.B.A. Zona Norte|Tigre||</td>\n",
       "      <td>Argentina</td>\n",
       "      <td>Bs.As. G.B.A. Zona Norte</td>\n",
       "      <td>NaN</td>\n",
       "      <td>-34.39452,-58.632501</td>\n",
       "      <td>-34.394520</td>\n",
       "      <td>-58.632501</td>\n",
       "      <td>...</td>\n",
       "      <td>USD</td>\n",
       "      <td>7057800.0</td>\n",
       "      <td>400000.0</td>\n",
       "      <td>140.0</td>\n",
       "      <td>140.0</td>\n",
       "      <td>2857.142857</td>\n",
       "      <td>2857.142857</td>\n",
       "      <td>5.0</td>\n",
       "      <td>Casa estilo colonial de una planta sobre lote ...</td>\n",
       "      <td>Oportunidad! Casa en La Alameda</td>\n",
       "    </tr>\n",
       "  </tbody>\n",
       "</table>\n",
       "<p>23 rows × 21 columns</p>\n",
       "</div>"
      ],
      "text/plain": [
       "      operation property_type place_name  \\\n",
       "6489       sell         house        NaN   \n",
       "10201      sell         house        NaN   \n",
       "11451      sell         house        NaN   \n",
       "14839      sell         house        NaN   \n",
       "18622      sell         house        NaN   \n",
       "21922      sell         house        NaN   \n",
       "23664      sell         house        NaN   \n",
       "24722      sell         house        NaN   \n",
       "38856      sell         house        NaN   \n",
       "45970      sell     apartment        NaN   \n",
       "46642      sell         house        NaN   \n",
       "53130      sell         house        NaN   \n",
       "55306      sell         house        NaN   \n",
       "57703      sell         house        NaN   \n",
       "57759      sell         house        NaN   \n",
       "57764      sell         house        NaN   \n",
       "57793      sell         house        NaN   \n",
       "58004      sell         house        NaN   \n",
       "58037      sell         house        NaN   \n",
       "59069      sell         house        NaN   \n",
       "62411      sell         house        NaN   \n",
       "62413      sell         house        NaN   \n",
       "63849      sell         house        NaN   \n",
       "\n",
       "                           place_with_parent_names country_name  \\\n",
       "6489   |Argentina|Bs.As. G.B.A. Zona Norte|Tigre||    Argentina   \n",
       "10201  |Argentina|Bs.As. G.B.A. Zona Norte|Tigre||    Argentina   \n",
       "11451  |Argentina|Bs.As. G.B.A. Zona Norte|Tigre||    Argentina   \n",
       "14839  |Argentina|Bs.As. G.B.A. Zona Norte|Tigre||    Argentina   \n",
       "18622  |Argentina|Bs.As. G.B.A. Zona Norte|Tigre||    Argentina   \n",
       "21922  |Argentina|Bs.As. G.B.A. Zona Norte|Tigre||    Argentina   \n",
       "23664  |Argentina|Bs.As. G.B.A. Zona Norte|Tigre||    Argentina   \n",
       "24722  |Argentina|Bs.As. G.B.A. Zona Norte|Tigre||    Argentina   \n",
       "38856  |Argentina|Bs.As. G.B.A. Zona Norte|Tigre||    Argentina   \n",
       "45970  |Argentina|Bs.As. G.B.A. Zona Norte|Tigre||    Argentina   \n",
       "46642  |Argentina|Bs.As. G.B.A. Zona Norte|Tigre||    Argentina   \n",
       "53130  |Argentina|Bs.As. G.B.A. Zona Norte|Tigre||    Argentina   \n",
       "55306  |Argentina|Bs.As. G.B.A. Zona Norte|Tigre||    Argentina   \n",
       "57703  |Argentina|Bs.As. G.B.A. Zona Norte|Tigre||    Argentina   \n",
       "57759  |Argentina|Bs.As. G.B.A. Zona Norte|Tigre||    Argentina   \n",
       "57764  |Argentina|Bs.As. G.B.A. Zona Norte|Tigre||    Argentina   \n",
       "57793  |Argentina|Bs.As. G.B.A. Zona Norte|Tigre||    Argentina   \n",
       "58004  |Argentina|Bs.As. G.B.A. Zona Norte|Tigre||    Argentina   \n",
       "58037  |Argentina|Bs.As. G.B.A. Zona Norte|Tigre||    Argentina   \n",
       "59069  |Argentina|Bs.As. G.B.A. Zona Norte|Tigre||    Argentina   \n",
       "62411  |Argentina|Bs.As. G.B.A. Zona Norte|Tigre||    Argentina   \n",
       "62413  |Argentina|Bs.As. G.B.A. Zona Norte|Tigre||    Argentina   \n",
       "63849  |Argentina|Bs.As. G.B.A. Zona Norte|Tigre||    Argentina   \n",
       "\n",
       "                     state_name  geonames_id                        lat-lon  \\\n",
       "6489   Bs.As. G.B.A. Zona Norte          NaN    -34.4008968545,-58.63809847   \n",
       "10201  Bs.As. G.B.A. Zona Norte          NaN          -34.400704,-58.638067   \n",
       "11451  Bs.As. G.B.A. Zona Norte          NaN  -34.4026880384,-58.6262613379   \n",
       "14839  Bs.As. G.B.A. Zona Norte          NaN  -34.4007994779,-58.6381735719   \n",
       "18622  Bs.As. G.B.A. Zona Norte          NaN  -34.4032781195,-58.6263503945   \n",
       "21922  Bs.As. G.B.A. Zona Norte          NaN          -34.399704,-58.638405   \n",
       "23664  Bs.As. G.B.A. Zona Norte          NaN  -34.4005161998,-58.6417999185   \n",
       "24722  Bs.As. G.B.A. Zona Norte          NaN        -34.4007292,-58.6377783   \n",
       "38856  Bs.As. G.B.A. Zona Norte          NaN         -34.425087,-58.5796585   \n",
       "45970  Bs.As. G.B.A. Zona Norte          NaN           -34.396074,-58.63738   \n",
       "46642  Bs.As. G.B.A. Zona Norte          NaN          -34.400749,-58.638754   \n",
       "53130  Bs.As. G.B.A. Zona Norte          NaN          -34.400978,-58.637809   \n",
       "55306  Bs.As. G.B.A. Zona Norte          NaN        -34.3996311,-58.6433121   \n",
       "57703  Bs.As. G.B.A. Zona Norte          NaN      -34.39033749,-58.63368988   \n",
       "57759  Bs.As. G.B.A. Zona Norte          NaN      -34.39596815,-58.63077164   \n",
       "57764  Bs.As. G.B.A. Zona Norte          NaN      -34.39635767,-58.62613678   \n",
       "57793  Bs.As. G.B.A. Zona Norte          NaN      -34.39628685,-58.62922668   \n",
       "58004  Bs.As. G.B.A. Zona Norte          NaN      -34.39104577,-58.63617897   \n",
       "58037  Bs.As. G.B.A. Zona Norte          NaN      -34.39315287,-58.63197327   \n",
       "59069  Bs.As. G.B.A. Zona Norte          NaN          -34.400849,-58.638179   \n",
       "62411  Bs.As. G.B.A. Zona Norte          NaN          -34.396485,-58.635878   \n",
       "62413  Bs.As. G.B.A. Zona Norte          NaN          -34.396485,-58.635878   \n",
       "63849  Bs.As. G.B.A. Zona Norte          NaN           -34.39452,-58.632501   \n",
       "\n",
       "             lat        lon  ...  currency price_aprox_local_currency  \\\n",
       "6489  -34.400897 -58.638098  ...       USD                 11468925.0   \n",
       "10201 -34.400704 -58.638067  ...       USD                  9439807.5   \n",
       "11451 -34.402688 -58.626261  ...       USD                  9704475.0   \n",
       "14839 -34.400799 -58.638174  ...       USD                  8469360.0   \n",
       "18622 -34.403278 -58.626350  ...       USD                 22884916.5   \n",
       "21922 -34.399704 -58.638405  ...       USD                  7763580.0   \n",
       "23664 -34.400516 -58.641800  ...       USD                  8469360.0   \n",
       "24722 -34.400729 -58.637778  ...       USD                  9351585.0   \n",
       "38856 -34.425087 -58.579659  ...       USD                 23820075.0   \n",
       "45970 -34.396074 -58.637380  ...       USD                  1676227.5   \n",
       "46642 -34.400749 -58.638754  ...       USD                 25937415.0   \n",
       "53130 -34.400978 -58.637809  ...       USD                 11116035.0   \n",
       "55306 -34.399631 -58.643312  ...       USD                  8292915.0   \n",
       "57703 -34.390337 -58.633690  ...       USD                 11468925.0   \n",
       "57759 -34.395968 -58.630772  ...       USD                 10233810.0   \n",
       "57764 -34.396358 -58.626137  ...       USD                 17115165.0   \n",
       "57793 -34.396287 -58.629227  ...       USD                 13409820.0   \n",
       "58004 -34.391046 -58.636179  ...       USD                  9704475.0   \n",
       "58037 -34.393153 -58.631973  ...       USD                 10410255.0   \n",
       "59069 -34.400849 -58.638179  ...       USD                 11292480.0   \n",
       "62411 -34.396485 -58.635878  ...       USD                  5999130.0   \n",
       "62413 -34.396485 -58.635878  ...       USD                  7393045.5   \n",
       "63849 -34.394520 -58.632501  ...       USD                  7057800.0   \n",
       "\n",
       "       price_aprox_usd  surface_total_in_m2  surface_covered_in_m2  \\\n",
       "6489          650000.0                240.0                  240.0   \n",
       "10201         535000.0                  NaN                  300.0   \n",
       "11451         550000.0               2170.0                  270.0   \n",
       "14839         480000.0                240.0                  200.0   \n",
       "18622        1297000.0                340.0                  340.0   \n",
       "21922         440000.0                  NaN                  220.0   \n",
       "23664         480000.0                294.0                  294.0   \n",
       "24722         530000.0                316.0                  270.0   \n",
       "38856        1350000.0                  NaN                  550.0   \n",
       "45970          95000.0                 55.0                   27.0   \n",
       "46642        1470000.0                  NaN                   20.0   \n",
       "53130         630000.0               1000.0                  370.0   \n",
       "55306         470000.0                254.0                  204.0   \n",
       "57703         650000.0                230.0                  230.0   \n",
       "57759         580000.0                360.0                  360.0   \n",
       "57764         970000.0                425.0                  391.0   \n",
       "57793         760000.0                250.0                  250.0   \n",
       "58004         550000.0                266.0                  230.0   \n",
       "58037         590000.0                320.0                  320.0   \n",
       "59069         640000.0                  NaN                  248.0   \n",
       "62411         340000.0                170.0                  170.0   \n",
       "62413         419000.0                250.0                  200.0   \n",
       "63849         400000.0                140.0                  140.0   \n",
       "\n",
       "       price_usd_per_m2  price_per_m2  rooms  \\\n",
       "6489        2708.333333   2708.333333    NaN   \n",
       "10201               NaN   1783.333333    5.0   \n",
       "11451        253.456221   2037.037037    NaN   \n",
       "14839       2000.000000   2400.000000    NaN   \n",
       "18622       3814.705882   3814.705882    NaN   \n",
       "21922               NaN   2000.000000    5.0   \n",
       "23664       1632.653061   1632.653061    NaN   \n",
       "24722       1677.215190   1962.962963    NaN   \n",
       "38856               NaN   2454.545455    NaN   \n",
       "45970       1727.272727   3518.518519    1.0   \n",
       "46642               NaN  73500.000000    6.0   \n",
       "53130        630.000000   1702.702703    NaN   \n",
       "55306       1850.393701   2303.921569    NaN   \n",
       "57703       2826.086957   2826.086957    NaN   \n",
       "57759       1611.111111   1611.111111    NaN   \n",
       "57764       2282.352941   2480.818414    NaN   \n",
       "57793       3040.000000   3040.000000    NaN   \n",
       "58004       2067.669173   2391.304348    NaN   \n",
       "58037       1843.750000   1843.750000    NaN   \n",
       "59069               NaN   2580.645161    5.0   \n",
       "62411       2000.000000   2000.000000    4.0   \n",
       "62413       1676.000000   2095.000000    5.0   \n",
       "63849       2857.142857   2857.142857    5.0   \n",
       "\n",
       "                                             description  \\\n",
       "6489   Espectacular casa moderna de una planta, con a...   \n",
       "10201  Corredor Responsable: SABRINA COCCONI - CSI 62...   \n",
       "11451  MUY LINDA CASA EN EXCELENTE UBICACION!! Superf...   \n",
       "14839  Muy linda casa de estilo clásico.-Planta baja;...   \n",
       "18622   Casa con increible vista al lago con playa de...   \n",
       "21922  Corredor Responsable: Matias Castelli - CUCICB...   \n",
       "23664  EXCELENTE CASA CLASICA con grandes ventanas y ...   \n",
       "24722  EN EXCLUSIVIDAD!!!!!!Lindísima casa, muy lumin...   \n",
       "38856  SANTA MARIA DE TIGRE- AL RIO - ESPECTACULAR CA...   \n",
       "45970  EDIFICIO ZERENA – EL PALMAR, NORDELTA. Torre 2...   \n",
       "46642  Corredor Responsable: Matias Castelli - CUCICB...   \n",
       "53130  Excelente casa en Venta en B° Santa Maria de T...   \n",
       "55306  Muy linda casa de dos plantas en lote interno ...   \n",
       "57703  Espectacular casas moderna con amplio jardín s...   \n",
       "57759  Incluye una amarra de U$S 30.000 con elevador ...   \n",
       "57764  IMPECABLE ! Sobre la laguna con excelente orie...   \n",
       "57793  Súper cálida y agradable. Ubicada en uno de lo...   \n",
       "58004  Casa clásica muy cómoda.PLANTA BAJA: Hall de e...   \n",
       "58037  Excelente casa ubicada en uno de la a pocos ba...   \n",
       "59069  Corredor Responsable: Matias Castelli - CUCICB...   \n",
       "62411  Hermosa casa en lote perimetral, Excelente cal...   \n",
       "62413  Muy linda casa a estrenar sobre lote perimetra...   \n",
       "63849  Casa estilo colonial de una planta sobre lote ...   \n",
       "\n",
       "                                                   title  \n",
       "6489               Venta de casa en Santa María de Tigre  \n",
       "10201  VENTA CASA SANTA MARÍA DE TIGRE COUNTRY BARRIO...  \n",
       "11451                     SANTA MARIA DE TIGRE IMPECABLE  \n",
       "14839              Venta de casa en Santa María de Tigre  \n",
       "18622  Casa con increible vista al lago con playa y m...  \n",
       "21922           Venta Casa - Barrio Santa Maria de Tigre  \n",
       "23664    CASA EN VENTA EN SANTA MARIA DE TIGRE CON RENTA  \n",
       "24722              Venta de casa en Santa María de Tigre  \n",
       "38856                       Casa (barrio cerrado), Venta  \n",
       "45970  Excelente monoambiente. Barrio El Palmar.  Con...  \n",
       "46642                               Venta de Casa al rio  \n",
       "53130                                      Casa en Venta  \n",
       "55306             Santa María de Tigre. Casa con amarra.  \n",
       "57703                           SANTA MARIA DE TIGRE 100  \n",
       "57759                           SANTA MARIA DE TIGRE 100  \n",
       "57764                           SANTA MARIA DE TIGRE 100  \n",
       "57793                           SANTA MARIA DE TIGRE 100  \n",
       "58004                           SANTA MARIA DE TIGRE 100  \n",
       "58037                           SANTA MARIA DE TIGRE 100  \n",
       "59069      CASA EN VENTA AL AGUA EN SANTA MARIA DE TIGRE  \n",
       "62411       VENTA CASA A ESTRENAR EN LAS TIPAS NORDELTA   \n",
       "62413             Muy linda casa a estrenar en Las Tipas  \n",
       "63849                    Oportunidad! Casa en La Alameda  \n",
       "\n",
       "[23 rows x 21 columns]"
      ]
     },
     "execution_count": 16,
     "metadata": {},
     "output_type": "execute_result"
    }
   ],
   "source": [
    "place_name_nulos = data.loc[data.place_name.isnull(), :]\n",
    "place_name_nulos"
   ]
  },
  {
   "cell_type": "markdown",
   "id": "greenhouse-friendly",
   "metadata": {},
   "source": [
    "Todos los valores nulos son de Tigre."
   ]
  },
  {
   "cell_type": "code",
   "execution_count": 17,
   "id": "fifteen-angle",
   "metadata": {},
   "outputs": [],
   "source": [
    "data.place_name.fillna('Tigre', inplace = True)"
   ]
  },
  {
   "cell_type": "code",
   "execution_count": 18,
   "id": "consecutive-interface",
   "metadata": {},
   "outputs": [
    {
     "data": {
      "text/plain": [
       "0"
      ]
     },
     "execution_count": 18,
     "metadata": {},
     "output_type": "execute_result"
    }
   ],
   "source": [
    "data.place_name.isnull().sum()"
   ]
  },
  {
   "cell_type": "code",
   "execution_count": 19,
   "id": "allied-swedish",
   "metadata": {},
   "outputs": [
    {
     "data": {
      "text/plain": [
       "'Tigre'"
      ]
     },
     "execution_count": 19,
     "metadata": {},
     "output_type": "execute_result"
    }
   ],
   "source": [
    "data.place_name[6489]"
   ]
  },
  {
   "cell_type": "markdown",
   "id": "alone-opera",
   "metadata": {},
   "source": [
    "Reemplazo de todos los valores nulos por \"Tigre\", ya que en place_with_parent_names contiene en todos 'Tigre' "
   ]
  },
  {
   "cell_type": "markdown",
   "id": "further-format",
   "metadata": {},
   "source": [
    "##### Columna country_name"
   ]
  },
  {
   "cell_type": "code",
   "execution_count": 20,
   "id": "technological-bracelet",
   "metadata": {},
   "outputs": [
    {
     "data": {
      "text/plain": [
       "country_name\n",
       "Argentina    114724\n",
       "Name: country_name, dtype: int64"
      ]
     },
     "execution_count": 20,
     "metadata": {},
     "output_type": "execute_result"
    }
   ],
   "source": [
    "# Como vemos posee la totalidad de valores Argentina, por lo que no agregaría valor. Atacaremos el Drop de columnas más adelante.\n",
    "country_name_group = data.groupby('country_name').country_name.count()\n",
    "country_name_group"
   ]
  },
  {
   "cell_type": "markdown",
   "id": "presidential-nicholas",
   "metadata": {},
   "source": [
    "Todos los valores son \"Argentina\" y no hay vacios."
   ]
  },
  {
   "cell_type": "markdown",
   "id": "sexual-improvement",
   "metadata": {},
   "source": [
    "##### Columna state_name"
   ]
  },
  {
   "cell_type": "code",
   "execution_count": 21,
   "id": "passive-bench",
   "metadata": {},
   "outputs": [
    {
     "data": {
      "text/plain": [
       "state_name\n",
       "Bs.As. G.B.A. Zona Norte        24680\n",
       "Bs.As. G.B.A. Zona Oeste         9001\n",
       "Bs.As. G.B.A. Zona Sur          13505\n",
       "Buenos Aires Costa Atlántica     9908\n",
       "Buenos Aires Interior            2248\n",
       "Capital Federal                 30207\n",
       "Catamarca                          27\n",
       "Chaco                              57\n",
       "Chubut                            259\n",
       "Corrientes                        572\n",
       "Córdoba                         11304\n",
       "Entre Ríos                        352\n",
       "Formosa                            26\n",
       "Jujuy                              26\n",
       "La Pampa                          153\n",
       "La Rioja                            4\n",
       "Mendoza                           646\n",
       "Misiones                          401\n",
       "Neuquén                           569\n",
       "Río Negro                         789\n",
       "Salta                             276\n",
       "San Juan                           40\n",
       "San Luis                          245\n",
       "Santa Cruz                         20\n",
       "Santa Fe                         8783\n",
       "Santiago Del Estero                 4\n",
       "Tierra Del Fuego                   31\n",
       "Tucumán                           591\n",
       "Name: state_name, dtype: int64"
      ]
     },
     "execution_count": 21,
     "metadata": {},
     "output_type": "execute_result"
    }
   ],
   "source": [
    "state_name_group = data.groupby('state_name').state_name.count()\n",
    "state_name_group"
   ]
  },
  {
   "cell_type": "markdown",
   "id": "loaded-bahamas",
   "metadata": {},
   "source": [
    "Ningun valor nulo. Algunas provincias poseen pocas observaciones, cosa que analizaremos más adelante"
   ]
  },
  {
   "cell_type": "markdown",
   "id": "developed-alabama",
   "metadata": {},
   "source": [
    "##### Columna place_with_parent_names"
   ]
  },
  {
   "cell_type": "code",
   "execution_count": 22,
   "id": "honest-nevada",
   "metadata": {},
   "outputs": [
    {
     "data": {
      "text/plain": [
       "Index(['|Argentina|Bs.As. G.B.A. Zona Norte|',\n",
       "       '|Argentina|Bs.As. G.B.A. Zona Norte|Escobar|',\n",
       "       '|Argentina|Bs.As. G.B.A. Zona Norte|Escobar| Country Maschwitz Club|',\n",
       "       '|Argentina|Bs.As. G.B.A. Zona Norte|Escobar|Acacias Blancas|',\n",
       "       '|Argentina|Bs.As. G.B.A. Zona Norte|Escobar|Altos de Matheu|',\n",
       "       '|Argentina|Bs.As. G.B.A. Zona Norte|Escobar|Barrio Acacias|',\n",
       "       '|Argentina|Bs.As. G.B.A. Zona Norte|Escobar|Barrio Alamo Alto|',\n",
       "       '|Argentina|Bs.As. G.B.A. Zona Norte|Escobar|Barrio Araucarias|',\n",
       "       '|Argentina|Bs.As. G.B.A. Zona Norte|Escobar|Barrio Ceibos|',\n",
       "       '|Argentina|Bs.As. G.B.A. Zona Norte|Escobar|Barrio Cerrado \"El Aromo\"|',\n",
       "       ...\n",
       "       '|Argentina|Tucumán|', '|Argentina|Tucumán|Banda del Río Salí|',\n",
       "       '|Argentina|Tucumán|Concepción|', '|Argentina|Tucumán|Las Talitas|',\n",
       "       '|Argentina|Tucumán|Lules|',\n",
       "       '|Argentina|Tucumán|San Miguel de Tucumán|',\n",
       "       '|Argentina|Tucumán|Tafí Viejo|', '|Argentina|Tucumán|Tafí del Valle|',\n",
       "       '|Argentina|Tucumán|Villa Belgrano|',\n",
       "       '|Argentina|Tucumán|Yerba Buena|'],\n",
       "      dtype='object', name='place_with_parent_names', length=1164)"
      ]
     },
     "execution_count": 22,
     "metadata": {},
     "output_type": "execute_result"
    }
   ],
   "source": [
    "# Analizamos esta columna que como vemos abajo tiene separado por una barra vertical cada ubicación de más general a menos general.\n",
    "# Parte del país, luego va a la provincia, luego la localidad y el barrio en algunos casos.\n",
    "\n",
    "place_with_parent_names_group = data.groupby('place_with_parent_names').place_with_parent_names.count()\n",
    "place_with_parent_names_group.index"
   ]
  },
  {
   "cell_type": "code",
   "execution_count": 23,
   "id": "fourth-fellowship",
   "metadata": {},
   "outputs": [
    {
     "name": "stdout",
     "output_type": "stream",
     "text": [
      "Contiene 1164 valores distintos\n"
     ]
    }
   ],
   "source": [
    "print(\"Contiene\", len(place_with_parent_names_group.index),\"valores distintos\")"
   ]
  },
  {
   "cell_type": "code",
   "execution_count": 24,
   "id": "satisfied-swimming",
   "metadata": {},
   "outputs": [
    {
     "data": {
      "text/html": [
       "<div>\n",
       "<style scoped>\n",
       "    .dataframe tbody tr th:only-of-type {\n",
       "        vertical-align: middle;\n",
       "    }\n",
       "\n",
       "    .dataframe tbody tr th {\n",
       "        vertical-align: top;\n",
       "    }\n",
       "\n",
       "    .dataframe thead th {\n",
       "        text-align: right;\n",
       "    }\n",
       "</style>\n",
       "<table border=\"1\" class=\"dataframe\">\n",
       "  <thead>\n",
       "    <tr style=\"text-align: right;\">\n",
       "      <th></th>\n",
       "      <th>0</th>\n",
       "      <th>1</th>\n",
       "      <th>2</th>\n",
       "      <th>3</th>\n",
       "      <th>4</th>\n",
       "      <th>5</th>\n",
       "      <th>6</th>\n",
       "    </tr>\n",
       "  </thead>\n",
       "  <tbody>\n",
       "    <tr>\n",
       "      <th>0</th>\n",
       "      <td></td>\n",
       "      <td>Argentina</td>\n",
       "      <td>Capital Federal</td>\n",
       "      <td>Mataderos</td>\n",
       "      <td></td>\n",
       "      <td>None</td>\n",
       "      <td>None</td>\n",
       "    </tr>\n",
       "    <tr>\n",
       "      <th>1</th>\n",
       "      <td></td>\n",
       "      <td>Argentina</td>\n",
       "      <td>Bs.As. G.B.A. Zona Sur</td>\n",
       "      <td>La Plata</td>\n",
       "      <td></td>\n",
       "      <td>None</td>\n",
       "      <td>None</td>\n",
       "    </tr>\n",
       "    <tr>\n",
       "      <th>2</th>\n",
       "      <td></td>\n",
       "      <td>Argentina</td>\n",
       "      <td>Capital Federal</td>\n",
       "      <td>Mataderos</td>\n",
       "      <td></td>\n",
       "      <td>None</td>\n",
       "      <td>None</td>\n",
       "    </tr>\n",
       "    <tr>\n",
       "      <th>3</th>\n",
       "      <td></td>\n",
       "      <td>Argentina</td>\n",
       "      <td>Capital Federal</td>\n",
       "      <td>Liniers</td>\n",
       "      <td></td>\n",
       "      <td>None</td>\n",
       "      <td>None</td>\n",
       "    </tr>\n",
       "    <tr>\n",
       "      <th>4</th>\n",
       "      <td></td>\n",
       "      <td>Argentina</td>\n",
       "      <td>Buenos Aires Costa Atlántica</td>\n",
       "      <td>Mar del Plata</td>\n",
       "      <td>Centro</td>\n",
       "      <td></td>\n",
       "      <td>None</td>\n",
       "    </tr>\n",
       "    <tr>\n",
       "      <th>...</th>\n",
       "      <td>...</td>\n",
       "      <td>...</td>\n",
       "      <td>...</td>\n",
       "      <td>...</td>\n",
       "      <td>...</td>\n",
       "      <td>...</td>\n",
       "      <td>...</td>\n",
       "    </tr>\n",
       "    <tr>\n",
       "      <th>121215</th>\n",
       "      <td></td>\n",
       "      <td>Argentina</td>\n",
       "      <td>Capital Federal</td>\n",
       "      <td>Belgrano</td>\n",
       "      <td></td>\n",
       "      <td>None</td>\n",
       "      <td>None</td>\n",
       "    </tr>\n",
       "    <tr>\n",
       "      <th>121216</th>\n",
       "      <td></td>\n",
       "      <td>Argentina</td>\n",
       "      <td>Bs.As. G.B.A. Zona Norte</td>\n",
       "      <td>San Isidro</td>\n",
       "      <td>Beccar</td>\n",
       "      <td></td>\n",
       "      <td>None</td>\n",
       "    </tr>\n",
       "    <tr>\n",
       "      <th>121217</th>\n",
       "      <td></td>\n",
       "      <td>Argentina</td>\n",
       "      <td>Capital Federal</td>\n",
       "      <td>Villa Urquiza</td>\n",
       "      <td></td>\n",
       "      <td>None</td>\n",
       "      <td>None</td>\n",
       "    </tr>\n",
       "    <tr>\n",
       "      <th>121218</th>\n",
       "      <td></td>\n",
       "      <td>Argentina</td>\n",
       "      <td>Buenos Aires Costa Atlántica</td>\n",
       "      <td>Mar del Plata</td>\n",
       "      <td>Plaza Colón</td>\n",
       "      <td></td>\n",
       "      <td>None</td>\n",
       "    </tr>\n",
       "    <tr>\n",
       "      <th>121219</th>\n",
       "      <td></td>\n",
       "      <td>Argentina</td>\n",
       "      <td>Capital Federal</td>\n",
       "      <td></td>\n",
       "      <td>None</td>\n",
       "      <td>None</td>\n",
       "      <td>None</td>\n",
       "    </tr>\n",
       "  </tbody>\n",
       "</table>\n",
       "<p>114724 rows × 7 columns</p>\n",
       "</div>"
      ],
      "text/plain": [
       "       0           1                             2              3  \\\n",
       "0          Argentina               Capital Federal      Mataderos   \n",
       "1          Argentina        Bs.As. G.B.A. Zona Sur       La Plata   \n",
       "2          Argentina               Capital Federal      Mataderos   \n",
       "3          Argentina               Capital Federal        Liniers   \n",
       "4          Argentina  Buenos Aires Costa Atlántica  Mar del Plata   \n",
       "...    ..        ...                           ...            ...   \n",
       "121215     Argentina               Capital Federal       Belgrano   \n",
       "121216     Argentina      Bs.As. G.B.A. Zona Norte     San Isidro   \n",
       "121217     Argentina               Capital Federal  Villa Urquiza   \n",
       "121218     Argentina  Buenos Aires Costa Atlántica  Mar del Plata   \n",
       "121219     Argentina               Capital Federal                  \n",
       "\n",
       "                  4     5     6  \n",
       "0                    None  None  \n",
       "1                    None  None  \n",
       "2                    None  None  \n",
       "3                    None  None  \n",
       "4            Centro        None  \n",
       "...             ...   ...   ...  \n",
       "121215               None  None  \n",
       "121216       Beccar        None  \n",
       "121217               None  None  \n",
       "121218  Plaza Colón        None  \n",
       "121219         None  None  None  \n",
       "\n",
       "[114724 rows x 7 columns]"
      ]
     },
     "execution_count": 24,
     "metadata": {},
     "output_type": "execute_result"
    }
   ],
   "source": [
    "#Separamos la columna por la barra verical para poder aperturarlo.\n",
    "\n",
    "placestr=data.place_with_parent_names.str\n",
    "placeseparado = placestr.split('|', expand=True)\n",
    "placeseparado"
   ]
  },
  {
   "cell_type": "code",
   "execution_count": 25,
   "id": "incoming-marble",
   "metadata": {},
   "outputs": [],
   "source": [
    "# Renombramos las columnas del nuevo DF para luego comparar. Tener en cuenta que place_name tiene la mínima expresión de la ubicación.\n",
    "\n",
    "placeseparado.rename(columns={1:'country_name_nuevo', 2:'state_name_nuevo', 3:'place_name_nuevo1', 4:'place_name_nuevo2'},inplace=True)"
   ]
  },
  {
   "cell_type": "code",
   "execution_count": 26,
   "id": "pleasant-butler",
   "metadata": {},
   "outputs": [
    {
     "name": "stdout",
     "output_type": "stream",
     "text": [
      "<class 'pandas.core.frame.DataFrame'>\n",
      "Int64Index: 114724 entries, 0 to 121219\n",
      "Data columns (total 7 columns):\n",
      " #   Column              Non-Null Count   Dtype \n",
      "---  ------              --------------   ----- \n",
      " 0   0                   114724 non-null  object\n",
      " 1   country_name_nuevo  114724 non-null  object\n",
      " 2   state_name_nuevo    114724 non-null  object\n",
      " 3   place_name_nuevo1   114724 non-null  object\n",
      " 4   place_name_nuevo2   110438 non-null  object\n",
      " 5   5                   38987 non-null   object\n",
      " 6   6                   527 non-null     object\n",
      "dtypes: object(7)\n",
      "memory usage: 12.0+ MB\n"
     ]
    }
   ],
   "source": [
    "placeseparado.info()"
   ]
  },
  {
   "cell_type": "code",
   "execution_count": 27,
   "id": "built-maldives",
   "metadata": {},
   "outputs": [
    {
     "data": {
      "text/plain": [
       "True    114724\n",
       "dtype: int64"
      ]
     },
     "execution_count": 27,
     "metadata": {},
     "output_type": "execute_result"
    }
   ],
   "source": [
    "#comparamos si coinciden el país que extrajimos de la columna con country_name. Está ok\n",
    "controlpaises = data['country_name'] == placeseparado['country_name_nuevo']\n",
    "controlpaises.value_counts()"
   ]
  },
  {
   "cell_type": "code",
   "execution_count": 28,
   "id": "intelligent-buyer",
   "metadata": {},
   "outputs": [
    {
     "data": {
      "text/plain": [
       "True    114724\n",
       "dtype: int64"
      ]
     },
     "execution_count": 28,
     "metadata": {},
     "output_type": "execute_result"
    }
   ],
   "source": [
    "#comparamos ahora si coincide la provincia y está ok.\n",
    "controlprovincias = data['state_name'] == placeseparado['state_name_nuevo']\n",
    "controlprovincias.value_counts()"
   ]
  },
  {
   "cell_type": "code",
   "execution_count": 29,
   "id": "imposed-pointer",
   "metadata": {},
   "outputs": [
    {
     "data": {
      "text/plain": [
       "    527\n",
       "Name: 6, dtype: int64"
      ]
     },
     "execution_count": 29,
     "metadata": {},
     "output_type": "execute_result"
    }
   ],
   "source": [
    "# tratamos de analizar ahora place_name.\n",
    "# vemos que la columna 6 del nuevo DF son vacios asique la podemos eliminar\n",
    "placeseparado[6][placeseparado[6].notnull()].value_counts()"
   ]
  },
  {
   "cell_type": "code",
   "execution_count": 30,
   "id": "designed-baptist",
   "metadata": {},
   "outputs": [
    {
     "name": "stdout",
     "output_type": "stream",
     "text": [
      "                             38460\n",
      "Barrio Los Alisos              262\n",
      "Barrio La Alameda               62\n",
      "BarrioPortezuelo                52\n",
      "Barrio Los Lagos                39\n",
      "Barrio El Golf                  31\n",
      "Enyoi                           16\n",
      "QBay Yacht                      13\n",
      "Barrio Los Castores             13\n",
      "Barrio La Isla                  10\n",
      "Barrio Las Glorietas            10\n",
      "Islas del Canal                  6\n",
      "Barrio Los Sauces                4\n",
      "Barrio Barrancas del Lago        4\n",
      "Barrio Cabos del Lago            3\n",
      "Barrio El Yacht                  1\n",
      "Barrio Los Tilos                 1\n",
      "Name: 5, dtype: int64\n",
      "Barrio Los Alisos            262\n",
      "Barrio La Alameda             62\n",
      "BarrioPortezuelo              52\n",
      "Barrio Los Lagos              39\n",
      "Barrio El Golf                31\n",
      "Enyoi                         16\n",
      "Barrio Los Castores           13\n",
      "QBay Yacht                    13\n",
      "Barrio La Isla                10\n",
      "Barrio Las Glorietas          10\n",
      "Islas del Canal                6\n",
      "Barrio Barrancas del Lago      4\n",
      "Barrio Los Sauces              4\n",
      "Barrio Cabos del Lago          3\n",
      "Barrio El Yacht                1\n",
      "Barrio Los Tilos               1\n",
      "Name: 5, dtype: int64\n"
     ]
    }
   ],
   "source": [
    "# vemos que la columna 5 del nuevo DF la mayoría son vacíos y algunos son Barrios.\n",
    "a = placeseparado[5][placeseparado[5].notnull()].value_counts()\n",
    "print(a)\n",
    "\n",
    "# transformamos en NaN los vacíos\n",
    "placeseparado[5] = placeseparado[5].apply(lambda x: np.NaN if x=='' else x)\n",
    "a = placeseparado[5][placeseparado[5].notnull()].value_counts()\n",
    "print(a)"
   ]
  },
  {
   "cell_type": "code",
   "execution_count": 31,
   "id": "meaningful-novelty",
   "metadata": {},
   "outputs": [
    {
     "data": {
      "text/plain": [
       "Córdoba                               8544\n",
       "Rosario                               7142\n",
       "Mar del Plata                         6486\n",
       "Tigre                                 3205\n",
       "Nordelta                              3036\n",
       "                                      ... \n",
       "Chimbas                                  1\n",
       "Villa Fontana                            1\n",
       "Barrio Cerrado \"La Emilia\"               1\n",
       "Barrio Cerrado El Casco de Alvarez       1\n",
       "coordenadas 34.255511                    1\n",
       "Name: place_name, Length: 1060, dtype: int64"
      ]
     },
     "execution_count": 31,
     "metadata": {},
     "output_type": "execute_result"
    }
   ],
   "source": [
    "data.place_name.value_counts()"
   ]
  },
  {
   "cell_type": "code",
   "execution_count": 32,
   "id": "precious-illustration",
   "metadata": {},
   "outputs": [
    {
     "name": "stdout",
     "output_type": "stream",
     "text": [
      "17                   Barrio El Golf\n",
      "33                   Barrio El Golf\n",
      "278            Barrio Las Glorietas\n",
      "416                Barrio Los Lagos\n",
      "446            Barrio Las Glorietas\n",
      "                    ...            \n",
      "117011                   QBay Yacht\n",
      "118210             Barrio Los Lagos\n",
      "118841    Barrio Barrancas del Lago\n",
      "119583    Barrio Barrancas del Lago\n",
      "120156    Barrio Barrancas del Lago\n",
      "Name: place_name, Length: 527, dtype: object\n",
      "True    527\n",
      "dtype: int64\n",
      "Nordelta    527\n",
      "Name: place_name_nuevo2, dtype: int64\n"
     ]
    },
    {
     "data": {
      "text/plain": [
       "Córdoba                               8544\n",
       "Rosario                               7142\n",
       "Mar del Plata                         6486\n",
       "Tigre                                 3205\n",
       "Nordelta                              3036\n",
       "                                      ... \n",
       "Chimbas                                  1\n",
       "Villa Fontana                            1\n",
       "Barrio Cerrado \"La Emilia\"               1\n",
       "Barrio Cerrado El Casco de Alvarez       1\n",
       "coordenadas 34.255511                    1\n",
       "Name: place_name, Length: 1060, dtype: int64"
      ]
     },
     "execution_count": 32,
     "metadata": {},
     "output_type": "execute_result"
    }
   ],
   "source": [
    "# De esta columna 5 del nuevo DF se puede ver que son barrios cerrados y coinciden con el data frame original.\n",
    "b = data.place_name[placeseparado[5].notnull()]\n",
    "print(b)\n",
    "\n",
    "c = placeseparado[5][placeseparado[5].notnull()] == b\n",
    "print(c.value_counts())\n",
    "\n",
    "# Acá vemos que la totalidad de esos Barrios corresponden a Nordelta, por lo que los sacamos del Data Frame original\n",
    "# y reemplazamos todos esos valores por Nordelta para poder analizarlos mejor\n",
    "d = placeseparado['place_name_nuevo2'][placeseparado[5].notnull()]\n",
    "print(d.value_counts())\n",
    "\n",
    "data.place_name[placeseparado[5].notnull()] == d\n",
    "data.place_name.value_counts()"
   ]
  },
  {
   "cell_type": "code",
   "execution_count": 33,
   "id": "cardiac-receptor",
   "metadata": {},
   "outputs": [
    {
     "name": "stdout",
     "output_type": "stream",
     "text": [
      "                                         71474\n",
      "Nordelta                                  3563\n",
      "La Plata                                  1696\n",
      "Olivos                                    1565\n",
      "Lomas de Zamora                           1208\n",
      "                                         ...  \n",
      "Barrio Cerrado \"Isla del Sol\"                1\n",
      "La Escondida de Manzanares                   1\n",
      "Barrio Cerrado Los Troncos                   1\n",
      "Rancagua                                     1\n",
      "San Eliseo Country, Golf, Hotel & Spa        1\n",
      "Name: place_name_nuevo2, Length: 568, dtype: int64\n",
      "Nordelta                  3563\n",
      "La Plata                  1696\n",
      "Olivos                    1565\n",
      "Lomas de Zamora           1208\n",
      "Ramos Mejía               1120\n",
      "                          ... \n",
      "Pedro Luro                   1\n",
      "La Colina Golf & Polo        1\n",
      "Golf Club Argentino          1\n",
      "El Canton Barrio Islas       1\n",
      "Chacras de La Trinidad       1\n",
      "Name: place_name_nuevo2, Length: 567, dtype: int64\n"
     ]
    }
   ],
   "source": [
    "# vemos que la columna 4 que llamamos place_name_nuevo2 del nuevo DF la mayoría son vacíos.\n",
    "a = placeseparado.place_name_nuevo2[placeseparado['place_name_nuevo2'].notnull()].value_counts()\n",
    "print(a)\n",
    "\n",
    "# transformamos en NaN los vacíos\n",
    "placeseparado.place_name_nuevo2 = placeseparado.place_name_nuevo2.apply(lambda x: np.NaN if x=='' else x)\n",
    "a = placeseparado.place_name_nuevo2[placeseparado['place_name_nuevo2'].notnull()].value_counts()\n",
    "print(a)"
   ]
  },
  {
   "cell_type": "code",
   "execution_count": 34,
   "id": "challenging-harris",
   "metadata": {},
   "outputs": [
    {
     "name": "stdout",
     "output_type": "stream",
     "text": [
      "4               Centro\n",
      "6                Munro\n",
      "12            Martínez\n",
      "13        Palermo Soho\n",
      "14        Palermo Soho\n",
      "              ...     \n",
      "121211        Acassuso\n",
      "121212        Acassuso\n",
      "121213        Martínez\n",
      "121216          Beccar\n",
      "121218     Plaza Colón\n",
      "Name: place_name, Length: 38964, dtype: object\n",
      "True     38437\n",
      "False      527\n",
      "dtype: int64\n",
      "Tigre               6240\n",
      "Vicente López       3348\n",
      "Lomas de Zamora     3113\n",
      "La Plata            2508\n",
      "San Isidro          2301\n",
      "                    ... \n",
      "Ramallo                1\n",
      "Roque Pérez            1\n",
      "General Belgrano       1\n",
      "Villarino              1\n",
      "Navarro                1\n",
      "Name: place_name_nuevo1, Length: 80, dtype: int64\n"
     ]
    }
   ],
   "source": [
    "# De esta columna 4 del nuevo DF se puede ver que todo coincide con place_name.\n",
    "b = data.place_name[placeseparado['place_name_nuevo2'].notnull()]\n",
    "print(b)\n",
    "\n",
    "c = placeseparado.place_name_nuevo2[placeseparado['place_name_nuevo2'].notnull()] == b\n",
    "print(c.value_counts())\n",
    "\n",
    "d = placeseparado['place_name_nuevo1'][placeseparado['place_name_nuevo2'].notnull()]\n",
    "print(d.value_counts())"
   ]
  },
  {
   "cell_type": "markdown",
   "id": "interstate-wildlife",
   "metadata": {},
   "source": [
    "CONCLUSIÓN DEL ANALISIS DE LAS COLUMNAS DE UBICACIÓN:"
   ]
  },
  {
   "cell_type": "markdown",
   "id": "employed-pilot",
   "metadata": {},
   "source": [
    "El DataSet posee observaciones repartidas poro todo el país, y antes de sacar una conclusión, vamos a analizar el peso real de la cantidad de observaciones en cada territorio.\n",
    "\n",
    "Como vemos abajo, son 28 las zonas provinciales (incluye la provincia de Bs As separada)"
   ]
  },
  {
   "cell_type": "code",
   "execution_count": 35,
   "id": "elegant-malta",
   "metadata": {},
   "outputs": [
    {
     "name": "stdout",
     "output_type": "stream",
     "text": [
      "28\n"
     ]
    },
    {
     "data": {
      "text/plain": [
       "Capital Federal                 30207\n",
       "Bs.As. G.B.A. Zona Norte        24680\n",
       "Bs.As. G.B.A. Zona Sur          13505\n",
       "Córdoba                         11304\n",
       "Buenos Aires Costa Atlántica     9908\n",
       "Bs.As. G.B.A. Zona Oeste         9001\n",
       "Santa Fe                         8783\n",
       "Buenos Aires Interior            2248\n",
       "Río Negro                         789\n",
       "Mendoza                           646\n",
       "Tucumán                           591\n",
       "Corrientes                        572\n",
       "Neuquén                           569\n",
       "Misiones                          401\n",
       "Entre Ríos                        352\n",
       "Salta                             276\n",
       "Chubut                            259\n",
       "San Luis                          245\n",
       "La Pampa                          153\n",
       "Chaco                              57\n",
       "San Juan                           40\n",
       "Tierra Del Fuego                   31\n",
       "Catamarca                          27\n",
       "Formosa                            26\n",
       "Jujuy                              26\n",
       "Santa Cruz                         20\n",
       "Santiago Del Estero                 4\n",
       "La Rioja                            4\n",
       "Name: state_name, dtype: int64"
      ]
     },
     "execution_count": 35,
     "metadata": {},
     "output_type": "execute_result"
    }
   ],
   "source": [
    "# Vemos distribución por provincia\n",
    "distr_x_pcia = data['state_name'].value_counts()\n",
    "print(distr_x_pcia.count())\n",
    "distr_x_pcia"
   ]
  },
  {
   "cell_type": "markdown",
   "id": "previous-concentration",
   "metadata": {},
   "source": [
    "Vamos a listar el tamaño en KMS2 de las distintas provincias (o zonas) de las cuales tenemos datos y a calcular la cantidad de operaciones por KM2 que tenemos en cada una\n",
    "\n",
    "#Capital Federal                 202\n",
    "#Bs.As. G.B.A. Zona Norte        1427\n",
    "#Bs.As. G.B.A. Zona Sur          1207\n",
    "#Córdoba                         165321\n",
    "#Santa Fe                        133007\n",
    "#Buenos Aires Costa Atlántica    1280\n",
    "#Bs.As. G.B.A. Zona Oeste        1046\n",
    "#Buenos Aires Interior           302611\n",
    "#Río Negro                       203013\n",
    "#Neuquén                         94078\n",
    "#Mendoza                         148827\n",
    "#Tucumán                         22524\n",
    "#Corrientes                      88199\n",
    "#Misiones                        29801\n",
    "#Entre Ríos                      78781\n",
    "#Salta                           155488\n",
    "#Chubut                          224686\n",
    "#San Luis                        76748\n",
    "#La Pampa                        143440\n",
    "#Formosa                         72066\n",
    "#Chaco                           99633\n",
    "#San Juan                        89651\n",
    "#Tierra Del Fuego                21478\n",
    "#Catamarca                       102602\n",
    "#Jujuy                           53219\n",
    "#Santa Cruz                      243943\n",
    "#Santiago Del Estero             136351\n",
    "#La Rioja                        89680"
   ]
  },
  {
   "cell_type": "code",
   "execution_count": 36,
   "id": "finite-bacon",
   "metadata": {},
   "outputs": [
    {
     "name": "stdout",
     "output_type": "stream",
     "text": [
      "(28,)\n",
      "(28,)\n",
      "int64\n",
      "int64\n",
      "Capital Federal - Operaciones por KM2 -:  149.54\n",
      "Bs.As. G.B.A. Zona Norte - Operaciones por KM2 -:  17.3\n",
      "Bs.As. G.B.A. Zona Sur - Operaciones por KM2 -:  11.19\n",
      "Córdoba - Operaciones por KM2 -:  0.07\n",
      "Santa Fe - Operaciones por KM2 -:  0.07\n",
      "Buenos Aires Costa Atlántica - Operaciones por KM2 -:  7.03\n",
      "Bs.As. G.B.A. Zona Oeste - Operaciones por KM2 -:  8.4\n",
      "Buenos Aires Interior - Operaciones por KM2 -:  0.01\n",
      "Río Negro - Operaciones por KM2 -:  0.0\n",
      "Neuquen - Operaciones por KM2 -:  0.01\n",
      "Mendoza - Operaciones por KM2 -:  0.0\n",
      "Tucuman - Operaciones por KM2 -:  0.03\n",
      "Corrientes - Operaciones por KM2 -:  0.01\n",
      "Misiones - Operaciones por KM2 -:  0.01\n",
      "Entre Ríos - Operaciones por KM2 -:  0.0\n",
      "Salta - Operaciones por KM2 -:  0.0\n",
      "Chubut - Operaciones por KM2 -:  0.0\n",
      "San Luis - Operaciones por KM2 -:  0.0\n",
      "La Pampa - Operaciones por KM2 -:  0.0\n",
      "Formosa - Operaciones por KM2 -:  0.0\n",
      "Chaco - Operaciones por KM2 -:  0.0\n",
      "San Juan - Operaciones por KM2 -:  0.0\n",
      "Tierra del Fuego - Operaciones por KM2 -:  0.0\n",
      "Catamarca - Operaciones por KM2 -:  0.0\n",
      "Jujuy - Operaciones por KM2 -:  0.0\n",
      "Santa Cruz - Operaciones por KM2 -:  0.0\n",
      "Santiago del Estero - Operaciones por KM2 -:  0.0\n",
      "La Rioja - Operaciones por KM2 -:  0.0\n"
     ]
    }
   ],
   "source": [
    "tamañokms = pd.Series([202, 1427, 1207, 165321, 133007, 1280, 1046, 302611, 203013, 94078, 148827, 22524, 88199, 29801, 78781, 155488, 224686, 76748, 143440, 72066, 99633, 89651, 21478, 102602, 53219, 243943, 136351, 89680])\n",
    "print(distr_x_pcia.shape)\n",
    "print(tamañokms.shape)\n",
    "print(distr_x_pcia.dtype)\n",
    "print(tamañokms.dtype)\n",
    "\n",
    "print(\"Capital Federal - Operaciones por KM2 -: \", (distr_x_pcia[0]/tamañokms[0]).round(2))\n",
    "print(\"Bs.As. G.B.A. Zona Norte - Operaciones por KM2 -: \", (distr_x_pcia[1]/tamañokms[1]).round(2))\n",
    "print(\"Bs.As. G.B.A. Zona Sur - Operaciones por KM2 -: \", (distr_x_pcia[2]/tamañokms[2]).round(2))\n",
    "print(\"Córdoba - Operaciones por KM2 -: \", (distr_x_pcia[3]/tamañokms[3]).round(2))\n",
    "print(\"Santa Fe - Operaciones por KM2 -: \", (distr_x_pcia[4]/tamañokms[4]).round(2))\n",
    "print(\"Buenos Aires Costa Atlántica - Operaciones por KM2 -: \", (distr_x_pcia[5]/tamañokms[5]).round(2))\n",
    "print(\"Bs.As. G.B.A. Zona Oeste - Operaciones por KM2 -: \", (distr_x_pcia[6]/tamañokms[6]).round(2))\n",
    "print(\"Buenos Aires Interior - Operaciones por KM2 -: \", (distr_x_pcia[7]/tamañokms[7]).round(2))\n",
    "print(\"Río Negro - Operaciones por KM2 -: \", (distr_x_pcia[8]/tamañokms[8]).round(2))\n",
    "print(\"Neuquen - Operaciones por KM2 -: \", (distr_x_pcia[9]/tamañokms[9]).round(2))\n",
    "print(\"Mendoza - Operaciones por KM2 -: \", (distr_x_pcia[10]/tamañokms[10]).round(2))\n",
    "print(\"Tucuman - Operaciones por KM2 -: \", (distr_x_pcia[11]/tamañokms[11]).round(2))\n",
    "print(\"Corrientes - Operaciones por KM2 -: \", (distr_x_pcia[12]/tamañokms[12]).round(2))\n",
    "print(\"Misiones - Operaciones por KM2 -: \", (distr_x_pcia[13]/tamañokms[13]).round(2))\n",
    "print(\"Entre Ríos - Operaciones por KM2 -: \", (distr_x_pcia[14]/tamañokms[14]).round(2))\n",
    "print(\"Salta - Operaciones por KM2 -: \", (distr_x_pcia[15]/tamañokms[15]).round(2))\n",
    "print(\"Chubut - Operaciones por KM2 -: \", (distr_x_pcia[16]/tamañokms[16]).round(2))\n",
    "print(\"San Luis - Operaciones por KM2 -: \", (distr_x_pcia[17]/tamañokms[17]).round(2))\n",
    "print(\"La Pampa - Operaciones por KM2 -: \", (distr_x_pcia[18]/tamañokms[18]).round(2))\n",
    "print(\"Formosa - Operaciones por KM2 -: \", (distr_x_pcia[19]/tamañokms[19]).round(2))\n",
    "print(\"Chaco - Operaciones por KM2 -: \", (distr_x_pcia[20]/tamañokms[20]).round(2))\n",
    "print(\"San Juan - Operaciones por KM2 -: \", (distr_x_pcia[21]/tamañokms[21]).round(2))\n",
    "print(\"Tierra del Fuego - Operaciones por KM2 -: \", (distr_x_pcia[22]/tamañokms[22]).round(2))\n",
    "print(\"Catamarca - Operaciones por KM2 -: \", (distr_x_pcia[23]/tamañokms[23]).round(2))\n",
    "print(\"Jujuy - Operaciones por KM2 -: \", (distr_x_pcia[24]/tamañokms[24]).round(2))\n",
    "print(\"Santa Cruz - Operaciones por KM2 -: \", (distr_x_pcia[25]/tamañokms[25]).round(2))\n",
    "print(\"Santiago del Estero - Operaciones por KM2 -: \", (distr_x_pcia[26]/tamañokms[26]).round(2))\n",
    "print(\"La Rioja - Operaciones por KM2 -: \", (distr_x_pcia[27]/tamañokms[27]).round(2))\n",
    "\n"
   ]
  },
  {
   "cell_type": "code",
   "execution_count": 37,
   "id": "unsigned-significance",
   "metadata": {},
   "outputs": [
    {
     "name": "stdout",
     "output_type": "stream",
     "text": [
      "Belgrano           2753\n",
      "Palermo            2669\n",
      "Caballito          2160\n",
      "Recoleta           1483\n",
      "Villa Urquiza      1459\n",
      "                   ... \n",
      "Velez Sarsfield      38\n",
      "Villa Real           37\n",
      "Villa Soldati        14\n",
      "Villa Riachuelo       6\n",
      "Catalinas             4\n",
      "Name: place_name, Length: 62, dtype: int64\n",
      "(30207,)\n"
     ]
    },
    {
     "data": {
      "text/plain": [
       "Belgrano                2753\n",
       "Palermo                 2669\n",
       "Caballito               2160\n",
       "Recoleta                1483\n",
       "Villa Urquiza           1459\n",
       "Flores                  1275\n",
       "Villa Crespo            1218\n",
       "Barrio Norte            1124\n",
       "San Telmo               1119\n",
       "Almagro                 1067\n",
       "Capital Federal         1027\n",
       "Boedo                    852\n",
       "Nuñez                    711\n",
       "Balvanera                647\n",
       "Puerto Madero            612\n",
       "San Cristobal            608\n",
       "Saavedra                 516\n",
       "Monserrat                514\n",
       "Floresta                 461\n",
       "Palermo Hollywood        461\n",
       "Villa del Parque         447\n",
       "Villa Devoto             413\n",
       "Mataderos                412\n",
       "Barracas                 408\n",
       "Villa Luro               399\n",
       "Liniers                  383\n",
       "Palermo Soho             381\n",
       "Colegiales               344\n",
       "Parque Patricios         319\n",
       "Congreso                 296\n",
       "Coghlan                  246\n",
       "Retiro                   245\n",
       "Palermo Chico            225\n",
       "Centro / Microcentro     220\n",
       "Boca                     217\n",
       "Chacarita                204\n",
       "Constitución             203\n",
       "Villa Lugano             203\n",
       "San Nicolás              184\n",
       "Once                     175\n",
       "Name: place_name, dtype: int64"
      ]
     },
     "execution_count": 37,
     "metadata": {},
     "output_type": "execute_result"
    }
   ],
   "source": [
    "# Vemos que dentro de Capital Federal, 1027 valores no tienen definición de Localidad, por lo que estas tendremos que buscarlas por el lado de lat-lon.\n",
    "# Por otro lado vemos que Palermo está divido por zonas, en esta primera iteración lo dejaremos así.\n",
    "Control = data.place_name[data['state_name'] == 'Capital Federal']\n",
    "print(Control.value_counts())\n",
    "print(Control.shape)\n",
    "Control.value_counts().head(40)"
   ]
  },
  {
   "cell_type": "code",
   "execution_count": 38,
   "id": "subject-gregory",
   "metadata": {},
   "outputs": [
    {
     "name": "stdout",
     "output_type": "stream",
     "text": [
      "Tigre                             3205\n",
      "Nordelta                          3036\n",
      "Pilar                             2196\n",
      "Olivos                            1565\n",
      "Martínez                          1017\n",
      "                                  ... \n",
      "Barrio Cerrado La Masia              1\n",
      "The Boating Club                     1\n",
      "Barrio cerrado La Cascada            1\n",
      "Villa Granaderos De San Martin       1\n",
      "Islas                                1\n",
      "Name: place_name, Length: 264, dtype: int64\n",
      "(24680,)\n"
     ]
    },
    {
     "data": {
      "text/plain": [
       "Tigre                           3205\n",
       "Nordelta                        3036\n",
       "Pilar                           2196\n",
       "Olivos                          1565\n",
       "Martínez                        1017\n",
       "Escobar                         1009\n",
       "San Isidro                       958\n",
       "San Miguel                       742\n",
       "Vicente López                    670\n",
       "San Fernando                     634\n",
       "Florida                          612\n",
       "Benavidez                        597\n",
       "Villa Ballester                  584\n",
       "Beccar                           393\n",
       "General San Martín               381\n",
       "Victoria                         337\n",
       "La Lucila                        321\n",
       "San Martín                       295\n",
       "Bella Vista                      268\n",
       "Barrio Los Alisos                262\n",
       "Acassuso                         239\n",
       "Muñiz                            234\n",
       "Bs.As. G.B.A. Zona Norte         221\n",
       "Belén de Escobar                 194\n",
       "Rincón de Milberg                190\n",
       "Boulogne Sur Mer                 173\n",
       "Del Viso                         173\n",
       "Munro                            165\n",
       "Villa Adelina                    141\n",
       "José C Paz                       133\n",
       "Haras Santa Maria                126\n",
       "San Andres                       122\n",
       "Carapachay                       119\n",
       "Malvinas Argentinas              111\n",
       "Maschwitz                        107\n",
       "Santa Barbara Barrio Cerrado      93\n",
       "Don Torcuato                      90\n",
       "Villa Rosa                        88\n",
       "Barrio San Gabriel                84\n",
       "Delta                             84\n",
       "Name: place_name, dtype: int64"
      ]
     },
     "execution_count": 38,
     "metadata": {},
     "output_type": "execute_result"
    }
   ],
   "source": [
    "# Vemos que dentro de GBA Zona Norte, 221 valores no tienen definición de Localidad, por lo que al no ser significativas las eliminaremos.\n",
    "Control = data.place_name[data['state_name'] == 'Bs.As. G.B.A. Zona Norte']\n",
    "print(Control.value_counts())\n",
    "print(Control.shape)\n",
    "Control.value_counts().head(40)"
   ]
  },
  {
   "cell_type": "markdown",
   "id": "angry-steel",
   "metadata": {},
   "source": [
    "CONCLUSIÓN DEL ANALISIS DE LAS COLUMNAS DE UBICACIÓN: Si bien es correcto que en el Interior existe mucho terreno con poca densidad poblacional y podríamos analizar ciudades puntuales como Santa Fe, Rosario o Córdoba, en esta primera iteración vamos a limitar el análisis a las 2 zonas con mayor cantidad de operaciones por KM2 --> Capital Federal y GBA Zona Norte."
   ]
  },
  {
   "cell_type": "markdown",
   "id": "afraid-showcase",
   "metadata": {},
   "source": [
    "CREAMOS UN DATAFRAME EN EL QUE SÓLO CONTIENE A CABA Y GBA ZONA NORTE"
   ]
  },
  {
   "cell_type": "code",
   "execution_count": 39,
   "id": "convinced-performer",
   "metadata": {},
   "outputs": [
    {
     "data": {
      "text/html": [
       "<div>\n",
       "<style scoped>\n",
       "    .dataframe tbody tr th:only-of-type {\n",
       "        vertical-align: middle;\n",
       "    }\n",
       "\n",
       "    .dataframe tbody tr th {\n",
       "        vertical-align: top;\n",
       "    }\n",
       "\n",
       "    .dataframe thead th {\n",
       "        text-align: right;\n",
       "    }\n",
       "</style>\n",
       "<table border=\"1\" class=\"dataframe\">\n",
       "  <thead>\n",
       "    <tr style=\"text-align: right;\">\n",
       "      <th></th>\n",
       "      <th>operation</th>\n",
       "      <th>property_type</th>\n",
       "      <th>place_name</th>\n",
       "      <th>place_with_parent_names</th>\n",
       "      <th>country_name</th>\n",
       "      <th>state_name</th>\n",
       "      <th>geonames_id</th>\n",
       "      <th>lat-lon</th>\n",
       "      <th>lat</th>\n",
       "      <th>lon</th>\n",
       "      <th>...</th>\n",
       "      <th>currency</th>\n",
       "      <th>price_aprox_local_currency</th>\n",
       "      <th>price_aprox_usd</th>\n",
       "      <th>surface_total_in_m2</th>\n",
       "      <th>surface_covered_in_m2</th>\n",
       "      <th>price_usd_per_m2</th>\n",
       "      <th>price_per_m2</th>\n",
       "      <th>rooms</th>\n",
       "      <th>description</th>\n",
       "      <th>title</th>\n",
       "    </tr>\n",
       "  </thead>\n",
       "  <tbody>\n",
       "    <tr>\n",
       "      <th>0</th>\n",
       "      <td>sell</td>\n",
       "      <td>PH</td>\n",
       "      <td>Mataderos</td>\n",
       "      <td>|Argentina|Capital Federal|Mataderos|</td>\n",
       "      <td>Argentina</td>\n",
       "      <td>Capital Federal</td>\n",
       "      <td>3430787.0</td>\n",
       "      <td>-34.6618237,-58.5088387</td>\n",
       "      <td>-34.661824</td>\n",
       "      <td>-58.508839</td>\n",
       "      <td>...</td>\n",
       "      <td>USD</td>\n",
       "      <td>1093959.0</td>\n",
       "      <td>62000.0</td>\n",
       "      <td>55.0</td>\n",
       "      <td>40.0</td>\n",
       "      <td>1127.272727</td>\n",
       "      <td>1550.000000</td>\n",
       "      <td>NaN</td>\n",
       "      <td>2 AMBIENTES TIPO CASA PLANTA BAJA POR PASILLO,...</td>\n",
       "      <td>2 AMB TIPO CASA SIN EXPENSAS EN PB</td>\n",
       "    </tr>\n",
       "    <tr>\n",
       "      <th>2</th>\n",
       "      <td>sell</td>\n",
       "      <td>apartment</td>\n",
       "      <td>Mataderos</td>\n",
       "      <td>|Argentina|Capital Federal|Mataderos|</td>\n",
       "      <td>Argentina</td>\n",
       "      <td>Capital Federal</td>\n",
       "      <td>3430787.0</td>\n",
       "      <td>-34.6522615,-58.5229825</td>\n",
       "      <td>-34.652262</td>\n",
       "      <td>-58.522982</td>\n",
       "      <td>...</td>\n",
       "      <td>USD</td>\n",
       "      <td>1270404.0</td>\n",
       "      <td>72000.0</td>\n",
       "      <td>55.0</td>\n",
       "      <td>55.0</td>\n",
       "      <td>1309.090909</td>\n",
       "      <td>1309.090909</td>\n",
       "      <td>NaN</td>\n",
       "      <td>2 AMBIENTES 3ER PISO LATERAL LIVING COMEDOR AM...</td>\n",
       "      <td>2 AMB 3ER PISO CON ASCENSOR APTO CREDITO</td>\n",
       "    </tr>\n",
       "    <tr>\n",
       "      <th>3</th>\n",
       "      <td>sell</td>\n",
       "      <td>PH</td>\n",
       "      <td>Liniers</td>\n",
       "      <td>|Argentina|Capital Federal|Liniers|</td>\n",
       "      <td>Argentina</td>\n",
       "      <td>Capital Federal</td>\n",
       "      <td>3431333.0</td>\n",
       "      <td>-34.6477969,-58.5164244</td>\n",
       "      <td>-34.647797</td>\n",
       "      <td>-58.516424</td>\n",
       "      <td>...</td>\n",
       "      <td>USD</td>\n",
       "      <td>1676227.5</td>\n",
       "      <td>95000.0</td>\n",
       "      <td>NaN</td>\n",
       "      <td>NaN</td>\n",
       "      <td>NaN</td>\n",
       "      <td>NaN</td>\n",
       "      <td>NaN</td>\n",
       "      <td>PH 3 ambientes con patio. Hay 3 deptos en lote...</td>\n",
       "      <td>PH 3 amb. cfte. reciclado</td>\n",
       "    </tr>\n",
       "    <tr>\n",
       "      <th>6</th>\n",
       "      <td>sell</td>\n",
       "      <td>PH</td>\n",
       "      <td>Munro</td>\n",
       "      <td>|Argentina|Bs.As. G.B.A. Zona Norte|Vicente Ló...</td>\n",
       "      <td>Argentina</td>\n",
       "      <td>Bs.As. G.B.A. Zona Norte</td>\n",
       "      <td>3430511.0</td>\n",
       "      <td>-34.5329567,-58.5217825</td>\n",
       "      <td>-34.532957</td>\n",
       "      <td>-58.521782</td>\n",
       "      <td>...</td>\n",
       "      <td>USD</td>\n",
       "      <td>2293785.0</td>\n",
       "      <td>130000.0</td>\n",
       "      <td>106.0</td>\n",
       "      <td>78.0</td>\n",
       "      <td>1226.415094</td>\n",
       "      <td>1666.666667</td>\n",
       "      <td>NaN</td>\n",
       "      <td>MUY BUEN PH AL FRENTE CON ENTRADA INDEPENDIENT...</td>\n",
       "      <td>MUY BUEN PH AL FRENTE DOS DORMITORIOS , PATIO,...</td>\n",
       "    </tr>\n",
       "    <tr>\n",
       "      <th>7</th>\n",
       "      <td>sell</td>\n",
       "      <td>apartment</td>\n",
       "      <td>Belgrano</td>\n",
       "      <td>|Argentina|Capital Federal|Belgrano|</td>\n",
       "      <td>Argentina</td>\n",
       "      <td>Capital Federal</td>\n",
       "      <td>3436077.0</td>\n",
       "      <td>-34.5598729,-58.443362</td>\n",
       "      <td>-34.559873</td>\n",
       "      <td>-58.443362</td>\n",
       "      <td>...</td>\n",
       "      <td>USD</td>\n",
       "      <td>2434941.0</td>\n",
       "      <td>138000.0</td>\n",
       "      <td>45.0</td>\n",
       "      <td>40.0</td>\n",
       "      <td>3066.666667</td>\n",
       "      <td>3450.000000</td>\n",
       "      <td>NaN</td>\n",
       "      <td>EXCELENTE MONOAMBIENTE A ESTRENAR AMPLIO SUPER...</td>\n",
       "      <td>JOSE HERNANDEZ 1400 MONOAMBIENTE  ESTRENAR CAT...</td>\n",
       "    </tr>\n",
       "  </tbody>\n",
       "</table>\n",
       "<p>5 rows × 21 columns</p>\n",
       "</div>"
      ],
      "text/plain": [
       "  operation property_type place_name  \\\n",
       "0      sell            PH  Mataderos   \n",
       "2      sell     apartment  Mataderos   \n",
       "3      sell            PH    Liniers   \n",
       "6      sell            PH      Munro   \n",
       "7      sell     apartment   Belgrano   \n",
       "\n",
       "                             place_with_parent_names country_name  \\\n",
       "0              |Argentina|Capital Federal|Mataderos|    Argentina   \n",
       "2              |Argentina|Capital Federal|Mataderos|    Argentina   \n",
       "3                |Argentina|Capital Federal|Liniers|    Argentina   \n",
       "6  |Argentina|Bs.As. G.B.A. Zona Norte|Vicente Ló...    Argentina   \n",
       "7               |Argentina|Capital Federal|Belgrano|    Argentina   \n",
       "\n",
       "                 state_name  geonames_id                  lat-lon        lat  \\\n",
       "0           Capital Federal    3430787.0  -34.6618237,-58.5088387 -34.661824   \n",
       "2           Capital Federal    3430787.0  -34.6522615,-58.5229825 -34.652262   \n",
       "3           Capital Federal    3431333.0  -34.6477969,-58.5164244 -34.647797   \n",
       "6  Bs.As. G.B.A. Zona Norte    3430511.0  -34.5329567,-58.5217825 -34.532957   \n",
       "7           Capital Federal    3436077.0   -34.5598729,-58.443362 -34.559873   \n",
       "\n",
       "         lon  ...  currency price_aprox_local_currency  price_aprox_usd  \\\n",
       "0 -58.508839  ...       USD                  1093959.0          62000.0   \n",
       "2 -58.522982  ...       USD                  1270404.0          72000.0   \n",
       "3 -58.516424  ...       USD                  1676227.5          95000.0   \n",
       "6 -58.521782  ...       USD                  2293785.0         130000.0   \n",
       "7 -58.443362  ...       USD                  2434941.0         138000.0   \n",
       "\n",
       "   surface_total_in_m2  surface_covered_in_m2  price_usd_per_m2  price_per_m2  \\\n",
       "0                 55.0                   40.0       1127.272727   1550.000000   \n",
       "2                 55.0                   55.0       1309.090909   1309.090909   \n",
       "3                  NaN                    NaN               NaN           NaN   \n",
       "6                106.0                   78.0       1226.415094   1666.666667   \n",
       "7                 45.0                   40.0       3066.666667   3450.000000   \n",
       "\n",
       "   rooms                                        description  \\\n",
       "0    NaN  2 AMBIENTES TIPO CASA PLANTA BAJA POR PASILLO,...   \n",
       "2    NaN  2 AMBIENTES 3ER PISO LATERAL LIVING COMEDOR AM...   \n",
       "3    NaN  PH 3 ambientes con patio. Hay 3 deptos en lote...   \n",
       "6    NaN  MUY BUEN PH AL FRENTE CON ENTRADA INDEPENDIENT...   \n",
       "7    NaN  EXCELENTE MONOAMBIENTE A ESTRENAR AMPLIO SUPER...   \n",
       "\n",
       "                                               title  \n",
       "0                 2 AMB TIPO CASA SIN EXPENSAS EN PB  \n",
       "2           2 AMB 3ER PISO CON ASCENSOR APTO CREDITO  \n",
       "3                       PH 3 amb. cfte. reciclado     \n",
       "6  MUY BUEN PH AL FRENTE DOS DORMITORIOS , PATIO,...  \n",
       "7  JOSE HERNANDEZ 1400 MONOAMBIENTE  ESTRENAR CAT...  \n",
       "\n",
       "[5 rows x 21 columns]"
      ]
     },
     "execution_count": 39,
     "metadata": {},
     "output_type": "execute_result"
    }
   ],
   "source": [
    "cf = data.loc[:, 'state_name'].isin(['Capital Federal','Bs.As. G.B.A. Zona Norte'])\n",
    "data = data.loc[cf]\n",
    "data.head(5)"
   ]
  },
  {
   "cell_type": "code",
   "execution_count": 40,
   "id": "frozen-synthesis",
   "metadata": {},
   "outputs": [
    {
     "data": {
      "text/html": [
       "<div>\n",
       "<style scoped>\n",
       "    .dataframe tbody tr th:only-of-type {\n",
       "        vertical-align: middle;\n",
       "    }\n",
       "\n",
       "    .dataframe tbody tr th {\n",
       "        vertical-align: top;\n",
       "    }\n",
       "\n",
       "    .dataframe thead th {\n",
       "        text-align: right;\n",
       "    }\n",
       "</style>\n",
       "<table border=\"1\" class=\"dataframe\">\n",
       "  <thead>\n",
       "    <tr style=\"text-align: right;\">\n",
       "      <th></th>\n",
       "      <th>pais</th>\n",
       "      <th>provincia</th>\n",
       "      <th>localidad</th>\n",
       "      <th>barrio</th>\n",
       "      <th>geonames_id</th>\n",
       "    </tr>\n",
       "  </thead>\n",
       "  <tbody>\n",
       "    <tr>\n",
       "      <th>0</th>\n",
       "      <td>Argentina</td>\n",
       "      <td>Capital Federal</td>\n",
       "      <td>Mataderos</td>\n",
       "      <td></td>\n",
       "      <td>3430787.0</td>\n",
       "    </tr>\n",
       "    <tr>\n",
       "      <th>2</th>\n",
       "      <td>Argentina</td>\n",
       "      <td>Capital Federal</td>\n",
       "      <td>Mataderos</td>\n",
       "      <td></td>\n",
       "      <td>3430787.0</td>\n",
       "    </tr>\n",
       "    <tr>\n",
       "      <th>3</th>\n",
       "      <td>Argentina</td>\n",
       "      <td>Capital Federal</td>\n",
       "      <td>Liniers</td>\n",
       "      <td></td>\n",
       "      <td>3431333.0</td>\n",
       "    </tr>\n",
       "    <tr>\n",
       "      <th>6</th>\n",
       "      <td>Argentina</td>\n",
       "      <td>Bs.As. G.B.A. Zona Norte</td>\n",
       "      <td>Vicente López</td>\n",
       "      <td>Munro</td>\n",
       "      <td>3430511.0</td>\n",
       "    </tr>\n",
       "    <tr>\n",
       "      <th>7</th>\n",
       "      <td>Argentina</td>\n",
       "      <td>Capital Federal</td>\n",
       "      <td>Belgrano</td>\n",
       "      <td></td>\n",
       "      <td>3436077.0</td>\n",
       "    </tr>\n",
       "    <tr>\n",
       "      <th>...</th>\n",
       "      <td>...</td>\n",
       "      <td>...</td>\n",
       "      <td>...</td>\n",
       "      <td>...</td>\n",
       "      <td>...</td>\n",
       "    </tr>\n",
       "    <tr>\n",
       "      <th>121214</th>\n",
       "      <td>Argentina</td>\n",
       "      <td>Bs.As. G.B.A. Zona Norte</td>\n",
       "      <td>San Isidro</td>\n",
       "      <td></td>\n",
       "      <td>3428983.0</td>\n",
       "    </tr>\n",
       "    <tr>\n",
       "      <th>121215</th>\n",
       "      <td>Argentina</td>\n",
       "      <td>Capital Federal</td>\n",
       "      <td>Belgrano</td>\n",
       "      <td></td>\n",
       "      <td>3436077.0</td>\n",
       "    </tr>\n",
       "    <tr>\n",
       "      <th>121216</th>\n",
       "      <td>Argentina</td>\n",
       "      <td>Bs.As. G.B.A. Zona Norte</td>\n",
       "      <td>San Isidro</td>\n",
       "      <td>Beccar</td>\n",
       "      <td>3436080.0</td>\n",
       "    </tr>\n",
       "    <tr>\n",
       "      <th>121217</th>\n",
       "      <td>Argentina</td>\n",
       "      <td>Capital Federal</td>\n",
       "      <td>Villa Urquiza</td>\n",
       "      <td></td>\n",
       "      <td>3433775.0</td>\n",
       "    </tr>\n",
       "    <tr>\n",
       "      <th>121219</th>\n",
       "      <td>Argentina</td>\n",
       "      <td>Capital Federal</td>\n",
       "      <td></td>\n",
       "      <td>None</td>\n",
       "      <td>3433955.0</td>\n",
       "    </tr>\n",
       "  </tbody>\n",
       "</table>\n",
       "<p>54887 rows × 5 columns</p>\n",
       "</div>"
      ],
      "text/plain": [
       "             pais                 provincia      localidad  barrio  \\\n",
       "0       Argentina           Capital Federal      Mataderos           \n",
       "2       Argentina           Capital Federal      Mataderos           \n",
       "3       Argentina           Capital Federal        Liniers           \n",
       "6       Argentina  Bs.As. G.B.A. Zona Norte  Vicente López   Munro   \n",
       "7       Argentina           Capital Federal       Belgrano           \n",
       "...           ...                       ...            ...     ...   \n",
       "121214  Argentina  Bs.As. G.B.A. Zona Norte     San Isidro           \n",
       "121215  Argentina           Capital Federal       Belgrano           \n",
       "121216  Argentina  Bs.As. G.B.A. Zona Norte     San Isidro  Beccar   \n",
       "121217  Argentina           Capital Federal  Villa Urquiza           \n",
       "121219  Argentina           Capital Federal                   None   \n",
       "\n",
       "        geonames_id  \n",
       "0         3430787.0  \n",
       "2         3430787.0  \n",
       "3         3431333.0  \n",
       "6         3430511.0  \n",
       "7         3436077.0  \n",
       "...             ...  \n",
       "121214    3428983.0  \n",
       "121215    3436077.0  \n",
       "121216    3436080.0  \n",
       "121217    3433775.0  \n",
       "121219    3433955.0  \n",
       "\n",
       "[54887 rows x 5 columns]"
      ]
     },
     "execution_count": 40,
     "metadata": {},
     "output_type": "execute_result"
    }
   ],
   "source": [
    "place_split = data.place_with_parent_names.str.split('|', expand=True).rename({1:'pais', 2:'provincia', 3:'localidad', 4:'barrio'}, axis=1).drop([0,5,6], axis=1)\n",
    "place_split['geonames_id'] = data['geonames_id']\n",
    "place_split"
   ]
  },
  {
   "cell_type": "code",
   "execution_count": 41,
   "id": "norwegian-dryer",
   "metadata": {},
   "outputs": [
    {
     "data": {
      "text/plain": [
       "localidad\n",
       "Tigre                 8512\n",
       "Palermo               3776\n",
       "Vicente López         3575\n",
       "Pilar                 3201\n",
       "San Isidro            2927\n",
       "Belgrano              2753\n",
       "Caballito             2160\n",
       "Escobar               1773\n",
       "General San Martín    1577\n",
       "Recoleta              1483\n",
       "Villa Urquiza         1459\n",
       "Flores                1275\n",
       "San Miguel            1250\n",
       "                      1248\n",
       "Villa Crespo          1218\n",
       "Barrio Norte          1124\n",
       "San Telmo             1119\n",
       "Almagro               1067\n",
       "San Fernando          1027\n",
       "Boedo                  852\n",
       "Name: localidad, dtype: int64"
      ]
     },
     "execution_count": 41,
     "metadata": {},
     "output_type": "execute_result"
    }
   ],
   "source": [
    "localidades = place_split.groupby('localidad').localidad.count().sort_values(ascending=False)\n",
    "localidades.head(20)"
   ]
  },
  {
   "cell_type": "code",
   "execution_count": 42,
   "id": "weekly-camping",
   "metadata": {},
   "outputs": [],
   "source": [
    "place_split['localidad'] = place_split['localidad'].apply(lambda x: np.NaN if x=='' else x)"
   ]
  },
  {
   "cell_type": "code",
   "execution_count": 43,
   "id": "mexican-pendant",
   "metadata": {},
   "outputs": [
    {
     "data": {
      "text/plain": [
       "1248"
      ]
     },
     "execution_count": 43,
     "metadata": {},
     "output_type": "execute_result"
    }
   ],
   "source": [
    "mascara_sin_localidad = place_split.localidad.isnull()\n",
    "mascara_sin_localidad.sum()"
   ]
  },
  {
   "cell_type": "code",
   "execution_count": 44,
   "id": "classified-significance",
   "metadata": {},
   "outputs": [
    {
     "data": {
      "text/plain": [
       "geonames_id\n",
       "3433955.0    1027\n",
       "3435907.0     221\n",
       "Name: geonames_id, dtype: int64"
      ]
     },
     "execution_count": 44,
     "metadata": {},
     "output_type": "execute_result"
    }
   ],
   "source": [
    "mascara_sin_localidad = place_split.localidad.isnull()\n",
    "geonames_id_sin_localidad = place_split[mascara_sin_localidad].groupby('geonames_id').geonames_id.count().sort_values(ascending=False)\n",
    "geonames_id_sin_localidad"
   ]
  },
  {
   "cell_type": "code",
   "execution_count": 45,
   "id": "nominated-karaoke",
   "metadata": {},
   "outputs": [
    {
     "data": {
      "text/plain": [
       "geonames_id\n",
       "3433955.0    1027\n",
       "Name: geonames_id, dtype: int64"
      ]
     },
     "execution_count": 45,
     "metadata": {},
     "output_type": "execute_result"
    }
   ],
   "source": [
    "repeticiones_geonames_id_sin_localidad = place_split[place_split.geonames_id == 3433955.0].groupby('geonames_id').geonames_id.count().sort_values(ascending=False)\n",
    "repeticiones_geonames_id_sin_localidad"
   ]
  },
  {
   "cell_type": "code",
   "execution_count": 46,
   "id": "center-departure",
   "metadata": {},
   "outputs": [
    {
     "data": {
      "text/plain": [
       "geonames_id\n",
       "3435907.0    221\n",
       "Name: geonames_id, dtype: int64"
      ]
     },
     "execution_count": 46,
     "metadata": {},
     "output_type": "execute_result"
    }
   ],
   "source": [
    "repeticiones_geonames_id_sin_localidad = place_split[place_split.geonames_id == 3435907.0].groupby('geonames_id').geonames_id.count().sort_values(ascending=False)\n",
    "repeticiones_geonames_id_sin_localidad"
   ]
  },
  {
   "cell_type": "markdown",
   "id": "mobile-supervision",
   "metadata": {},
   "source": [
    "Podemos ver que los dos geonames_id que nos faltan en ningun registro tienen imputado la localidad."
   ]
  },
  {
   "cell_type": "code",
   "execution_count": 47,
   "id": "theoretical-timber",
   "metadata": {},
   "outputs": [],
   "source": [
    "mascara_capital = place_split.provincia == 'Capital Federal'"
   ]
  },
  {
   "cell_type": "code",
   "execution_count": 48,
   "id": "threatened-editing",
   "metadata": {},
   "outputs": [],
   "source": [
    "mascara_bs_as_nor = place_split.provincia == 'Bs.As. G.B.A. Zona Norte'"
   ]
  },
  {
   "cell_type": "code",
   "execution_count": 49,
   "id": "swedish-atlantic",
   "metadata": {},
   "outputs": [
    {
     "data": {
      "text/plain": [
       "lat-lon\n",
       "-34.6088806617,-58.439839714     18\n",
       "-34.6014466451,-58.3782083649    16\n",
       "-34.6428675967,-58.4376599743    10\n",
       "-34.6448912529,-58.4903284036     8\n",
       "-34.615890187,-58.4777301155      5\n",
       "                                 ..\n",
       "-34.6221312246,-58.5265297589     1\n",
       "-34.6217229,-58.443146            1\n",
       "-34.6214436069,-58.4787060614     1\n",
       "-34.6208614333,-58.454866939      1\n",
       "-34.4689983,-58.6818304           1\n",
       "Name: lat, Length: 247, dtype: int64"
      ]
     },
     "execution_count": 49,
     "metadata": {},
     "output_type": "execute_result"
    }
   ],
   "source": [
    "lat_lon_sin_localidad_capital = data[mascara_sin_localidad].groupby('lat-lon').lat.count().sort_values(ascending=False)\n",
    "lat_lon_sin_localidad_capital"
   ]
  },
  {
   "cell_type": "code",
   "execution_count": 50,
   "id": "stock-viking",
   "metadata": {},
   "outputs": [
    {
     "name": "stdout",
     "output_type": "stream",
     "text": [
      "Hay 355 operaciones en Capital Federal sin localidad que tienen imputado lat-lon. Se repiten asi que no son datos muy fiables\n"
     ]
    }
   ],
   "source": [
    "print(\"Hay\", lat_lon_sin_localidad_capital.sum(), \"operaciones en Capital Federal sin localidad que tienen imputado lat-lon. Se repiten asi que no son datos muy fiables\")"
   ]
  },
  {
   "cell_type": "code",
   "execution_count": 51,
   "id": "stylish-house",
   "metadata": {},
   "outputs": [
    {
     "data": {
      "text/plain": [
       "lat\n",
       "-34.533220    2\n",
       "-34.468998    1\n",
       "-34.484539    1\n",
       "Name: lat, dtype: int64"
      ]
     },
     "execution_count": 51,
     "metadata": {},
     "output_type": "execute_result"
    }
   ],
   "source": [
    "lat_lon_sin_localidad_bs_as_nor = data[mascara_sin_localidad&mascara_bs_as_nor].groupby('lat').lat.count().sort_values(ascending=False)\n",
    "lat_lon_sin_localidad_bs_as_nor"
   ]
  },
  {
   "cell_type": "code",
   "execution_count": 52,
   "id": "subject-intelligence",
   "metadata": {},
   "outputs": [
    {
     "name": "stdout",
     "output_type": "stream",
     "text": [
      "Hay 4 operaciones en Bs.As. G.B.A. Zona Norte sin localidad que tienen imputado lat-lon.\n"
     ]
    }
   ],
   "source": [
    "print(\"Hay\", lat_lon_sin_localidad_bs_as_nor.sum(), \"operaciones en Bs.As. G.B.A. Zona Norte sin localidad que tienen imputado lat-lon.\")"
   ]
  },
  {
   "cell_type": "markdown",
   "id": "random-thesis",
   "metadata": {},
   "source": [
    "### ANÁLISIS DE COLUMNAS DE 10 A 17 - PRECIO POR METRO CUADRADO"
   ]
  },
  {
   "cell_type": "markdown",
   "id": "established-creativity",
   "metadata": {},
   "source": [
    "#### ANÁLISIS DE PRECIOS"
   ]
  },
  {
   "cell_type": "code",
   "execution_count": 53,
   "id": "buried-machinery",
   "metadata": {},
   "outputs": [
    {
     "data": {
      "text/plain": [
       "0          62000.0\n",
       "2          72000.0\n",
       "3          95000.0\n",
       "6         130000.0\n",
       "7         138000.0\n",
       "            ...   \n",
       "121214         NaN\n",
       "121215    870000.0\n",
       "121216    498000.0\n",
       "121217    131500.0\n",
       "121219    129000.0\n",
       "Name: price, Length: 54887, dtype: float64"
      ]
     },
     "execution_count": 53,
     "metadata": {},
     "output_type": "execute_result"
    }
   ],
   "source": [
    "# Vamos a analizar puntualmente la columna price\n",
    "# Vemos que es de tipo flotante y posee en principio los valores a los que se realizó cada operación. \n",
    "data['price']"
   ]
  },
  {
   "cell_type": "code",
   "execution_count": 54,
   "id": "applied-belief",
   "metadata": {},
   "outputs": [
    {
     "data": {
      "text/plain": [
       "0         USD\n",
       "2         USD\n",
       "3         USD\n",
       "6         USD\n",
       "7         USD\n",
       "         ... \n",
       "121214    NaN\n",
       "121215    USD\n",
       "121216    USD\n",
       "121217    USD\n",
       "121219    USD\n",
       "Name: currency, Length: 54887, dtype: object"
      ]
     },
     "execution_count": 54,
     "metadata": {},
     "output_type": "execute_result"
    }
   ],
   "source": [
    "# Si vemos la columna siguiente (tipo Str), posee la moneda en la que se realizó la operación.\n",
    "data['currency']"
   ]
  },
  {
   "cell_type": "code",
   "execution_count": 55,
   "id": "excess-bundle",
   "metadata": {},
   "outputs": [
    {
     "data": {
      "text/plain": [
       "3180"
      ]
     },
     "execution_count": 55,
     "metadata": {},
     "output_type": "execute_result"
    }
   ],
   "source": [
    "# Vemos que de los 54887 valores, 3180 son nulos para la columna de price\n",
    "data.price.isnull().sum()"
   ]
  },
  {
   "cell_type": "code",
   "execution_count": 56,
   "id": "three-boundary",
   "metadata": {},
   "outputs": [
    {
     "data": {
      "text/plain": [
       "3180"
      ]
     },
     "execution_count": 56,
     "metadata": {},
     "output_type": "execute_result"
    }
   ],
   "source": [
    "# Vemos también que 3180 son nulos para la columna de currency\n",
    "data.currency.isnull().sum()"
   ]
  },
  {
   "cell_type": "code",
   "execution_count": 57,
   "id": "foreign-accreditation",
   "metadata": {},
   "outputs": [
    {
     "data": {
      "text/plain": [
       "True    54887\n",
       "dtype: int64"
      ]
     },
     "execution_count": 57,
     "metadata": {},
     "output_type": "execute_result"
    }
   ],
   "source": [
    "# Vamos a asegurarnos que los no nulos coincidan entre las columnas\n",
    "price_nulo_bool = data.price.isnull()\n",
    "currency_nulo_bool = data.currency.isnull()\n",
    "precio_sin_currency = price_nulo_bool == currency_nulo_bool\n",
    "precio_sin_currency.value_counts()"
   ]
  },
  {
   "cell_type": "code",
   "execution_count": 58,
   "id": "extraordinary-renewal",
   "metadata": {},
   "outputs": [
    {
     "data": {
      "text/plain": [
       "False    54887\n",
       "Name: price, dtype: int64"
      ]
     },
     "execution_count": 58,
     "metadata": {},
     "output_type": "execute_result"
    }
   ],
   "source": [
    "# En el DF original había valores 0 en la columna Price, por lo que vamos a corroborar que ahora no exista ninguno.\n",
    "\n",
    "precios0 = data['price'] == 0\n",
    "precios0.value_counts()"
   ]
  },
  {
   "cell_type": "code",
   "execution_count": 59,
   "id": "applied-toolbox",
   "metadata": {},
   "outputs": [
    {
     "data": {
      "text/plain": [
       "3180"
      ]
     },
     "execution_count": 59,
     "metadata": {},
     "output_type": "execute_result"
    }
   ],
   "source": [
    "#Ahora vamos a ver las otras columnas si también coinciden\n",
    "data.price_aprox_local_currency.isnull().sum()"
   ]
  },
  {
   "cell_type": "code",
   "execution_count": 60,
   "id": "continuing-patio",
   "metadata": {},
   "outputs": [
    {
     "data": {
      "text/plain": [
       "3180"
      ]
     },
     "execution_count": 60,
     "metadata": {},
     "output_type": "execute_result"
    }
   ],
   "source": [
    "data.price_aprox_usd.isnull().sum()"
   ]
  },
  {
   "cell_type": "code",
   "execution_count": 61,
   "id": "congressional-encoding",
   "metadata": {},
   "outputs": [
    {
     "name": "stdout",
     "output_type": "stream",
     "text": [
      "True    54887\n",
      "dtype: int64\n",
      "True    54887\n",
      "dtype: int64\n"
     ]
    }
   ],
   "source": [
    "# nos aseguramos que los valores de estas 3 columnas coincidan en los nulos\n",
    "price_nulo1_bool = data.price_aprox_local_currency.isnull()\n",
    "price_nulo2_bool = data.price_aprox_usd.isnull()\n",
    "price_nulo_bool = data.price.isnull()\n",
    "precio_control1 = price_nulo1_bool == price_nulo2_bool\n",
    "precio_control2 = price_nulo1_bool == price_nulo_bool\n",
    "a = precio_control1.value_counts()\n",
    "print(a)\n",
    "b = precio_control2.value_counts()\n",
    "print(b)"
   ]
  },
  {
   "cell_type": "code",
   "execution_count": 62,
   "id": "covered-bidder",
   "metadata": {},
   "outputs": [
    {
     "data": {
      "text/plain": [
       "USD    49516\n",
       "ARS     2189\n",
       "PEN        2\n",
       "Name: currency, dtype: int64"
      ]
     },
     "execution_count": 62,
     "metadata": {},
     "output_type": "execute_result"
    }
   ],
   "source": [
    "# Vemos que en la columna currency, actualmente hay 3 tipos de monedas, por lo que analizaremos 1 por 1 (el UYU fue eliminado por zonas, pero el tipo de cambio también era lógico).\n",
    "data['currency'].value_counts()"
   ]
  },
  {
   "cell_type": "code",
   "execution_count": 63,
   "id": "regulated-cover",
   "metadata": {},
   "outputs": [
    {
     "data": {
      "text/html": [
       "<div>\n",
       "<style scoped>\n",
       "    .dataframe tbody tr th:only-of-type {\n",
       "        vertical-align: middle;\n",
       "    }\n",
       "\n",
       "    .dataframe tbody tr th {\n",
       "        vertical-align: top;\n",
       "    }\n",
       "\n",
       "    .dataframe thead th {\n",
       "        text-align: right;\n",
       "    }\n",
       "</style>\n",
       "<table border=\"1\" class=\"dataframe\">\n",
       "  <thead>\n",
       "    <tr style=\"text-align: right;\">\n",
       "      <th></th>\n",
       "      <th>place_name</th>\n",
       "      <th>country_name</th>\n",
       "      <th>state_name</th>\n",
       "      <th>price</th>\n",
       "      <th>currency</th>\n",
       "      <th>price_aprox_local_currency</th>\n",
       "      <th>price_aprox_usd</th>\n",
       "    </tr>\n",
       "  </thead>\n",
       "  <tbody>\n",
       "    <tr>\n",
       "      <th>50387</th>\n",
       "      <td>Capital Federal</td>\n",
       "      <td>Argentina</td>\n",
       "      <td>Capital Federal</td>\n",
       "      <td>380000.0</td>\n",
       "      <td>PEN</td>\n",
       "      <td>2066864.90</td>\n",
       "      <td>117139.33</td>\n",
       "    </tr>\n",
       "    <tr>\n",
       "      <th>50388</th>\n",
       "      <td>Capital Federal</td>\n",
       "      <td>Argentina</td>\n",
       "      <td>Capital Federal</td>\n",
       "      <td>950000.0</td>\n",
       "      <td>PEN</td>\n",
       "      <td>5167162.35</td>\n",
       "      <td>292848.33</td>\n",
       "    </tr>\n",
       "  </tbody>\n",
       "</table>\n",
       "</div>"
      ],
      "text/plain": [
       "            place_name country_name       state_name     price currency  \\\n",
       "50387  Capital Federal    Argentina  Capital Federal  380000.0      PEN   \n",
       "50388  Capital Federal    Argentina  Capital Federal  950000.0      PEN   \n",
       "\n",
       "       price_aprox_local_currency  price_aprox_usd  \n",
       "50387                  2066864.90        117139.33  \n",
       "50388                  5167162.35        292848.33  "
      ]
     },
     "execution_count": 63,
     "metadata": {},
     "output_type": "execute_result"
    }
   ],
   "source": [
    "#Vemos los valores de moneda PEN (Sol Peruano)\n",
    "CurrencyPEN = data.loc[:, \"currency\"] == \"PEN\"\n",
    "dfCurrencyPEN = data.loc[CurrencyPEN]\n",
    "dfCurrencyPEN.loc[:, ['place_name','country_name', 'state_name', 'price', 'currency', 'price_aprox_local_currency', 'price_aprox_usd']]"
   ]
  },
  {
   "cell_type": "code",
   "execution_count": 64,
   "id": "devoted-station",
   "metadata": {},
   "outputs": [
    {
     "name": "stdout",
     "output_type": "stream",
     "text": [
      "0.3082605263157895\n",
      "0.30826105263157894\n"
     ]
    }
   ],
   "source": [
    "# Ok, es logico el tipo de cambio del PEN por lo que lo dejamos así\n",
    "print(117139/380000)\n",
    "print(292848/950000)"
   ]
  },
  {
   "cell_type": "code",
   "execution_count": 65,
   "id": "scientific-dream",
   "metadata": {},
   "outputs": [
    {
     "data": {
      "text/html": [
       "<div>\n",
       "<style scoped>\n",
       "    .dataframe tbody tr th:only-of-type {\n",
       "        vertical-align: middle;\n",
       "    }\n",
       "\n",
       "    .dataframe tbody tr th {\n",
       "        vertical-align: top;\n",
       "    }\n",
       "\n",
       "    .dataframe thead th {\n",
       "        text-align: right;\n",
       "    }\n",
       "</style>\n",
       "<table border=\"1\" class=\"dataframe\">\n",
       "  <thead>\n",
       "    <tr style=\"text-align: right;\">\n",
       "      <th></th>\n",
       "      <th>place_name</th>\n",
       "      <th>country_name</th>\n",
       "      <th>state_name</th>\n",
       "      <th>price</th>\n",
       "      <th>currency</th>\n",
       "      <th>price_aprox_local_currency</th>\n",
       "      <th>price_aprox_usd</th>\n",
       "    </tr>\n",
       "  </thead>\n",
       "  <tbody>\n",
       "    <tr>\n",
       "      <th>97</th>\n",
       "      <td>San Telmo</td>\n",
       "      <td>Argentina</td>\n",
       "      <td>Capital Federal</td>\n",
       "      <td>1423800.0</td>\n",
       "      <td>ARS</td>\n",
       "      <td>1408947.37</td>\n",
       "      <td>79851.93</td>\n",
       "    </tr>\n",
       "    <tr>\n",
       "      <th>212</th>\n",
       "      <td>Belén de Escobar</td>\n",
       "      <td>Argentina</td>\n",
       "      <td>Bs.As. G.B.A. Zona Norte</td>\n",
       "      <td>820000.0</td>\n",
       "      <td>ARS</td>\n",
       "      <td>811446.02</td>\n",
       "      <td>45988.61</td>\n",
       "    </tr>\n",
       "    <tr>\n",
       "      <th>213</th>\n",
       "      <td>Belén de Escobar</td>\n",
       "      <td>Argentina</td>\n",
       "      <td>Bs.As. G.B.A. Zona Norte</td>\n",
       "      <td>1200000.0</td>\n",
       "      <td>ARS</td>\n",
       "      <td>1187482.08</td>\n",
       "      <td>67300.41</td>\n",
       "    </tr>\n",
       "    <tr>\n",
       "      <th>351</th>\n",
       "      <td>Paternal</td>\n",
       "      <td>Argentina</td>\n",
       "      <td>Capital Federal</td>\n",
       "      <td>1099350.0</td>\n",
       "      <td>ARS</td>\n",
       "      <td>1087882.05</td>\n",
       "      <td>61655.59</td>\n",
       "    </tr>\n",
       "    <tr>\n",
       "      <th>352</th>\n",
       "      <td>Paternal</td>\n",
       "      <td>Argentina</td>\n",
       "      <td>Capital Federal</td>\n",
       "      <td>1113420.0</td>\n",
       "      <td>ARS</td>\n",
       "      <td>1101805.15</td>\n",
       "      <td>62444.68</td>\n",
       "    </tr>\n",
       "    <tr>\n",
       "      <th>...</th>\n",
       "      <td>...</td>\n",
       "      <td>...</td>\n",
       "      <td>...</td>\n",
       "      <td>...</td>\n",
       "      <td>...</td>\n",
       "      <td>...</td>\n",
       "      <td>...</td>\n",
       "    </tr>\n",
       "    <tr>\n",
       "      <th>120422</th>\n",
       "      <td>San Telmo</td>\n",
       "      <td>Argentina</td>\n",
       "      <td>Capital Federal</td>\n",
       "      <td>1417100.0</td>\n",
       "      <td>ARS</td>\n",
       "      <td>1402317.28</td>\n",
       "      <td>79476.17</td>\n",
       "    </tr>\n",
       "    <tr>\n",
       "      <th>120424</th>\n",
       "      <td>San Telmo</td>\n",
       "      <td>Argentina</td>\n",
       "      <td>Capital Federal</td>\n",
       "      <td>1457800.0</td>\n",
       "      <td>ARS</td>\n",
       "      <td>1442592.79</td>\n",
       "      <td>81758.78</td>\n",
       "    </tr>\n",
       "    <tr>\n",
       "      <th>120425</th>\n",
       "      <td>San Telmo</td>\n",
       "      <td>Argentina</td>\n",
       "      <td>Capital Federal</td>\n",
       "      <td>1438500.0</td>\n",
       "      <td>ARS</td>\n",
       "      <td>1423494.03</td>\n",
       "      <td>80676.36</td>\n",
       "    </tr>\n",
       "    <tr>\n",
       "      <th>120426</th>\n",
       "      <td>San Telmo</td>\n",
       "      <td>Argentina</td>\n",
       "      <td>Capital Federal</td>\n",
       "      <td>1400600.0</td>\n",
       "      <td>ARS</td>\n",
       "      <td>1385989.41</td>\n",
       "      <td>78550.79</td>\n",
       "    </tr>\n",
       "    <tr>\n",
       "      <th>120428</th>\n",
       "      <td>San Telmo</td>\n",
       "      <td>Argentina</td>\n",
       "      <td>Capital Federal</td>\n",
       "      <td>1538900.0</td>\n",
       "      <td>ARS</td>\n",
       "      <td>1522846.86</td>\n",
       "      <td>86307.17</td>\n",
       "    </tr>\n",
       "  </tbody>\n",
       "</table>\n",
       "<p>2189 rows × 7 columns</p>\n",
       "</div>"
      ],
      "text/plain": [
       "              place_name country_name                state_name      price  \\\n",
       "97             San Telmo    Argentina           Capital Federal  1423800.0   \n",
       "212     Belén de Escobar    Argentina  Bs.As. G.B.A. Zona Norte   820000.0   \n",
       "213     Belén de Escobar    Argentina  Bs.As. G.B.A. Zona Norte  1200000.0   \n",
       "351             Paternal    Argentina           Capital Federal  1099350.0   \n",
       "352             Paternal    Argentina           Capital Federal  1113420.0   \n",
       "...                  ...          ...                       ...        ...   \n",
       "120422         San Telmo    Argentina           Capital Federal  1417100.0   \n",
       "120424         San Telmo    Argentina           Capital Federal  1457800.0   \n",
       "120425         San Telmo    Argentina           Capital Federal  1438500.0   \n",
       "120426         San Telmo    Argentina           Capital Federal  1400600.0   \n",
       "120428         San Telmo    Argentina           Capital Federal  1538900.0   \n",
       "\n",
       "       currency  price_aprox_local_currency  price_aprox_usd  \n",
       "97          ARS                  1408947.37         79851.93  \n",
       "212         ARS                   811446.02         45988.61  \n",
       "213         ARS                  1187482.08         67300.41  \n",
       "351         ARS                  1087882.05         61655.59  \n",
       "352         ARS                  1101805.15         62444.68  \n",
       "...         ...                         ...              ...  \n",
       "120422      ARS                  1402317.28         79476.17  \n",
       "120424      ARS                  1442592.79         81758.78  \n",
       "120425      ARS                  1423494.03         80676.36  \n",
       "120426      ARS                  1385989.41         78550.79  \n",
       "120428      ARS                  1522846.86         86307.17  \n",
       "\n",
       "[2189 rows x 7 columns]"
      ]
     },
     "execution_count": 65,
     "metadata": {},
     "output_type": "execute_result"
    }
   ],
   "source": [
    "#Vemos los valores de moneda ARS (Peso Argentino)\n",
    "CurrencyARS = data.loc[:, \"currency\"] == \"ARS\"\n",
    "dfCurrencyARS = data.loc[CurrencyARS]\n",
    "dfCurrencyARS.loc[:, ['place_name','country_name', 'state_name', 'price', 'currency', 'price_aprox_local_currency', 'price_aprox_usd']]"
   ]
  },
  {
   "cell_type": "code",
   "execution_count": 66,
   "id": "apart-romania",
   "metadata": {},
   "outputs": [
    {
     "name": "stdout",
     "output_type": "stream",
     "text": [
      "False    2189\n",
      "dtype: int64\n"
     ]
    },
    {
     "data": {
      "text/plain": [
       "False    2189\n",
       "dtype: int64"
      ]
     },
     "execution_count": 66,
     "metadata": {},
     "output_type": "execute_result"
    }
   ],
   "source": [
    "# Vemos que entre Price y price_aprox_local_currency no son exactamente los mismos porque seguramente la de local toma un promedio\n",
    "# del tipo de cambio, pero al menos la división entre una y otra columna debería tender a 1\n",
    "controlpricears = dfCurrencyARS.price / dfCurrencyARS.price_aprox_local_currency\n",
    "may = controlpricears > 1.05\n",
    "men = controlpricears < 0.95\n",
    "print(may.value_counts())\n",
    "men.value_counts()\n",
    "# Vemos que la diferencia en todos los casos está entre 5% mayor o menor, asique estaría ok"
   ]
  },
  {
   "cell_type": "code",
   "execution_count": 67,
   "id": "advised-third",
   "metadata": {},
   "outputs": [
    {
     "name": "stdout",
     "output_type": "stream",
     "text": [
      "17.83053112459975\n",
      "17.143000002079827\n"
     ]
    },
    {
     "data": {
      "text/plain": [
       "17.78433247952888"
      ]
     },
     "execution_count": 67,
     "metadata": {},
     "output_type": "execute_result"
    }
   ],
   "source": [
    "#Ahora revisaremos el Tipo de Cambio Usd/Ars\n",
    "controltipodecambio = dfCurrencyARS.price / dfCurrencyARS.price_aprox_usd\n",
    "print(controltipodecambio.max())\n",
    "print(controltipodecambio.min())\n",
    "tipo_cambio_ars_promedio = controltipodecambio.mean()\n",
    "tipo_cambio_ars_promedio\n",
    "# No tenemos las fechas de las operaciones, pero la información se corresponde con tipos de cambio del año 2017 lo que es posible\n",
    "# Por otro lado no existen tipos de cambio fuera de lo común, son todos lógicos."
   ]
  },
  {
   "cell_type": "code",
   "execution_count": 68,
   "id": "portuguese-perspective",
   "metadata": {},
   "outputs": [
    {
     "data": {
      "text/html": [
       "<div>\n",
       "<style scoped>\n",
       "    .dataframe tbody tr th:only-of-type {\n",
       "        vertical-align: middle;\n",
       "    }\n",
       "\n",
       "    .dataframe tbody tr th {\n",
       "        vertical-align: top;\n",
       "    }\n",
       "\n",
       "    .dataframe thead th {\n",
       "        text-align: right;\n",
       "    }\n",
       "</style>\n",
       "<table border=\"1\" class=\"dataframe\">\n",
       "  <thead>\n",
       "    <tr style=\"text-align: right;\">\n",
       "      <th></th>\n",
       "      <th>place_name</th>\n",
       "      <th>country_name</th>\n",
       "      <th>state_name</th>\n",
       "      <th>price</th>\n",
       "      <th>currency</th>\n",
       "      <th>price_aprox_local_currency</th>\n",
       "      <th>price_aprox_usd</th>\n",
       "    </tr>\n",
       "  </thead>\n",
       "  <tbody>\n",
       "    <tr>\n",
       "      <th>0</th>\n",
       "      <td>Mataderos</td>\n",
       "      <td>Argentina</td>\n",
       "      <td>Capital Federal</td>\n",
       "      <td>62000.0</td>\n",
       "      <td>USD</td>\n",
       "      <td>1093959.00</td>\n",
       "      <td>62000.0</td>\n",
       "    </tr>\n",
       "    <tr>\n",
       "      <th>2</th>\n",
       "      <td>Mataderos</td>\n",
       "      <td>Argentina</td>\n",
       "      <td>Capital Federal</td>\n",
       "      <td>72000.0</td>\n",
       "      <td>USD</td>\n",
       "      <td>1270404.00</td>\n",
       "      <td>72000.0</td>\n",
       "    </tr>\n",
       "    <tr>\n",
       "      <th>3</th>\n",
       "      <td>Liniers</td>\n",
       "      <td>Argentina</td>\n",
       "      <td>Capital Federal</td>\n",
       "      <td>95000.0</td>\n",
       "      <td>USD</td>\n",
       "      <td>1676227.50</td>\n",
       "      <td>95000.0</td>\n",
       "    </tr>\n",
       "    <tr>\n",
       "      <th>6</th>\n",
       "      <td>Munro</td>\n",
       "      <td>Argentina</td>\n",
       "      <td>Bs.As. G.B.A. Zona Norte</td>\n",
       "      <td>130000.0</td>\n",
       "      <td>USD</td>\n",
       "      <td>2293785.00</td>\n",
       "      <td>130000.0</td>\n",
       "    </tr>\n",
       "    <tr>\n",
       "      <th>7</th>\n",
       "      <td>Belgrano</td>\n",
       "      <td>Argentina</td>\n",
       "      <td>Capital Federal</td>\n",
       "      <td>138000.0</td>\n",
       "      <td>USD</td>\n",
       "      <td>2434941.00</td>\n",
       "      <td>138000.0</td>\n",
       "    </tr>\n",
       "    <tr>\n",
       "      <th>...</th>\n",
       "      <td>...</td>\n",
       "      <td>...</td>\n",
       "      <td>...</td>\n",
       "      <td>...</td>\n",
       "      <td>...</td>\n",
       "      <td>...</td>\n",
       "      <td>...</td>\n",
       "    </tr>\n",
       "    <tr>\n",
       "      <th>121160</th>\n",
       "      <td>Belgrano</td>\n",
       "      <td>Argentina</td>\n",
       "      <td>Capital Federal</td>\n",
       "      <td>410000.0</td>\n",
       "      <td>USD</td>\n",
       "      <td>7234245.00</td>\n",
       "      <td>410000.0</td>\n",
       "    </tr>\n",
       "    <tr>\n",
       "      <th>121215</th>\n",
       "      <td>Belgrano</td>\n",
       "      <td>Argentina</td>\n",
       "      <td>Capital Federal</td>\n",
       "      <td>870000.0</td>\n",
       "      <td>USD</td>\n",
       "      <td>15350715.00</td>\n",
       "      <td>870000.0</td>\n",
       "    </tr>\n",
       "    <tr>\n",
       "      <th>121216</th>\n",
       "      <td>Beccar</td>\n",
       "      <td>Argentina</td>\n",
       "      <td>Bs.As. G.B.A. Zona Norte</td>\n",
       "      <td>498000.0</td>\n",
       "      <td>USD</td>\n",
       "      <td>8786961.00</td>\n",
       "      <td>498000.0</td>\n",
       "    </tr>\n",
       "    <tr>\n",
       "      <th>121217</th>\n",
       "      <td>Villa Urquiza</td>\n",
       "      <td>Argentina</td>\n",
       "      <td>Capital Federal</td>\n",
       "      <td>131500.0</td>\n",
       "      <td>USD</td>\n",
       "      <td>2320251.75</td>\n",
       "      <td>131500.0</td>\n",
       "    </tr>\n",
       "    <tr>\n",
       "      <th>121219</th>\n",
       "      <td>Capital Federal</td>\n",
       "      <td>Argentina</td>\n",
       "      <td>Capital Federal</td>\n",
       "      <td>129000.0</td>\n",
       "      <td>USD</td>\n",
       "      <td>2276140.50</td>\n",
       "      <td>129000.0</td>\n",
       "    </tr>\n",
       "  </tbody>\n",
       "</table>\n",
       "<p>49516 rows × 7 columns</p>\n",
       "</div>"
      ],
      "text/plain": [
       "             place_name country_name                state_name     price  \\\n",
       "0             Mataderos    Argentina           Capital Federal   62000.0   \n",
       "2             Mataderos    Argentina           Capital Federal   72000.0   \n",
       "3               Liniers    Argentina           Capital Federal   95000.0   \n",
       "6                 Munro    Argentina  Bs.As. G.B.A. Zona Norte  130000.0   \n",
       "7              Belgrano    Argentina           Capital Federal  138000.0   \n",
       "...                 ...          ...                       ...       ...   \n",
       "121160         Belgrano    Argentina           Capital Federal  410000.0   \n",
       "121215         Belgrano    Argentina           Capital Federal  870000.0   \n",
       "121216           Beccar    Argentina  Bs.As. G.B.A. Zona Norte  498000.0   \n",
       "121217    Villa Urquiza    Argentina           Capital Federal  131500.0   \n",
       "121219  Capital Federal    Argentina           Capital Federal  129000.0   \n",
       "\n",
       "       currency  price_aprox_local_currency  price_aprox_usd  \n",
       "0           USD                  1093959.00          62000.0  \n",
       "2           USD                  1270404.00          72000.0  \n",
       "3           USD                  1676227.50          95000.0  \n",
       "6           USD                  2293785.00         130000.0  \n",
       "7           USD                  2434941.00         138000.0  \n",
       "...         ...                         ...              ...  \n",
       "121160      USD                  7234245.00         410000.0  \n",
       "121215      USD                 15350715.00         870000.0  \n",
       "121216      USD                  8786961.00         498000.0  \n",
       "121217      USD                  2320251.75         131500.0  \n",
       "121219      USD                  2276140.50         129000.0  \n",
       "\n",
       "[49516 rows x 7 columns]"
      ]
     },
     "execution_count": 68,
     "metadata": {},
     "output_type": "execute_result"
    }
   ],
   "source": [
    "#Vemos los valores de moneda USD (Dolar Americano)\n",
    "CurrencyUSD = data.loc[:, \"currency\"] == \"USD\"\n",
    "dfCurrencyUSD = data.loc[CurrencyUSD]\n",
    "dfCurrencyUSD.loc[:, ['place_name','country_name', 'state_name', 'price', 'currency', 'price_aprox_local_currency', 'price_aprox_usd']]"
   ]
  },
  {
   "cell_type": "code",
   "execution_count": 69,
   "id": "aggressive-trace",
   "metadata": {},
   "outputs": [
    {
     "data": {
      "text/plain": [
       "0.0    49516\n",
       "dtype: int64"
      ]
     },
     "execution_count": 69,
     "metadata": {},
     "output_type": "execute_result"
    }
   ],
   "source": [
    "# Debería coincidir la columna Price con price_aprox_usd asique vamos a controlarlo\n",
    "controlvaloresenusd = dfCurrencyUSD.price - dfCurrencyUSD.price_aprox_usd\n",
    "controlvaloresenusd.value_counts()\n",
    "# Vemos que todos coinciden asique perfecto."
   ]
  },
  {
   "cell_type": "markdown",
   "id": "august-hamilton",
   "metadata": {},
   "source": [
    "CONCLUSIÓN INICIAL PRECIOS: Consideramos que los valores incluidos en las columnas analizadas son lógicos y sólidos para ahora avanzar con la búsqueda de datos faltantes u Outliers."
   ]
  },
  {
   "cell_type": "markdown",
   "id": "supreme-creek",
   "metadata": {},
   "source": [
    "Búsqueda de valores faltantes:"
   ]
  },
  {
   "cell_type": "code",
   "execution_count": 70,
   "id": "chronic-apollo",
   "metadata": {},
   "outputs": [
    {
     "name": "stdout",
     "output_type": "stream",
     "text": [
      "54887\n",
      "51707\n",
      "3180\n",
      "5.793721646291472\n"
     ]
    }
   ],
   "source": [
    "# recordemos que esta columna tiene 54887 datos de los cuales 3180 datos son NaN (5,79%)\n",
    "is_null_result = data.price_aprox_usd.isnull()\n",
    "is_notnull_result = data.price_aprox_usd.notnull()\n",
    "totaldata=data.price_aprox_usd.shape[0]\n",
    "print(totaldata)\n",
    "cant_notnull = is_notnull_result.sum()\n",
    "print(cant_notnull)\n",
    "cant_nulls = is_null_result.sum()\n",
    "print(cant_nulls)\n",
    "print(cant_nulls/totaldata*100)"
   ]
  },
  {
   "cell_type": "code",
   "execution_count": 71,
   "id": "shared-cooling",
   "metadata": {},
   "outputs": [
    {
     "data": {
      "text/plain": [
       "0.0         54113\n",
       "260000.0       19\n",
       "450000.0       16\n",
       "240000.0       16\n",
       "145000.0       16\n",
       "            ...  \n",
       "470000.0        1\n",
       "880000.0        1\n",
       "80273.0         1\n",
       "85733.0         1\n",
       "279000.0        1\n",
       "Name: title, Length: 237, dtype: int64"
      ]
     },
     "execution_count": 71,
     "metadata": {},
     "output_type": "execute_result"
    }
   ],
   "source": [
    "# de una observación visual podemos ver que en la columna \"Title\" podemos sacar valores de publicacion que si bien pueden ser distintos\n",
    "# al valor de la operación final, no deberían distar demasiado de esta\n",
    "\n",
    "#para los valores dolares entre 1000 y 999999\n",
    "import re\n",
    "pattern_dol = \"(D *)(?P<Dolares1>[1-9]\\d\\d*).(?P<Dolares2>\\d\\d\\d)\"\n",
    "pattern_dol_regex =  re.compile(pattern_dol)\n",
    "\n",
    "resultado_dol = data.title.apply(lambda x: pattern_dol_regex.search(x))\n",
    "dol_match1 = resultado_dol.apply(lambda x: x if x is None else x.group(\"Dolares1\"))\n",
    "dol_match2 = resultado_dol.apply(lambda x: x if x is None else x.group(\"Dolares2\"))\n",
    "dol_match = dol_match1 + dol_match2\n",
    "\n",
    "dol_match_fill = dol_match.fillna(0)\n",
    "dol_match_fill_numeric = dol_match_fill.astype(float)\n",
    "\n",
    "dol_match_fill_numeric.value_counts()"
   ]
  },
  {
   "cell_type": "code",
   "execution_count": 72,
   "id": "instructional-administration",
   "metadata": {},
   "outputs": [
    {
     "data": {
      "text/plain": [
       "0.0           54875\n",
       "1300000.0         2\n",
       "1100000.0         2\n",
       "1690000.0         1\n",
       "1150000.0         1\n",
       "1910000.0         1\n",
       "1380000.0         1\n",
       "1500000.0         1\n",
       "11800000.0        1\n",
       "1200000.0         1\n",
       "2900000.0         1\n",
       "Name: title, dtype: int64"
      ]
     },
     "execution_count": 72,
     "metadata": {},
     "output_type": "execute_result"
    }
   ],
   "source": [
    "#para los valores dolares entre mayores a 999999\n",
    "import re\n",
    "pattern_dol = \"(D *)(?P<Dolares1>[1-9]\\d*).(?P<Dolares2>\\d\\d\\d).(?P<Dolares3>\\d\\d\\d)\"\n",
    "pattern_dol_regex =  re.compile(pattern_dol)\n",
    "\n",
    "resultado_dol = data.title.apply(lambda x: pattern_dol_regex.search(x))\n",
    "dol_match1 = resultado_dol.apply(lambda x: x if x is None else x.group(\"Dolares1\"))\n",
    "dol_match2 = resultado_dol.apply(lambda x: x if x is None else x.group(\"Dolares2\"))\n",
    "dol_match3 = resultado_dol.apply(lambda x: x if x is None else x.group(\"Dolares3\"))\n",
    "dol_match = dol_match1 + dol_match2 + dol_match3\n",
    "\n",
    "dol_match_fill = dol_match.fillna(0)\n",
    "dol_match_fill_numericmillon = dol_match_fill.astype(float)\n",
    "\n",
    "dol_match_fill_numericmillon.value_counts()"
   ]
  },
  {
   "cell_type": "code",
   "execution_count": 73,
   "id": "proprietary-civilization",
   "metadata": {},
   "outputs": [
    {
     "data": {
      "text/plain": [
       "0.000000         54749\n",
       "116241.472790        3\n",
       "113972.059527        3\n",
       "181302.278492        3\n",
       "106629.248086        2\n",
       "                 ...  \n",
       "91673.724717         1\n",
       "152212.628903        1\n",
       "240132.712595        1\n",
       "107074.640119        1\n",
       "97783.372078         1\n",
       "Name: title, Length: 123, dtype: int64"
      ]
     },
     "execution_count": 73,
     "metadata": {},
     "output_type": "execute_result"
    }
   ],
   "source": [
    "#para los valores pesos mayores a 999999 y luego lo pasamos a Dolares según el promedio del T/C\n",
    "import re\n",
    "pattern_pes = \"[$] (?P<Pesos1>[1-9]\\d*).(?P<Pesos2>\\d\\d\\d).(?P<Pesos3>\\d\\d\\d)\"\n",
    "pattern_pes_regex =  re.compile(pattern_pes)\n",
    "\n",
    "resultado_pes = data.title.apply(lambda x: pattern_pes_regex.search(x))\n",
    "pes_match1 = resultado_pes.apply(lambda x: x if x is None else x.group(\"Pesos1\"))\n",
    "pes_match2 = resultado_pes.apply(lambda x: x if x is None else x.group(\"Pesos2\"))\n",
    "pes_match3 = resultado_pes.apply(lambda x: x if x is None else x.group(\"Pesos3\"))\n",
    "pes_match = pes_match1 + pes_match2 + pes_match3\n",
    "\n",
    "pes_match_fill = pes_match.fillna(0)\n",
    "pes_match_fill_numericmillon = pes_match_fill.astype(float)\n",
    "\n",
    "pes_match_fill_numericmillonDOLAR = pes_match_fill_numericmillon / tipo_cambio_ars_promedio\n",
    "pes_match_fill_numericmillonDOLAR.value_counts()"
   ]
  },
  {
   "cell_type": "code",
   "execution_count": 74,
   "id": "optional-viking",
   "metadata": {},
   "outputs": [
    {
     "data": {
      "text/plain": [
       "0.000000        54828\n",
       "8434.390224         2\n",
       "30532.492610        2\n",
       "33734.749431        2\n",
       "7028.658520         2\n",
       "30307.575537        2\n",
       "33793.790163        2\n",
       "6297.678034         2\n",
       "26427.756034        1\n",
       "33175.268213        1\n",
       "35424.438939        1\n",
       "30521.246756        1\n",
       "33681.331627        1\n",
       "31769.536509        1\n",
       "46389.146230        1\n",
       "21085.975559        1\n",
       "7197.346324         1\n",
       "6151.032102         1\n",
       "14619.609721        1\n",
       "30251.346269        1\n",
       "7134.875607         1\n",
       "6385.901755         1\n",
       "32894.121872        1\n",
       "25303.170671        1\n",
       "6620.377804         1\n",
       "9502.746319         1\n",
       "44983.414526        1\n",
       "50044.048660        1\n",
       "20804.829218        1\n",
       "33737.560895        1\n",
       "11511.424465        1\n",
       "31207.243828        1\n",
       "10683.560950        1\n",
       "23335.146286        1\n",
       "31600.848705        1\n",
       "30341.313098        1\n",
       "5622.926816         1\n",
       "8895.638910         1\n",
       "10402.414609        1\n",
       "42171.951118        1\n",
       "23616.292626        1\n",
       "30335.690171        1\n",
       "23756.865797        1\n",
       "33456.414554        1\n",
       "10121.268268        1\n",
       "31488.390168        1\n",
       "30476.263342        1\n",
       "50844.472293        1\n",
       "52868.725946        1\n",
       "33119.038945        1\n",
       "12335.857995        1\n",
       "30138.887733        1\n",
       "30279.460903        1\n",
       "Name: title, dtype: int64"
      ]
     },
     "execution_count": 74,
     "metadata": {},
     "output_type": "execute_result"
    }
   ],
   "source": [
    "#para los valores pesos menosres a 999999 y luego lo pasamos a Dolares según el promedio del T/C\n",
    "import re\n",
    "pattern_pes = \"[$] (?P<Pesos1>[1-9]\\d\\d\\d*).(?P<Pesos2>\\d\\d\\d)\"\n",
    "pattern_pes_regex =  re.compile(pattern_pes)\n",
    "\n",
    "resultado_pes = data.title.apply(lambda x: pattern_pes_regex.search(x))\n",
    "pes_match1 = resultado_pes.apply(lambda x: x if x is None else x.group(\"Pesos1\"))\n",
    "pes_match2 = resultado_pes.apply(lambda x: x if x is None else x.group(\"Pesos2\"))\n",
    "pes_match = pes_match1 + pes_match2\n",
    "\n",
    "pes_match_fill = pes_match.fillna(0)\n",
    "pes_match_fill_numericmenosmillon = pes_match_fill.astype(float)\n",
    "\n",
    "pes_match_fill_numericmenosmillonDOLAR = pes_match_fill_numericmenosmillon / tipo_cambio_ars_promedio\n",
    "pes_match_fill_numericmenosmillonDOLAR.value_counts()"
   ]
  },
  {
   "cell_type": "code",
   "execution_count": 75,
   "id": "peripheral-default",
   "metadata": {},
   "outputs": [],
   "source": [
    "#Ahora en la variable \"dol_match_fill_numeric\" están los dolares menores a 999.999 Usd\n",
    "#Ahora en la variable \"dol_match_fill_numericmillon\" están los dolares mayores a 999.999 Usd\n",
    "#Ahora en la variable \"pes_match_fill_numericmillonDOLAR\" están expresados en Usd los pesos mayores a 999.999 $\n",
    "#Ahora en la variable \"pes_match_fill_numericmenosmillonDOLAR\" están expresados en Usd los pesos menores a 999.999 $"
   ]
  },
  {
   "cell_type": "code",
   "execution_count": 76,
   "id": "republican-aerospace",
   "metadata": {},
   "outputs": [
    {
     "data": {
      "text/plain": [
       "3180"
      ]
     },
     "execution_count": 76,
     "metadata": {},
     "output_type": "execute_result"
    }
   ],
   "source": [
    "data.price_aprox_usd.isnull().sum()"
   ]
  },
  {
   "cell_type": "code",
   "execution_count": 77,
   "id": "individual-assumption",
   "metadata": {},
   "outputs": [],
   "source": [
    "# Vamos a cambiar en la columna Precio todos los NaN por los valores de dol_match_fill_numeric, tener en cuenta que quedan 0 NaN y les\n",
    "# pone 0.\n",
    "data.price_aprox_usd.fillna(value=dol_match_fill_numeric, inplace=True)"
   ]
  },
  {
   "cell_type": "code",
   "execution_count": 78,
   "id": "expressed-placement",
   "metadata": {},
   "outputs": [
    {
     "data": {
      "text/plain": [
       "0.00         2502\n",
       "120000.00     636\n",
       "250000.00     597\n",
       "130000.00     591\n",
       "125000.00     569\n",
       "             ... \n",
       "103050.00       1\n",
       "86668.00        1\n",
       "103053.75       1\n",
       "163279.00       1\n",
       "187846.00       1\n",
       "Name: price_aprox_usd, Length: 7183, dtype: int64"
      ]
     },
     "execution_count": 78,
     "metadata": {},
     "output_type": "execute_result"
    }
   ],
   "source": [
    "a = data.price_aprox_usd.isnull().sum()\n",
    "\n",
    "data.price_aprox_usd.value_counts()"
   ]
  },
  {
   "cell_type": "code",
   "execution_count": 79,
   "id": "processed-criminal",
   "metadata": {},
   "outputs": [],
   "source": [
    "data.price_aprox_usd = data.price_aprox_usd.apply(lambda x: np.NaN if x==0 else x)"
   ]
  },
  {
   "cell_type": "code",
   "execution_count": 80,
   "id": "moderate-mexico",
   "metadata": {},
   "outputs": [
    {
     "data": {
      "text/plain": [
       "0.00         2493\n",
       "120000.00     636\n",
       "250000.00     597\n",
       "130000.00     591\n",
       "125000.00     569\n",
       "             ... \n",
       "103050.00       1\n",
       "86668.00        1\n",
       "103053.75       1\n",
       "163279.00       1\n",
       "187846.00       1\n",
       "Name: price_aprox_usd, Length: 7183, dtype: int64"
      ]
     },
     "execution_count": 80,
     "metadata": {},
     "output_type": "execute_result"
    }
   ],
   "source": [
    "data.price_aprox_usd.fillna(value=dol_match_fill_numericmillon, inplace=True)\n",
    "data.price_aprox_usd.value_counts()"
   ]
  },
  {
   "cell_type": "code",
   "execution_count": 81,
   "id": "continent-saudi",
   "metadata": {},
   "outputs": [],
   "source": [
    "data.price_aprox_usd = data.price_aprox_usd.apply(lambda x: np.NaN if x==0 else x)"
   ]
  },
  {
   "cell_type": "code",
   "execution_count": 82,
   "id": "governing-accessory",
   "metadata": {},
   "outputs": [
    {
     "data": {
      "text/plain": [
       "0.00         2489\n",
       "120000.00     636\n",
       "250000.00     597\n",
       "130000.00     591\n",
       "125000.00     569\n",
       "             ... \n",
       "103050.00       1\n",
       "86668.00        1\n",
       "103053.75       1\n",
       "163279.00       1\n",
       "187846.00       1\n",
       "Name: price_aprox_usd, Length: 7187, dtype: int64"
      ]
     },
     "execution_count": 82,
     "metadata": {},
     "output_type": "execute_result"
    }
   ],
   "source": [
    "data.price_aprox_usd.fillna(value=pes_match_fill_numericmillonDOLAR, inplace=True)\n",
    "data.price_aprox_usd.value_counts()"
   ]
  },
  {
   "cell_type": "code",
   "execution_count": 83,
   "id": "bigger-mountain",
   "metadata": {},
   "outputs": [],
   "source": [
    "data.price_aprox_usd = data.price_aprox_usd.apply(lambda x: np.NaN if x==0 else x)"
   ]
  },
  {
   "cell_type": "code",
   "execution_count": 84,
   "id": "satisfactory-service",
   "metadata": {},
   "outputs": [
    {
     "data": {
      "text/plain": [
       "0.00         2478\n",
       "120000.00     636\n",
       "250000.00     597\n",
       "130000.00     591\n",
       "125000.00     569\n",
       "             ... \n",
       "156104.00       1\n",
       "178475.00       1\n",
       "139740.00       1\n",
       "229406.18       1\n",
       "126916.00       1\n",
       "Name: price_aprox_usd, Length: 7198, dtype: int64"
      ]
     },
     "execution_count": 84,
     "metadata": {},
     "output_type": "execute_result"
    }
   ],
   "source": [
    "data.price_aprox_usd.fillna(value=pes_match_fill_numericmenosmillonDOLAR, inplace=True)\n",
    "data.price_aprox_usd.value_counts()"
   ]
  },
  {
   "cell_type": "code",
   "execution_count": 85,
   "id": "cosmetic-hands",
   "metadata": {},
   "outputs": [],
   "source": [
    "data.price_aprox_usd = data.price_aprox_usd.apply(lambda x: np.NaN if x==0 else x)"
   ]
  },
  {
   "cell_type": "code",
   "execution_count": 86,
   "id": "thousand-enclosure",
   "metadata": {},
   "outputs": [
    {
     "data": {
      "text/plain": [
       "2478"
      ]
     },
     "execution_count": 86,
     "metadata": {},
     "output_type": "execute_result"
    }
   ],
   "source": [
    "data.price_aprox_usd.isnull().sum()"
   ]
  },
  {
   "cell_type": "markdown",
   "id": "structural-competition",
   "metadata": {},
   "source": [
    "Con la búsqueda de valores en Title, pasamos de 3180 valores nulos a 2478."
   ]
  },
  {
   "cell_type": "markdown",
   "id": "efficient-transmission",
   "metadata": {},
   "source": [
    "#### ANÁLISIS DE METROS 2"
   ]
  },
  {
   "cell_type": "code",
   "execution_count": 87,
   "id": "chubby-liberal",
   "metadata": {},
   "outputs": [],
   "source": [
    "m2_pattern = \"\\s(?P<metros>\\d{0,3}?[.]?\\d*)\\s?(?P<sufijo>m2|M2|metros|mts|m²)\"\n",
    "m2_regex =  re.compile(m2_pattern)\n",
    "m2_match = data.description.apply(lambda x: x if x is np.NaN else m2_regex.search(x))\n",
    "m2_match_mask = m2_match.notnull()\n",
    "data.loc[m2_match_mask, \"M2\"] = m2_match[m2_match_mask].apply(lambda x: x.group(\"metros\"))"
   ]
  },
  {
   "cell_type": "code",
   "execution_count": 88,
   "id": "continuous-language",
   "metadata": {},
   "outputs": [],
   "source": [
    "data[\"M2\"].replace(to_replace = \"\", value= np.NaN, inplace = True)\n",
    "data[\"M2\"] = data[\"M2\"].astype(float)"
   ]
  },
  {
   "cell_type": "code",
   "execution_count": 89,
   "id": "supported-victoria",
   "metadata": {},
   "outputs": [],
   "source": [
    "#si solo tengo valor en M2, lo llevo a metros\n",
    "data['metros1'] = data[(data['surface_total_in_m2'].isnull()) & (data['surface_covered_in_m2'].isnull()) & (data['M2'].notnull())][\"M2\"]\n",
    "#si tengo valor en surface_covered_in_m2 lo llevo a metros\n",
    "data['metros2'] = data[(data['surface_total_in_m2'].isnull()) & (data['surface_covered_in_m2'].notnull())]['surface_covered_in_m2']\n",
    "#si tengo valor en surface_total_in_m2 lo llevo a metros\n",
    "data['metros3'] = data[(data['surface_total_in_m2'].notnull()) & (data['surface_covered_in_m2'].isnull())]['surface_total_in_m2']\n",
    "#si tengo covered y total, tomo total\n",
    "data['metros4'] = data[(data['surface_total_in_m2'].notnull()) & (data['surface_covered_in_m2'].notnull())]['surface_total_in_m2'] \n",
    "\n",
    "data[\"metros1\"].fillna(0, inplace=True)\n",
    "data[\"metros2\"].fillna(0, inplace=True)\n",
    "data[\"metros3\"].fillna(0, inplace=True)\n",
    "data[\"metros4\"].fillna(0, inplace=True)\n",
    "\n",
    "#creo nueva columna de m2 calculados donde sumo los metros de cada condicion.\n",
    "data['m2_calculated'] = data.apply(lambda x: x['metros1'] + x['metros2'] + x[\"metros3\"] + x[\"metros4\"], axis=1)\n",
    "data[\"m2_calculated\"].replace(to_replace = 0, value= np.NaN, inplace = True)\n",
    "\n",
    "#df.drop([\"metros1\", \"metros2\", \"metros3\", \"metros4\", \"M2\", \"surface_covered_in_m2\", \"surface_total_in_m2\"], axis=1, inplace = True)\n",
    "# Sabemos que algunos datos recuperados son erroneos como por ejemplo \"a tantos metros de tal lugar\", pero al ser outliers, se filtrarán a posterior"
   ]
  },
  {
   "cell_type": "code",
   "execution_count": 90,
   "id": "medieval-authorization",
   "metadata": {},
   "outputs": [
    {
     "name": "stdout",
     "output_type": "stream",
     "text": [
      "Cantidad surface_total_in_m2 null en df inicial: 12393\n",
      "Cantidad surface_covered_in_m2 null en df inicial: 3593\n",
      "Cantidad m2_calculated null en df trabajado: 1379\n"
     ]
    }
   ],
   "source": [
    "print('Cantidad surface_total_in_m2 null en df inicial:', data[\"surface_total_in_m2\"].isnull().sum())\n",
    "print('Cantidad surface_covered_in_m2 null en df inicial:', data[\"surface_covered_in_m2\"].isnull().sum())\n",
    "print('Cantidad m2_calculated null en df trabajado:', data[\"m2_calculated\"].isnull().sum())"
   ]
  },
  {
   "cell_type": "code",
   "execution_count": 91,
   "id": "accessible-dispatch",
   "metadata": {},
   "outputs": [],
   "source": [
    "# EN ESTE MOMENTO TENEMOS LA COLUMNA \"price_aprox_usd\" CON LOS PRECIOS EN USD DEFINITIVOS\n",
    "# Y TENEMOS LA COLUMNA \"m2_calculated\" CON LOS M2 DEFINITIVOS"
   ]
  },
  {
   "cell_type": "markdown",
   "id": "speaking-fundamental",
   "metadata": {},
   "source": [
    "#### CREAMOS COLUMNA DE USD/M2"
   ]
  },
  {
   "cell_type": "code",
   "execution_count": 92,
   "id": "single-freedom",
   "metadata": {},
   "outputs": [],
   "source": [
    "# Creamos columna con los datos de Usd/M2 según las columnas creadas por nosotros\n",
    "data[\"USDxM2\"] = data[\"price_aprox_usd\"]/data[\"m2_calculated\"]"
   ]
  },
  {
   "cell_type": "code",
   "execution_count": 93,
   "id": "south-probability",
   "metadata": {},
   "outputs": [
    {
     "name": "stdout",
     "output_type": "stream",
     "text": [
      "Cantidad total datos USD: 54887\n",
      "Cantidad nulos datos USD: 2478\n",
      "Cantidad total datos M2: 54887\n",
      "Cantidad nulos datos M2: 1379\n",
      "Cantidad total datos USDxM2: 54887\n",
      "Cantidad nulos datos USDxM2: 3656\n"
     ]
    }
   ],
   "source": [
    "print('Cantidad total datos USD:', data[\"price_aprox_usd\"].shape[0])\n",
    "print('Cantidad nulos datos USD:', data[\"price_aprox_usd\"].isnull().sum())\n",
    "print('Cantidad total datos M2:', data[\"m2_calculated\"].shape[0])\n",
    "print('Cantidad nulos datos M2:', data[\"m2_calculated\"].isnull().sum())\n",
    "print('Cantidad total datos USDxM2:', data[\"USDxM2\"].shape[0])\n",
    "print('Cantidad nulos datos USDxM2:', data[\"USDxM2\"].isnull().sum())"
   ]
  },
  {
   "cell_type": "code",
   "execution_count": 94,
   "id": "studied-honduras",
   "metadata": {},
   "outputs": [
    {
     "data": {
      "text/plain": [
       "operation                      object\n",
       "property_type                  object\n",
       "place_name                     object\n",
       "place_with_parent_names        object\n",
       "country_name                   object\n",
       "state_name                     object\n",
       "geonames_id                   float64\n",
       "lat-lon                        object\n",
       "lat                           float64\n",
       "lon                           float64\n",
       "price                         float64\n",
       "currency                       object\n",
       "price_aprox_local_currency    float64\n",
       "price_aprox_usd               float64\n",
       "surface_total_in_m2           float64\n",
       "surface_covered_in_m2         float64\n",
       "price_usd_per_m2              float64\n",
       "price_per_m2                  float64\n",
       "rooms                         float64\n",
       "description                    object\n",
       "title                          object\n",
       "M2                            float64\n",
       "metros1                       float64\n",
       "metros2                       float64\n",
       "metros3                       float64\n",
       "metros4                       float64\n",
       "m2_calculated                 float64\n",
       "USDxM2                        float64\n",
       "dtype: object"
      ]
     },
     "execution_count": 94,
     "metadata": {},
     "output_type": "execute_result"
    }
   ],
   "source": [
    "data.dtypes"
   ]
  },
  {
   "cell_type": "code",
   "execution_count": 95,
   "id": "bright-homework",
   "metadata": {},
   "outputs": [
    {
     "name": "stdout",
     "output_type": "stream",
     "text": [
      "(54887, 28)\n",
      "(51231, 28)\n"
     ]
    }
   ],
   "source": [
    "# Ahora procedemos a eliminar todas las filas donde no tenemos Usd/m2 ya que es un dato clave que no vemos conveniente inferir.\n",
    "print(data.shape)\n",
    "data = data.dropna(subset=['USDxM2'], axis = 0) #meter implace para dejarlo en la base.\n",
    "print(data.shape)"
   ]
  },
  {
   "cell_type": "code",
   "execution_count": 96,
   "id": "romance-planner",
   "metadata": {},
   "outputs": [
    {
     "data": {
      "image/png": "[encoded data removed]",
      "text/plain": [
       "<Figure size 504x360 with 1 Axes>"
      ]
     },
     "metadata": {},
     "output_type": "display_data"
    }
   ],
   "source": [
    "# Vemos la existencia de Outliers\n",
    "sns.set_style('darkgrid')\n",
    "plt.figure(figsize=(7, 5))\n",
    "sns.boxplot(data=data.state_name[data.property_type=='house'], x=data.state_name[data.property_type=='house'], y=data.USDxM2)\n",
    "\n",
    "plt.xlabel(\"Ciudades\"); plt.ylabel(\"Usd/M2\");plt.title(\"Distribución Dólares por M2 por Ciudad\")\n",
    "plt.show()"
   ]
  },
  {
   "cell_type": "code",
   "execution_count": 97,
   "id": "aboriginal-advisory",
   "metadata": {},
   "outputs": [
    {
     "name": "stdout",
     "output_type": "stream",
     "text": [
      "<class 'pandas.core.frame.DataFrame'>\n",
      "Int64Index: 51231 entries, 0 to 121219\n",
      "Data columns (total 28 columns):\n",
      " #   Column                      Non-Null Count  Dtype  \n",
      "---  ------                      --------------  -----  \n",
      " 0   operation                   51231 non-null  object \n",
      " 1   property_type               51231 non-null  object \n",
      " 2   place_name                  51231 non-null  object \n",
      " 3   place_with_parent_names     51231 non-null  object \n",
      " 4   country_name                51231 non-null  object \n",
      " 5   state_name                  51231 non-null  object \n",
      " 6   geonames_id                 40968 non-null  float64\n",
      " 7   lat-lon                     31675 non-null  object \n",
      " 8   lat                         31675 non-null  float64\n",
      " 9   lon                         31675 non-null  float64\n",
      " 10  price                       50540 non-null  float64\n",
      " 11  currency                    50540 non-null  object \n",
      " 12  price_aprox_local_currency  50540 non-null  float64\n",
      " 13  price_aprox_usd             51231 non-null  float64\n",
      " 14  surface_total_in_m2         40292 non-null  float64\n",
      " 15  surface_covered_in_m2       49225 non-null  float64\n",
      " 16  price_usd_per_m2            39622 non-null  float64\n",
      " 17  price_per_m2                48544 non-null  float64\n",
      " 18  rooms                       20565 non-null  float64\n",
      " 19  description                 51230 non-null  object \n",
      " 20  title                       51231 non-null  object \n",
      " 21  M2                          16465 non-null  float64\n",
      " 22  metros1                     51231 non-null  float64\n",
      " 23  metros2                     51231 non-null  float64\n",
      " 24  metros3                     51231 non-null  float64\n",
      " 25  metros4                     51231 non-null  float64\n",
      " 26  m2_calculated               51231 non-null  float64\n",
      " 27  USDxM2                      51231 non-null  float64\n",
      "dtypes: float64(18), object(10)\n",
      "memory usage: 13.8+ MB\n"
     ]
    }
   ],
   "source": [
    "data.info()"
   ]
  },
  {
   "cell_type": "code",
   "execution_count": 98,
   "id": "indoor-excuse",
   "metadata": {},
   "outputs": [
    {
     "data": {
      "text/html": [
       "<div>\n",
       "<style scoped>\n",
       "    .dataframe tbody tr th:only-of-type {\n",
       "        vertical-align: middle;\n",
       "    }\n",
       "\n",
       "    .dataframe tbody tr th {\n",
       "        vertical-align: top;\n",
       "    }\n",
       "\n",
       "    .dataframe thead th {\n",
       "        text-align: right;\n",
       "    }\n",
       "</style>\n",
       "<table border=\"1\" class=\"dataframe\">\n",
       "  <thead>\n",
       "    <tr style=\"text-align: right;\">\n",
       "      <th></th>\n",
       "      <th></th>\n",
       "      <th>count</th>\n",
       "      <th>mean</th>\n",
       "      <th>std</th>\n",
       "      <th>min</th>\n",
       "      <th>25%</th>\n",
       "      <th>50%</th>\n",
       "      <th>75%</th>\n",
       "      <th>max</th>\n",
       "    </tr>\n",
       "    <tr>\n",
       "      <th>property_type</th>\n",
       "      <th>state_name</th>\n",
       "      <th></th>\n",
       "      <th></th>\n",
       "      <th></th>\n",
       "      <th></th>\n",
       "      <th></th>\n",
       "      <th></th>\n",
       "      <th></th>\n",
       "      <th></th>\n",
       "    </tr>\n",
       "  </thead>\n",
       "  <tbody>\n",
       "    <tr>\n",
       "      <th rowspan=\"2\" valign=\"top\">PH</th>\n",
       "      <th>Bs.As. G.B.A. Zona Norte</th>\n",
       "      <td>916.0</td>\n",
       "      <td>1713.57</td>\n",
       "      <td>1365.61</td>\n",
       "      <td>49.49</td>\n",
       "      <td>1049.50</td>\n",
       "      <td>1500.00</td>\n",
       "      <td>2020.38</td>\n",
       "      <td>16750.00</td>\n",
       "    </tr>\n",
       "    <tr>\n",
       "      <th>Capital Federal</th>\n",
       "      <td>1701.0</td>\n",
       "      <td>2993.00</td>\n",
       "      <td>11542.59</td>\n",
       "      <td>120.96</td>\n",
       "      <td>1310.81</td>\n",
       "      <td>1769.23</td>\n",
       "      <td>2300.00</td>\n",
       "      <td>248000.00</td>\n",
       "    </tr>\n",
       "    <tr>\n",
       "      <th rowspan=\"2\" valign=\"top\">apartment</th>\n",
       "      <th>Bs.As. G.B.A. Zona Norte</th>\n",
       "      <td>9472.0</td>\n",
       "      <td>2942.77</td>\n",
       "      <td>9937.61</td>\n",
       "      <td>10.57</td>\n",
       "      <td>1812.50</td>\n",
       "      <td>2322.58</td>\n",
       "      <td>2929.76</td>\n",
       "      <td>465000.00</td>\n",
       "    </tr>\n",
       "    <tr>\n",
       "      <th>Capital Federal</th>\n",
       "      <td>23206.0</td>\n",
       "      <td>3351.41</td>\n",
       "      <td>17546.00</td>\n",
       "      <td>3.21</td>\n",
       "      <td>2093.02</td>\n",
       "      <td>2536.66</td>\n",
       "      <td>3129.30</td>\n",
       "      <td>2600000.00</td>\n",
       "    </tr>\n",
       "    <tr>\n",
       "      <th rowspan=\"2\" valign=\"top\">house</th>\n",
       "      <th>Bs.As. G.B.A. Zona Norte</th>\n",
       "      <td>12459.0</td>\n",
       "      <td>2220.42</td>\n",
       "      <td>16642.28</td>\n",
       "      <td>4.17</td>\n",
       "      <td>887.37</td>\n",
       "      <td>1375.00</td>\n",
       "      <td>1795.16</td>\n",
       "      <td>1100000.00</td>\n",
       "    </tr>\n",
       "    <tr>\n",
       "      <th>Capital Federal</th>\n",
       "      <td>1832.0</td>\n",
       "      <td>4699.07</td>\n",
       "      <td>28380.82</td>\n",
       "      <td>20.18</td>\n",
       "      <td>935.67</td>\n",
       "      <td>1434.76</td>\n",
       "      <td>2065.05</td>\n",
       "      <td>510000.00</td>\n",
       "    </tr>\n",
       "    <tr>\n",
       "      <th rowspan=\"2\" valign=\"top\">store</th>\n",
       "      <th>Bs.As. G.B.A. Zona Norte</th>\n",
       "      <td>515.0</td>\n",
       "      <td>8757.28</td>\n",
       "      <td>98717.39</td>\n",
       "      <td>20.04</td>\n",
       "      <td>952.38</td>\n",
       "      <td>1514.29</td>\n",
       "      <td>2608.80</td>\n",
       "      <td>2166666.67</td>\n",
       "    </tr>\n",
       "    <tr>\n",
       "      <th>Capital Federal</th>\n",
       "      <td>1130.0</td>\n",
       "      <td>4944.35</td>\n",
       "      <td>11437.88</td>\n",
       "      <td>13.80</td>\n",
       "      <td>1595.59</td>\n",
       "      <td>2571.43</td>\n",
       "      <td>4200.41</td>\n",
       "      <td>192307.69</td>\n",
       "    </tr>\n",
       "  </tbody>\n",
       "</table>\n",
       "</div>"
      ],
      "text/plain": [
       "                                          count     mean       std     min  \\\n",
       "property_type state_name                                                     \n",
       "PH            Bs.As. G.B.A. Zona Norte    916.0  1713.57   1365.61   49.49   \n",
       "              Capital Federal            1701.0  2993.00  11542.59  120.96   \n",
       "apartment     Bs.As. G.B.A. Zona Norte   9472.0  2942.77   9937.61   10.57   \n",
       "              Capital Federal           23206.0  3351.41  17546.00    3.21   \n",
       "house         Bs.As. G.B.A. Zona Norte  12459.0  2220.42  16642.28    4.17   \n",
       "              Capital Federal            1832.0  4699.07  28380.82   20.18   \n",
       "store         Bs.As. G.B.A. Zona Norte    515.0  8757.28  98717.39   20.04   \n",
       "              Capital Federal            1130.0  4944.35  11437.88   13.80   \n",
       "\n",
       "                                            25%      50%      75%         max  \n",
       "property_type state_name                                                       \n",
       "PH            Bs.As. G.B.A. Zona Norte  1049.50  1500.00  2020.38    16750.00  \n",
       "              Capital Federal           1310.81  1769.23  2300.00   248000.00  \n",
       "apartment     Bs.As. G.B.A. Zona Norte  1812.50  2322.58  2929.76   465000.00  \n",
       "              Capital Federal           2093.02  2536.66  3129.30  2600000.00  \n",
       "house         Bs.As. G.B.A. Zona Norte   887.37  1375.00  1795.16  1100000.00  \n",
       "              Capital Federal            935.67  1434.76  2065.05   510000.00  \n",
       "store         Bs.As. G.B.A. Zona Norte   952.38  1514.29  2608.80  2166666.67  \n",
       "              Capital Federal           1595.59  2571.43  4200.41   192307.69  "
      ]
     },
     "execution_count": 98,
     "metadata": {},
     "output_type": "execute_result"
    }
   ],
   "source": [
    "data_agrupado = data.groupby(['property_type', 'state_name'])\n",
    "data_agrupado.describe()['USDxM2'].round(2)"
   ]
  },
  {
   "cell_type": "code",
   "execution_count": 99,
   "id": "essential-abortion",
   "metadata": {},
   "outputs": [],
   "source": [
    "# DEBIDO A QUE ESTAMOS FILTRANDO DESDE STATE NAME EN VEZ DE DESDE LA LOCALIDAD, ACA ELEGIMOS DEL 25%, CUANTAS MUESTRAS MENORES VAMOS A TOMAR Y DEL 75% CUANTAS MUESTRAS MAYORES\n",
    "MEN = 0.5\n",
    "MAY = 1.5\n"
   ]
  },
  {
   "cell_type": "code",
   "execution_count": 100,
   "id": "smooth-shannon",
   "metadata": {},
   "outputs": [
    {
     "name": "stdout",
     "output_type": "stream",
     "text": [
      "True     832\n",
      "False     84\n",
      "Name: USDxM2, dtype: int64\n"
     ]
    },
    {
     "data": {
      "text/plain": [
       "True    832\n",
       "Name: USDxM2, dtype: int64"
      ]
     },
     "execution_count": 100,
     "metadata": {},
     "output_type": "execute_result"
    }
   ],
   "source": [
    "Norte_PH = data.USDxM2[(data.state_name=='Bs.As. G.B.A. Zona Norte') & (data.property_type=='PH')]\n",
    "Norte_PH_min = Norte_PH > (1049.50 * MEN)\n",
    "Norte_PH_max = Norte_PH < (2020.38 * MAY)\n",
    "Norte_PH_fin = Norte_PH_min & Norte_PH_max\n",
    "print(Norte_PH_fin.value_counts())\n",
    "Norte_PH_finT = Norte_PH_fin[Norte_PH_fin==1]\n",
    "Norte_PH_finT.value_counts()"
   ]
  },
  {
   "cell_type": "code",
   "execution_count": 101,
   "id": "african-gambling",
   "metadata": {},
   "outputs": [
    {
     "name": "stdout",
     "output_type": "stream",
     "text": [
      "True     1539\n",
      "False     162\n",
      "Name: USDxM2, dtype: int64\n"
     ]
    },
    {
     "data": {
      "text/plain": [
       "True    1539\n",
       "Name: USDxM2, dtype: int64"
      ]
     },
     "execution_count": 101,
     "metadata": {},
     "output_type": "execute_result"
    }
   ],
   "source": [
    "Cap_PH = data.USDxM2[(data.state_name=='Capital Federal') & (data.property_type=='PH')]\n",
    "Cap_PH_min = Cap_PH > (1310.81 * MEN)\n",
    "Cap_PH_max = Cap_PH < (2300.00 * MAY)\n",
    "Cap_PH_fin = Cap_PH_min & Cap_PH_max\n",
    "print(Cap_PH_fin.value_counts())\n",
    "Cap_PH_finT = Cap_PH_fin[Cap_PH_fin==1]\n",
    "Cap_PH_finT.value_counts()"
   ]
  },
  {
   "cell_type": "code",
   "execution_count": 102,
   "id": "dental-costa",
   "metadata": {},
   "outputs": [
    {
     "name": "stdout",
     "output_type": "stream",
     "text": [
      "True     8909\n",
      "False     563\n",
      "Name: USDxM2, dtype: int64\n"
     ]
    },
    {
     "data": {
      "text/plain": [
       "True    8909\n",
       "Name: USDxM2, dtype: int64"
      ]
     },
     "execution_count": 102,
     "metadata": {},
     "output_type": "execute_result"
    }
   ],
   "source": [
    "Norte_apart = data.USDxM2[(data.state_name=='Bs.As. G.B.A. Zona Norte') & (data.property_type=='apartment')]\n",
    "Norte_apart_min = Norte_apart > (1812.50 * MEN)\n",
    "Norte_apart_max = Norte_apart < (2929.76 * MAY)\n",
    "Norte_apart_fin = Norte_apart_min & Norte_apart_max\n",
    "print(Norte_apart_fin.value_counts())\n",
    "Norte_apart_finT = Norte_apart_fin[Norte_apart_fin==1]\n",
    "Norte_apart_finT.value_counts()"
   ]
  },
  {
   "cell_type": "code",
   "execution_count": 103,
   "id": "forbidden-lobby",
   "metadata": {},
   "outputs": [
    {
     "name": "stdout",
     "output_type": "stream",
     "text": [
      "True     21007\n",
      "False     2199\n",
      "Name: USDxM2, dtype: int64\n"
     ]
    },
    {
     "data": {
      "text/plain": [
       "True    21007\n",
       "Name: USDxM2, dtype: int64"
      ]
     },
     "execution_count": 103,
     "metadata": {},
     "output_type": "execute_result"
    }
   ],
   "source": [
    "Cap_apart = data.USDxM2[(data.state_name=='Capital Federal') & (data.property_type=='apartment')]\n",
    "Cap_apart_min = Cap_apart > (2093.02 * MEN)\n",
    "Cap_apart_max = Cap_apart < (3129.30 * MAY)\n",
    "Cap_apart_fin = Cap_apart_min & Cap_apart_max\n",
    "print(Cap_apart_fin.value_counts())\n",
    "Cap_apart_finT = Cap_apart_fin[Cap_apart_fin==1]\n",
    "Cap_apart_finT.value_counts()"
   ]
  },
  {
   "cell_type": "code",
   "execution_count": 104,
   "id": "greek-answer",
   "metadata": {},
   "outputs": [
    {
     "name": "stdout",
     "output_type": "stream",
     "text": [
      "True     10211\n",
      "False     2248\n",
      "Name: USDxM2, dtype: int64\n"
     ]
    },
    {
     "data": {
      "text/plain": [
       "True    10211\n",
       "Name: USDxM2, dtype: int64"
      ]
     },
     "execution_count": 104,
     "metadata": {},
     "output_type": "execute_result"
    }
   ],
   "source": [
    "Norte_house = data.USDxM2[(data.state_name=='Bs.As. G.B.A. Zona Norte') & (data.property_type=='house')]\n",
    "Norte_house_min = Norte_house > (887.37 * MEN)\n",
    "Norte_house_max = Norte_house < (1795.16 * MAY)\n",
    "Norte_house_fin = Norte_house_min & Norte_house_max\n",
    "print(Norte_house_fin.value_counts())\n",
    "Norte_house_finT = Norte_house_fin[Norte_house_fin==1]\n",
    "Norte_house_finT.value_counts()"
   ]
  },
  {
   "cell_type": "code",
   "execution_count": 105,
   "id": "guilty-european",
   "metadata": {},
   "outputs": [
    {
     "name": "stdout",
     "output_type": "stream",
     "text": [
      "True     1588\n",
      "False     244\n",
      "Name: USDxM2, dtype: int64\n"
     ]
    },
    {
     "data": {
      "text/plain": [
       "True    1588\n",
       "Name: USDxM2, dtype: int64"
      ]
     },
     "execution_count": 105,
     "metadata": {},
     "output_type": "execute_result"
    }
   ],
   "source": [
    "Cap_house = data.USDxM2[(data.state_name=='Capital Federal') & (data.property_type=='house')]\n",
    "Cap_house_min = Cap_house > (935.67 * MEN)\n",
    "Cap_house_max = Cap_house < (2065.05 * MAY)\n",
    "Cap_house_fin = Cap_house_min & Cap_house_max\n",
    "print(Cap_house_fin.value_counts())\n",
    "Cap_house_finT = Cap_house_fin[Cap_house_fin==1]\n",
    "Cap_house_finT.value_counts()"
   ]
  },
  {
   "cell_type": "code",
   "execution_count": 106,
   "id": "immediate-summary",
   "metadata": {},
   "outputs": [
    {
     "name": "stdout",
     "output_type": "stream",
     "text": [
      "True     414\n",
      "False    101\n",
      "Name: USDxM2, dtype: int64\n"
     ]
    },
    {
     "data": {
      "text/plain": [
       "True    414\n",
       "Name: USDxM2, dtype: int64"
      ]
     },
     "execution_count": 106,
     "metadata": {},
     "output_type": "execute_result"
    }
   ],
   "source": [
    "Norte_store = data.USDxM2[(data.state_name=='Bs.As. G.B.A. Zona Norte') & (data.property_type=='store')]\n",
    "Norte_store_min = Norte_store > (952.38 * MEN)\n",
    "Norte_store_max = Norte_store < (2608.80 * MAY)\n",
    "Norte_store_fin = Norte_store_min & Norte_store_max\n",
    "print(Norte_store_fin.value_counts())\n",
    "Norte_store_finT = Norte_store_fin[Norte_store_fin==1]\n",
    "Norte_store_finT.value_counts()"
   ]
  },
  {
   "cell_type": "code",
   "execution_count": 107,
   "id": "intense-hartford",
   "metadata": {},
   "outputs": [
    {
     "name": "stdout",
     "output_type": "stream",
     "text": [
      "True     920\n",
      "False    210\n",
      "Name: USDxM2, dtype: int64\n"
     ]
    },
    {
     "data": {
      "text/plain": [
       "True    920\n",
       "Name: USDxM2, dtype: int64"
      ]
     },
     "execution_count": 107,
     "metadata": {},
     "output_type": "execute_result"
    }
   ],
   "source": [
    "Cap_store = data.USDxM2[(data.state_name=='Capital Federal') & (data.property_type=='store')]\n",
    "Cap_store_min = Cap_store > (1595.59 * MEN)\n",
    "Cap_store_max = Cap_store < (4200.41 * MAY)\n",
    "Cap_store_fin = Cap_store_min & Cap_store_max\n",
    "print(Cap_store_fin.value_counts())\n",
    "Cap_store_finT = Cap_store_fin[Cap_store_fin==1]\n",
    "Cap_store_finT.value_counts()"
   ]
  },
  {
   "cell_type": "code",
   "execution_count": 108,
   "id": "broad-development",
   "metadata": {},
   "outputs": [
    {
     "data": {
      "text/plain": [
       "0         1127.272727\n",
       "2         1309.090909\n",
       "6         1226.415094\n",
       "7         3066.666667\n",
       "8         3000.000000\n",
       "             ...     \n",
       "121158    3750.000000\n",
       "121160    2611.464968\n",
       "121216    1383.333333\n",
       "121217    2858.695652\n",
       "121219    1675.324675\n",
       "Name: USDxM2, Length: 45420, dtype: float64"
      ]
     },
     "execution_count": 108,
     "metadata": {},
     "output_type": "execute_result"
    }
   ],
   "source": [
    "parametro = data.USDxM2[(Norte_PH_finT.index) | (Cap_PH_finT.index) | (Norte_apart_finT.index) | (Cap_apart_finT.index) | (Norte_house_finT.index) | (Cap_house_finT.index) | (Norte_store_finT.index) | (Cap_store_finT.index)]\n",
    "parametro"
   ]
  },
  {
   "cell_type": "code",
   "execution_count": 109,
   "id": "improved-vaccine",
   "metadata": {},
   "outputs": [],
   "source": [
    "cf = data.loc[parametro.index]\n",
    "data = cf"
   ]
  },
  {
   "cell_type": "code",
   "execution_count": 110,
   "id": "korean-trace",
   "metadata": {},
   "outputs": [
    {
     "data": {
      "text/plain": [
       "(45420, 28)"
      ]
     },
     "execution_count": 110,
     "metadata": {},
     "output_type": "execute_result"
    }
   ],
   "source": [
    "data.shape"
   ]
  },
  {
   "cell_type": "code",
   "execution_count": 111,
   "id": "animal-cartridge",
   "metadata": {},
   "outputs": [
    {
     "data": {
      "image/png": "[encoded data removed]",
      "text/plain": [
       "<Figure size 504x360 with 1 Axes>"
      ]
     },
     "metadata": {},
     "output_type": "display_data"
    }
   ],
   "source": [
    "# Vemos como queda luego de la eliminación de los Outliers\n",
    "sns.set_style('darkgrid')\n",
    "plt.figure(figsize=(7, 5))\n",
    "sns.boxplot(data=data.state_name[data.property_type=='house'], x=data.state_name[data.property_type=='house'], y=data.USDxM2)\n",
    "\n",
    "plt.xlabel(\"Provincia\"); plt.ylabel(\"Usd/M2\");plt.title(\"Distribución Dólares por M2 por cada Casas\")\n",
    "plt.show()"
   ]
  },
  {
   "cell_type": "code",
   "execution_count": 112,
   "id": "serious-tractor",
   "metadata": {},
   "outputs": [
    {
     "data": {
      "image/png": "[encoded data removed]",
      "text/plain": [
       "<Figure size 504x360 with 1 Axes>"
      ]
     },
     "metadata": {},
     "output_type": "display_data"
    }
   ],
   "source": [
    "sns.set_style('darkgrid')\n",
    "plt.figure(figsize=(7, 5))\n",
    "sns.boxplot(data=data.state_name[data.property_type=='store'], x=data.state_name[data.property_type=='store'], y=data.USDxM2)\n",
    "\n",
    "plt.xlabel(\"Provincia\"); plt.ylabel(\"Usd/M2\");plt.title(\"Distribución Dólares por M2 por para Tiendas\")\n",
    "plt.show()"
   ]
  },
  {
   "cell_type": "code",
   "execution_count": 113,
   "id": "general-recall",
   "metadata": {},
   "outputs": [
    {
     "data": {
      "image/png": "[encoded data removed]",
      "text/plain": [
       "<Figure size 504x360 with 1 Axes>"
      ]
     },
     "metadata": {},
     "output_type": "display_data"
    }
   ],
   "source": [
    "sns.set_style('darkgrid')\n",
    "plt.figure(figsize=(7, 5))\n",
    "sns.boxplot(data=data.state_name[data.property_type=='apartment'], x=data.state_name[data.property_type=='apartment'], y=data.USDxM2)\n",
    "\n",
    "plt.xlabel(\"Provincia\"); plt.ylabel(\"Usd/M2\");plt.title(\"Distribución Dólares por M2 por para Departamentos\")\n",
    "plt.show()"
   ]
  },
  {
   "cell_type": "code",
   "execution_count": 114,
   "id": "posted-aviation",
   "metadata": {},
   "outputs": [
    {
     "data": {
      "image/png": "[encoded data removed]",
      "text/plain": [
       "<Figure size 504x360 with 1 Axes>"
      ]
     },
     "metadata": {},
     "output_type": "display_data"
    }
   ],
   "source": [
    "sns.set_style('darkgrid')\n",
    "plt.figure(figsize=(7, 5))\n",
    "sns.boxplot(data=data.state_name[data.property_type=='PH'], x=data.state_name[data.property_type=='PH'], y=data.USDxM2)\n",
    "\n",
    "plt.xlabel(\"Provincia\"); plt.ylabel(\"Usd/M2\");plt.title(\"Distribución Dólares por M2 por para PH\")\n",
    "plt.show()"
   ]
  },
  {
   "cell_type": "code",
   "execution_count": 115,
   "id": "weighted-coordinator",
   "metadata": {},
   "outputs": [
    {
     "data": {
      "text/html": [
       "<div>\n",
       "<style scoped>\n",
       "    .dataframe tbody tr th:only-of-type {\n",
       "        vertical-align: middle;\n",
       "    }\n",
       "\n",
       "    .dataframe tbody tr th {\n",
       "        vertical-align: top;\n",
       "    }\n",
       "\n",
       "    .dataframe thead tr th {\n",
       "        text-align: left;\n",
       "    }\n",
       "\n",
       "    .dataframe thead tr:last-of-type th {\n",
       "        text-align: right;\n",
       "    }\n",
       "</style>\n",
       "<table border=\"1\" class=\"dataframe\">\n",
       "  <thead>\n",
       "    <tr>\n",
       "      <th></th>\n",
       "      <th colspan=\"4\" halign=\"left\">USDxM2</th>\n",
       "      <th colspan=\"4\" halign=\"left\">price_aprox_usd</th>\n",
       "    </tr>\n",
       "    <tr>\n",
       "      <th>property_type</th>\n",
       "      <th>PH</th>\n",
       "      <th>apartment</th>\n",
       "      <th>house</th>\n",
       "      <th>store</th>\n",
       "      <th>PH</th>\n",
       "      <th>apartment</th>\n",
       "      <th>house</th>\n",
       "      <th>store</th>\n",
       "    </tr>\n",
       "    <tr>\n",
       "      <th>state_name</th>\n",
       "      <th></th>\n",
       "      <th></th>\n",
       "      <th></th>\n",
       "      <th></th>\n",
       "      <th></th>\n",
       "      <th></th>\n",
       "      <th></th>\n",
       "      <th></th>\n",
       "    </tr>\n",
       "  </thead>\n",
       "  <tbody>\n",
       "    <tr>\n",
       "      <th>Bs.As. G.B.A. Zona Norte</th>\n",
       "      <td>1530.034243</td>\n",
       "      <td>2368.329687</td>\n",
       "      <td>1409.965977</td>\n",
       "      <td>1591.946297</td>\n",
       "      <td>832</td>\n",
       "      <td>8909</td>\n",
       "      <td>10211</td>\n",
       "      <td>414</td>\n",
       "    </tr>\n",
       "    <tr>\n",
       "      <th>Capital Federal</th>\n",
       "      <td>1754.899068</td>\n",
       "      <td>2548.582022</td>\n",
       "      <td>1444.944704</td>\n",
       "      <td>2644.953995</td>\n",
       "      <td>1539</td>\n",
       "      <td>21007</td>\n",
       "      <td>1588</td>\n",
       "      <td>920</td>\n",
       "    </tr>\n",
       "  </tbody>\n",
       "</table>\n",
       "</div>"
      ],
      "text/plain": [
       "                               USDxM2                                         \\\n",
       "property_type                      PH    apartment        house        store   \n",
       "state_name                                                                     \n",
       "Bs.As. G.B.A. Zona Norte  1530.034243  2368.329687  1409.965977  1591.946297   \n",
       "Capital Federal           1754.899068  2548.582022  1444.944704  2644.953995   \n",
       "\n",
       "                         price_aprox_usd                         \n",
       "property_type                         PH apartment  house store  \n",
       "state_name                                                       \n",
       "Bs.As. G.B.A. Zona Norte             832      8909  10211   414  \n",
       "Capital Federal                     1539     21007   1588   920  "
      ]
     },
     "execution_count": 115,
     "metadata": {},
     "output_type": "execute_result"
    }
   ],
   "source": [
    "data.pivot_table(index='state_name', columns='property_type', aggfunc={'USDxM2':'mean', 'price_aprox_usd':'count'})"
   ]
  },
  {
   "cell_type": "markdown",
   "id": "sticky-control",
   "metadata": {},
   "source": [
    "### Análisis de Amenities"
   ]
  },
  {
   "cell_type": "markdown",
   "id": "included-florist",
   "metadata": {},
   "source": [
    "##### Búsqueda de Garage en description"
   ]
  },
  {
   "cell_type": "code",
   "execution_count": 116,
   "id": "motivated-commissioner",
   "metadata": {},
   "outputs": [],
   "source": [
    "garage_pattern = \"(?P<garage>cochera|garage|estacionamiento)\"\n",
    "garage_regex =  re.compile(garage_pattern)\n",
    "\n",
    "garage_match = data.description.apply(lambda x: x if x is np.NaN else garage_regex.search(x))\n",
    "garage_match_mask = garage_match.notnull()\n",
    "data.loc[garage_match_mask, \"Garage\"] = 1\n",
    "data[\"Garage\"].fillna(0,inplace=True)\n",
    "data.loc[:,\"Garage\"] = data.loc[:,\"Garage\"].astype(int)"
   ]
  },
  {
   "cell_type": "markdown",
   "id": "instant-moore",
   "metadata": {},
   "source": [
    "##### Búsqueda de propiedades \"A estrenar\" en description"
   ]
  },
  {
   "cell_type": "code",
   "execution_count": 117,
   "id": "million-adjustment",
   "metadata": {},
   "outputs": [],
   "source": [
    "estrenar_pattern = \"(?P<estrenar>(a estrenar)|(departamento nuevo))\"\n",
    "estrenar_regex =  re.compile(estrenar_pattern)\n",
    "\n",
    "estrenar_match = data.description.apply(lambda x: x if x is np.NaN else estrenar_regex.search(x))\n",
    "estrenar_match_mask = estrenar_match.notnull()\n",
    "data.loc[estrenar_match_mask, \"Estrenar\"] = 1\n",
    "data[\"Estrenar\"].fillna(0, inplace=True)\n",
    "data.loc[:,\"Estrenar\"] = data.loc[:,\"Estrenar\"].astype(int)"
   ]
  },
  {
   "cell_type": "markdown",
   "id": "dirty-dependence",
   "metadata": {},
   "source": [
    "##### Búsqueda de Pileta en description"
   ]
  },
  {
   "cell_type": "code",
   "execution_count": 118,
   "id": "cloudy-positive",
   "metadata": {},
   "outputs": [],
   "source": [
    "pileta_pattern = \"(?P<pileta>pileta|piscina|picina|pisina)\"\n",
    "pileta_regex =  re.compile(pileta_pattern)\n",
    "\n",
    "pileta_match = data.description.apply(lambda x: x if x is np.NaN else pileta_regex.search(x))\n",
    "pileta_match_mask = pileta_match.notnull()\n",
    "data.loc[pileta_match_mask, \"Pileta\"] = 1\n",
    "data[\"Pileta\"].fillna(0, inplace=True)\n",
    "data.loc[:,\"Pileta\"] = data.loc[:,\"Pileta\"].astype(int)"
   ]
  },
  {
   "cell_type": "markdown",
   "id": "young-recipe",
   "metadata": {},
   "source": [
    "##### Búsqueda de Balcón en description"
   ]
  },
  {
   "cell_type": "code",
   "execution_count": 119,
   "id": "affiliated-academy",
   "metadata": {},
   "outputs": [],
   "source": [
    "balcon_pattern = \"(?P<balcon>balcon|balcones|balcón)\"\n",
    "balcon_regex =  re.compile(balcon_pattern)\n",
    "\n",
    "balcon_match = data.description.apply(lambda x: x if x is np.NaN else balcon_regex.search(x))\n",
    "balcon_match_mask = balcon_match.notnull()\n",
    "data.loc[balcon_match_mask, \"Balcon\"] = 1\n",
    "data[\"Balcon\"].fillna(0, inplace=True)\n",
    "data.loc[:,\"Balcon\"] = data.loc[:,\"Balcon\"].astype(int)"
   ]
  },
  {
   "cell_type": "markdown",
   "id": "tracked-calgary",
   "metadata": {},
   "source": [
    "##### Búsqueda de Gimnasio en description"
   ]
  },
  {
   "cell_type": "code",
   "execution_count": 120,
   "id": "banner-superior",
   "metadata": {},
   "outputs": [],
   "source": [
    "gym_pattern = \"(?P<gym>gym|gimnasio|gimnacio)\"\n",
    "gym_regex =  re.compile(gym_pattern)\n",
    "\n",
    "gym_match = data.description.apply(lambda x: x if x is np.NaN else gym_regex.search(x))\n",
    "gym_match_mask = gym_match.notnull()\n",
    "data.loc[gym_match_mask, \"Gimnasio\"] = 1\n",
    "data[\"Gimnasio\"].fillna(0, inplace=True)\n",
    "data.loc[:,\"Gimnasio\"] = data.loc[:,\"Gimnasio\"].astype(int)"
   ]
  },
  {
   "cell_type": "markdown",
   "id": "detected-nebraska",
   "metadata": {},
   "source": [
    "##### Búsqueda de Quincho en description"
   ]
  },
  {
   "cell_type": "code",
   "execution_count": 121,
   "id": "passive-looking",
   "metadata": {},
   "outputs": [],
   "source": [
    "quincho_pattern = \"(?P<quincho>quincho|kincho|qincho|(\\ssum\\s))\"\n",
    "quincho_regex =  re.compile(quincho_pattern)\n",
    "\n",
    "quincho_match = data.description.apply(lambda x: x if x is np.NaN else quincho_regex.search(x))\n",
    "quincho_match_mask = quincho_match.notnull()\n",
    "data.loc[quincho_match_mask, \"Quincho\"] = 1\n",
    "data[\"Quincho\"].fillna(0, inplace=True)\n",
    "data.loc[:,\"Quincho\"] = data.loc[:,\"Quincho\"].astype(int)"
   ]
  },
  {
   "cell_type": "markdown",
   "id": "wound-brick",
   "metadata": {},
   "source": [
    "Tanto Garage como Estrenar van a ser dos columnas separadas\n",
    "\n",
    "La forma es imputación es a traves de variables dummies. Es decir, para cada amenitie agregamos una columna con el nombre de la misma y la completamos con 1 si el anuncio la indica y 0 en caso contrario."
   ]
  },
  {
   "cell_type": "code",
   "execution_count": 122,
   "id": "signal-namibia",
   "metadata": {},
   "outputs": [
    {
     "name": "stdout",
     "output_type": "stream",
     "text": [
      "Total de \"Quincho\" imputados: 2239\n",
      "Total de \"Gimnasio\" imputados: 2705\n",
      "Total de \"Balcon\" imputados: 13382\n",
      "Total de \"Pileta\" imputados: 9248\n",
      "Total de \"Garage\" imputados: 9813\n",
      "Total de \"Estrenar\" imputados: 2659\n"
     ]
    }
   ],
   "source": [
    "print(\"Total de \\\"{0}\\\" imputados: {1}\".format(\"Quincho\", data[\"Quincho\"].sum()))\n",
    "print(\"Total de \\\"{0}\\\" imputados: {1}\".format(\"Gimnasio\", data[\"Gimnasio\"].sum()))\n",
    "print(\"Total de \\\"{0}\\\" imputados: {1}\".format(\"Balcon\", data[\"Balcon\"].sum()))\n",
    "print(\"Total de \\\"{0}\\\" imputados: {1}\".format(\"Pileta\", data[\"Pileta\"].sum()))\n",
    "print(\"Total de \\\"{0}\\\" imputados: {1}\".format(\"Garage\", data[\"Garage\"].sum()))\n",
    "print(\"Total de \\\"{0}\\\" imputados: {1}\".format(\"Estrenar\", data[\"Estrenar\"].sum()))\n",
    "data['Amenities'] = data['Pileta'] + data['Quincho'] + data['Balcon'] + data['Gimnasio']"
   ]
  },
  {
   "cell_type": "markdown",
   "id": "initial-bottle",
   "metadata": {},
   "source": [
    " 1ER CONCLUSION LAS COLUMNAS DE PRICE POR M2 NO SE CONSIDERARAN PORQUE SE GENERARON A PARTIR DE DATOS DE SUPERFICIE Y PRECIO YA LIMPIOS Y ANALIZADOS\n",
    " \n",
    " 3ER CONCLUSION LA COLUMNA ROOMS ES IMPORTANTE PORQUE DA VALOR AL DATASET, SE LLENARÀN LOS NULOS EN LA COLUMNA ROOMS."
   ]
  },
  {
   "cell_type": "markdown",
   "id": "orange-referral",
   "metadata": {},
   "source": [
    "#### Busqueda de Ambientes en title y description"
   ]
  },
  {
   "cell_type": "code",
   "execution_count": 123,
   "id": "primary-jamaica",
   "metadata": {},
   "outputs": [],
   "source": [
    "rooms_pattern = \"\\s(?P<ambientes>\\d\\d?)(\\s?)(?P<sufijo>AMB|amb|Amb)\"\n",
    "rooms_regex =  re.compile(rooms_pattern)\n",
    "\n",
    "rooms_match = data.description.apply(lambda x: x if x is np.NaN else rooms_regex.search(x))\n",
    "rooms_match_mask = rooms_match.notnull()\n",
    "data.loc[rooms_match_mask, \"Ambientes\"] = rooms_match[rooms_match_mask].apply(lambda x: x.group(\"ambientes\"))"
   ]
  },
  {
   "cell_type": "code",
   "execution_count": 124,
   "id": "recorded-dressing",
   "metadata": {},
   "outputs": [
    {
     "name": "stdout",
     "output_type": "stream",
     "text": [
      "Cantidad rooms null en data inicial: 17583\n"
     ]
    }
   ],
   "source": [
    "data[\"Ambientes\"] = data[\"Ambientes\"].astype(float)\n",
    "data.loc[(pd.isnull(data[\"rooms\"])),\"rooms\"] = data[\"Ambientes\"]\n",
    "print('Cantidad rooms null en data inicial:', data[\"rooms\"].isnull().sum())"
   ]
  },
  {
   "cell_type": "markdown",
   "id": "differential-coalition",
   "metadata": {},
   "source": [
    "Con el fin de buscar nulos por tipo de propiedad para ver cuanto peso tiene cada nulo por categorìa, generamos una mascara por columna analizada en esta seccion"
   ]
  },
  {
   "cell_type": "code",
   "execution_count": 125,
   "id": "cleared-progressive",
   "metadata": {},
   "outputs": [],
   "source": [
    "data['suptotnulo']= data.surface_total_in_m2.isnull()\n",
    "data['supcubnulo']= data.surface_covered_in_m2.isnull()\n",
    "data['ambnulo']= data.rooms.isnull()"
   ]
  },
  {
   "cell_type": "code",
   "execution_count": 126,
   "id": "industrial-bouquet",
   "metadata": {},
   "outputs": [
    {
     "data": {
      "text/html": [
       "<div>\n",
       "<style scoped>\n",
       "    .dataframe tbody tr th:only-of-type {\n",
       "        vertical-align: middle;\n",
       "    }\n",
       "\n",
       "    .dataframe tbody tr th {\n",
       "        vertical-align: top;\n",
       "    }\n",
       "\n",
       "    .dataframe thead th {\n",
       "        text-align: right;\n",
       "    }\n",
       "</style>\n",
       "<table border=\"1\" class=\"dataframe\">\n",
       "  <thead>\n",
       "    <tr style=\"text-align: right;\">\n",
       "      <th></th>\n",
       "      <th>suptotnulo</th>\n",
       "      <th>supcubnulo</th>\n",
       "      <th>ambnulo</th>\n",
       "    </tr>\n",
       "    <tr>\n",
       "      <th>property_type</th>\n",
       "      <th></th>\n",
       "      <th></th>\n",
       "      <th></th>\n",
       "    </tr>\n",
       "  </thead>\n",
       "  <tbody>\n",
       "    <tr>\n",
       "      <th>PH</th>\n",
       "      <td>613</td>\n",
       "      <td>78</td>\n",
       "      <td>573</td>\n",
       "    </tr>\n",
       "    <tr>\n",
       "      <th>apartment</th>\n",
       "      <td>5666</td>\n",
       "      <td>1067</td>\n",
       "      <td>7397</td>\n",
       "    </tr>\n",
       "    <tr>\n",
       "      <th>house</th>\n",
       "      <td>3054</td>\n",
       "      <td>366</td>\n",
       "      <td>8367</td>\n",
       "    </tr>\n",
       "    <tr>\n",
       "      <th>store</th>\n",
       "      <td>240</td>\n",
       "      <td>125</td>\n",
       "      <td>1246</td>\n",
       "    </tr>\n",
       "  </tbody>\n",
       "</table>\n",
       "</div>"
      ],
      "text/plain": [
       "               suptotnulo  supcubnulo  ambnulo\n",
       "property_type                                 \n",
       "PH                    613          78      573\n",
       "apartment            5666        1067     7397\n",
       "house                3054         366     8367\n",
       "store                 240         125     1246"
      ]
     },
     "execution_count": 126,
     "metadata": {},
     "output_type": "execute_result"
    }
   ],
   "source": [
    "#aca hago una tabla con nulos discriminado por tipo de propiedad\n",
    "data.groupby(['property_type']).aggregate({'suptotnulo': 'sum', 'supcubnulo': 'sum', 'ambnulo': 'sum'})"
   ]
  },
  {
   "cell_type": "markdown",
   "id": "organic-masters",
   "metadata": {},
   "source": [
    "ANALISIS A: SUPERFICIE EN RELACION A LOS AMBIENTES\n"
   ]
  },
  {
   "cell_type": "markdown",
   "id": "former-marijuana",
   "metadata": {},
   "source": [
    "La idea es ver que por ejemplo los 2 ambientes tienen un rango de m2 y los 3 ambientes tambien se encuentran en cierto rango de m2, vamos a ver esa relacion \n",
    "graficando la relacion que hay entre cantidad de ambientes y superficie"
   ]
  },
  {
   "cell_type": "code",
   "execution_count": 127,
   "id": "angry-titanium",
   "metadata": {},
   "outputs": [
    {
     "data": {
      "text/plain": [
       "<AxesSubplot:xlabel='Ambientes', ylabel='surface_covered_in_m2'>"
      ]
     },
     "execution_count": 127,
     "metadata": {},
     "output_type": "execute_result"
    },
    {
     "data": {
      "image/png": "[encoded data removed]",
      "text/plain": [
       "<Figure size 432x288 with 1 Axes>"
      ]
     },
     "metadata": {},
     "output_type": "display_data"
    }
   ],
   "source": [
    "data.plot.scatter(x='Ambientes',y='surface_covered_in_m2', c='DarkBlue')"
   ]
  },
  {
   "cell_type": "markdown",
   "id": "distinguished-boost",
   "metadata": {},
   "source": [
    "Conclusion: se pueden sacar outliers de propiedades de mas de 2000 m2 y propiedades de mas de 15 ambientes"
   ]
  },
  {
   "cell_type": "code",
   "execution_count": 128,
   "id": "still-tunisia",
   "metadata": {},
   "outputs": [
    {
     "data": {
      "text/plain": [
       "(43737, 39)"
      ]
     },
     "execution_count": 128,
     "metadata": {},
     "output_type": "execute_result"
    }
   ],
   "source": [
    "#superficie mayor a 10.000m2\n",
    "data = data[data['surface_covered_in_m2'] < 2000]\n",
    "data.shape"
   ]
  },
  {
   "cell_type": "code",
   "execution_count": 129,
   "id": "considerable-launch",
   "metadata": {},
   "outputs": [
    {
     "data": {
      "text/plain": [
       "(43734, 39)"
      ]
     },
     "execution_count": 129,
     "metadata": {},
     "output_type": "execute_result"
    }
   ],
   "source": [
    "#hago una mascara para graficar valores de menos de 13 ambientes\n",
    "data = data[data['Ambientes'].fillna(0) <13]\n",
    "data.shape"
   ]
  },
  {
   "cell_type": "markdown",
   "id": "active-argument",
   "metadata": {},
   "source": [
    "CONCLUSION, SE ELIMINAN DEL DATASET OUTLIERS DE INDICES DE MAS DE 15 AMBIENTES Y SUPERFICIES MAYORES A 2000M2"
   ]
  },
  {
   "cell_type": "code",
   "execution_count": 130,
   "id": "endless-annual",
   "metadata": {},
   "outputs": [
    {
     "data": {
      "image/png": "[encoded data removed]",
      "text/plain": [
       "<Figure size 432x288 with 1 Axes>"
      ]
     },
     "metadata": {},
     "output_type": "display_data"
    }
   ],
   "source": [
    "ax2 = data.plot.scatter(x='Ambientes', y='surface_covered_in_m2', c='DarkBlue')"
   ]
  },
  {
   "cell_type": "code",
   "execution_count": 131,
   "id": "valued-august",
   "metadata": {},
   "outputs": [],
   "source": [
    "data.drop([\"metros1\", \"metros2\", \"metros3\", \"metros4\", \"M2\", \"Pileta\", \"Balcon\", \"Gimnasio\", \n",
    "           \"Quincho\", \"suptotnulo\", \"suptotnulo\", \"supcubnulo\", \"ambnulo\"], axis=1, inplace = True)"
   ]
  },
  {
   "cell_type": "code",
   "execution_count": 132,
   "id": "personal-prototype",
   "metadata": {},
   "outputs": [
    {
     "data": {
      "text/plain": [
       "2.0     5773\n",
       "3.0     5709\n",
       "4.0     3549\n",
       "1.0     1100\n",
       "5.0      828\n",
       "6.0      245\n",
       "7.0      105\n",
       "8.0       21\n",
       "9.0       13\n",
       "11.0       6\n",
       "10.0       5\n",
       "12.0       1\n",
       "Name: Ambientes, dtype: int64"
      ]
     },
     "execution_count": 132,
     "metadata": {},
     "output_type": "execute_result"
    }
   ],
   "source": [
    "data.Ambientes.value_counts()"
   ]
  },
  {
   "cell_type": "markdown",
   "id": "understood-receiver",
   "metadata": {},
   "source": [
    "## CONCLUSIÓN: se genera un nuevo dataset final, el cual se va a exportar para el próximo análisis"
   ]
  },
  {
   "cell_type": "markdown",
   "id": "geological-puppy",
   "metadata": {},
   "source": [
    "Primero se eliminan las columnas que no se van a utilizar, se dejan las nuevas columnas que se generaron luego del análisis del dataset original"
   ]
  },
  {
   "cell_type": "code",
   "execution_count": 133,
   "id": "variable-structure",
   "metadata": {},
   "outputs": [],
   "source": [
    "data.drop([\"operation\", \"country_name\", 'place_with_parent_names',\"geonames_id\", 'lat', 'lon','currency',\n",
    "           'price','price_aprox_local_currency','surface_total_in_m2','surface_covered_in_m2','price_usd_per_m2',\n",
    "           'price_per_m2','rooms'], axis=1, inplace = True)"
   ]
  },
  {
   "cell_type": "markdown",
   "id": "informative-conditions",
   "metadata": {},
   "source": [
    "Luego se renombran las columnas, para generar el dataset final"
   ]
  },
  {
   "cell_type": "code",
   "execution_count": 134,
   "id": "collect-lemon",
   "metadata": {},
   "outputs": [],
   "source": [
    "data.rename(columns={'property_type':'Tipo_Propiedad','place_name':'Barrio','state_name':'Región','price_aprox_usd':'Precio','description':'Descripción','title':'Título','m2_calculated':'Metros_cuadrados','USDxM2':'Precio_por_m2','Estrenar':'Estado'},inplace=True)\n"
   ]
  },
  {
   "cell_type": "markdown",
   "id": "nearby-advance",
   "metadata": {},
   "source": [
    "Se hace una revisión del nuevo dataset con un \"info\""
   ]
  },
  {
   "cell_type": "code",
   "execution_count": 139,
   "id": "spiritual-telescope",
   "metadata": {},
   "outputs": [
    {
     "name": "stdout",
     "output_type": "stream",
     "text": [
      "<class 'pandas.core.frame.DataFrame'>\n",
      "Int64Index: 43734 entries, 0 to 121219\n",
      "Data columns (total 13 columns):\n",
      " #   Column            Non-Null Count  Dtype  \n",
      "---  ------            --------------  -----  \n",
      " 0   Tipo_Propiedad    43734 non-null  object \n",
      " 1   Barrio            43734 non-null  object \n",
      " 2   Región            43734 non-null  object \n",
      " 3   lat-lon           27500 non-null  object \n",
      " 4   Precio            43734 non-null  float64\n",
      " 5   Descripción       43733 non-null  object \n",
      " 6   Título            43734 non-null  object \n",
      " 7   Metros_cuadrados  43734 non-null  float64\n",
      " 8   Precio_por_m2     43734 non-null  float64\n",
      " 9   Garage            43734 non-null  int32  \n",
      " 10  Estado            43734 non-null  int32  \n",
      " 11  Amenities         43734 non-null  int32  \n",
      " 12  Ambientes         17355 non-null  float64\n",
      "dtypes: float64(4), int32(3), object(6)\n",
      "memory usage: 4.2+ MB\n"
     ]
    }
   ],
   "source": [
    "data.info()"
   ]
  },
  {
   "cell_type": "markdown",
   "id": "focused-startup",
   "metadata": {},
   "source": [
    "Finalmente exportamos el dataset para el análisis final"
   ]
  },
  {
   "cell_type": "code",
   "execution_count": 138,
   "id": "possible-triangle",
   "metadata": {},
   "outputs": [],
   "source": [
    "data.to_csv('properati-fase2.csv', sep=',', index=False)"
   ]
  }
 ],
 "metadata": {
  "kernelspec": {
   "display_name": "Python 3",
   "language": "python",
   "name": "python3"
  },
  "language_info": {
   "codemirror_mode": {
    "name": "ipython",
    "version": 3
   },
   "file_extension": ".py",
   "mimetype": "text/x-python",
   "name": "python",
   "nbconvert_exporter": "python",
   "pygments_lexer": "ipython3",
   "version": "3.8.5"
  }
 },
 "nbformat": 4,
 "nbformat_minor": 5
}
